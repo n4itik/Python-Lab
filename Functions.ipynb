{
  "nbformat": 4,
  "nbformat_minor": 0,
  "metadata": {
    "colab": {
      "name": "Functions.ipynb",
      "provenance": []
    },
    "kernelspec": {
      "name": "python3",
      "display_name": "Python 3"
    }
  },
  "cells": [
    {
      "cell_type": "markdown",
      "metadata": {
        "id": "zSHKK_QxAmvX"
      },
      "source": [
        "#Function\n"
      ]
    },
    {
      "cell_type": "markdown",
      "metadata": {
        "id": "RQJ7MaF1UiQo"
      },
      "source": [
        "###Definition"
      ]
    },
    {
      "cell_type": "code",
      "metadata": {
        "id": "YGaKkpL4AZW8"
      },
      "source": [
        "def my_function():\n",
        "  print(\"Hello World\")"
      ],
      "execution_count": 1,
      "outputs": []
    },
    {
      "cell_type": "markdown",
      "metadata": {
        "id": "vfyHLVSIUhDN"
      },
      "source": [
        "###Invocation"
      ]
    },
    {
      "cell_type": "code",
      "metadata": {
        "id": "-2N19UMYU70S",
        "colab": {
          "base_uri": "https://localhost:8080/"
        },
        "outputId": "629d9f63-046d-48ff-f285-0b36958b8fd7"
      },
      "source": [
        "def my_function():\n",
        "  print(\"Hello World\")\n",
        "\n",
        "my_function()"
      ],
      "execution_count": 2,
      "outputs": [
        {
          "output_type": "stream",
          "text": [
            "Hello World\n"
          ],
          "name": "stdout"
        }
      ]
    },
    {
      "cell_type": "code",
      "metadata": {
        "id": "gadhZobgGOff",
        "colab": {
          "base_uri": "https://localhost:8080/"
        },
        "outputId": "53a92c50-b955-4ded-f786-fee270294aa8"
      },
      "source": [
        "def square(x):\n",
        "    print(x*x)\n",
        "\n",
        "for i in range(10):\n",
        "    square(i)"
      ],
      "execution_count": 3,
      "outputs": [
        {
          "output_type": "stream",
          "text": [
            "0\n",
            "1\n",
            "4\n",
            "9\n",
            "16\n",
            "25\n",
            "36\n",
            "49\n",
            "64\n",
            "81\n"
          ],
          "name": "stdout"
        }
      ]
    },
    {
      "cell_type": "markdown",
      "metadata": {
        "id": "oWWfQExwVZbA"
      },
      "source": [
        "##Arguments"
      ]
    },
    {
      "cell_type": "code",
      "metadata": {
        "id": "2mP1iHyPW19Z",
        "colab": {
          "base_uri": "https://localhost:8080/"
        },
        "outputId": "5c7ceb5b-f7d8-4f90-df84-76b3a16ee0eb"
      },
      "source": [
        "def greet(name):\n",
        "    print(\"Hello\", name)\n",
        "\n",
        "greet(\"Noah\")"
      ],
      "execution_count": 4,
      "outputs": [
        {
          "output_type": "stream",
          "text": [
            "Hello Noah\n"
          ],
          "name": "stdout"
        }
      ]
    },
    {
      "cell_type": "markdown",
      "metadata": {
        "id": "DVNACovTXlCp"
      },
      "source": [
        "###Keyword Arguments"
      ]
    },
    {
      "cell_type": "code",
      "metadata": {
        "id": "a1FHKZqSYJoi",
        "colab": {
          "base_uri": "https://localhost:8080/"
        },
        "outputId": "1e93fe2f-3c78-4615-bd46-ed8533bea476"
      },
      "source": [
        "def cardetails(model, year):\n",
        "    print(\"Model:\", model)\n",
        "    print(\"Year:\", year)\n",
        "\n",
        "cardetails(\"Chiron\", 2020)"
      ],
      "execution_count": 5,
      "outputs": [
        {
          "output_type": "stream",
          "text": [
            "Model: Chiron\n",
            "Year: 2020\n"
          ],
          "name": "stdout"
        }
      ]
    },
    {
      "cell_type": "markdown",
      "metadata": {
        "id": "1QvHbRDDYljV"
      },
      "source": [
        "###Default Arguments"
      ]
    },
    {
      "cell_type": "code",
      "metadata": {
        "id": "RUBtqjIIY2Cy",
        "colab": {
          "base_uri": "https://localhost:8080/"
        },
        "outputId": "1dc2ad31-203a-4bf5-fb4c-40fb621d5aa8"
      },
      "source": [
        "def bill(product_name, price, discount = 0.1):\n",
        "    print(\"Product:\", product_name)\n",
        "    print(\"Price: Rs.\", price)\n",
        "    print(\"Discount: Rs.\", price*discount)\n",
        "\n",
        "bill(\"Jeans\", 1200) #discount is a default argument"
      ],
      "execution_count": 6,
      "outputs": [
        {
          "output_type": "stream",
          "text": [
            "Product: Jeans\n",
            "Price: Rs. 1200\n",
            "Discount: Rs. 120.0\n"
          ],
          "name": "stdout"
        }
      ]
    },
    {
      "cell_type": "markdown",
      "metadata": {
        "id": "N9-IXATbcVTw"
      },
      "source": [
        "###Variable Length Arguments"
      ]
    },
    {
      "cell_type": "code",
      "metadata": {
        "id": "voD31YcDdOzY",
        "colab": {
          "base_uri": "https://localhost:8080/"
        },
        "outputId": "af4ed839-2f0b-4c4f-b895-c9c9bea4d20a"
      },
      "source": [
        "def avg(*nums):\n",
        "    \n",
        "    total = 0\n",
        "    n = len(nums)\n",
        "    \n",
        "    for i in nums:\n",
        "        total += i\n",
        " \n",
        "    avg = total/n\n",
        "    print(\"Average:\", avg)\n",
        " \n",
        "avg(56, 92, 68, 87, 100)"
      ],
      "execution_count": 7,
      "outputs": [
        {
          "output_type": "stream",
          "text": [
            "Average: 80.6\n"
          ],
          "name": "stdout"
        }
      ]
    },
    {
      "cell_type": "markdown",
      "metadata": {
        "id": "XUrgy_xkgzvt"
      },
      "source": [
        "##**pass** Statement"
      ]
    },
    {
      "cell_type": "code",
      "metadata": {
        "id": "LPUSOc54helG"
      },
      "source": [
        "#Empty function\n",
        "\n",
        "def func():\n",
        "    pass\n",
        "\n",
        "func()"
      ],
      "execution_count": 8,
      "outputs": []
    },
    {
      "cell_type": "markdown",
      "metadata": {
        "id": "sZi-6fioeu-H"
      },
      "source": [
        "##**return** Statement"
      ]
    },
    {
      "cell_type": "code",
      "metadata": {
        "id": "GPGJg2hXgUGH",
        "colab": {
          "base_uri": "https://localhost:8080/"
        },
        "outputId": "07655613-c249-4b65-c7e5-40bbebd10abc"
      },
      "source": [
        "def cube(num):\n",
        "    c = num ** 3\n",
        "    return c\n",
        "\n",
        "print(cube(7))"
      ],
      "execution_count": 9,
      "outputs": [
        {
          "output_type": "stream",
          "text": [
            "343\n"
          ],
          "name": "stdout"
        }
      ]
    },
    {
      "cell_type": "markdown",
      "metadata": {
        "id": "-UuyaRMVeAF_"
      },
      "source": [
        "##Recursion"
      ]
    },
    {
      "cell_type": "code",
      "metadata": {
        "id": "LWV0kUgFfY6l",
        "colab": {
          "base_uri": "https://localhost:8080/"
        },
        "outputId": "02b77bd9-2c80-4873-9098-2e5b11add884"
      },
      "source": [
        "def factorial(x):\n",
        "\n",
        "    x = int(x)\n",
        "    if x == 0:\n",
        "        return 1\n",
        "    \n",
        "    else:\n",
        "        return (x * factorial(x-1))\n",
        "\n",
        "\n",
        "num = int(input(\"Enter a number : \"))\n",
        "print(f\"The factorial of {num} is {factorial(num)}.\")"
      ],
      "execution_count": 10,
      "outputs": [
        {
          "output_type": "stream",
          "text": [
            "Enter a number : 6\n",
            "The factorial of 6 is 720.\n"
          ],
          "name": "stdout"
        }
      ]
    },
    {
      "cell_type": "markdown",
      "metadata": {
        "id": "4qhYQOJNkx-g"
      },
      "source": [
        "#Special Functions\n",
        "\n"
      ]
    },
    {
      "cell_type": "markdown",
      "metadata": {
        "id": "SzPLwwCAwJwC"
      },
      "source": [
        "###**lambda** Function\n",
        "An anonymous function defined within a single line.<br>\n",
        "There can be any number of arguments given to a lambda function."
      ]
    },
    {
      "cell_type": "code",
      "metadata": {
        "id": "0WCc5DZAjVwD",
        "colab": {
          "base_uri": "https://localhost:8080/"
        },
        "outputId": "c2ae31a2-1ae9-498b-979c-496f84d21fff"
      },
      "source": [
        "'''\n",
        "def sum(a, b):\n",
        "    return(a+b)\n",
        "print(sum(13, 25))\n",
        "'''\n",
        "sum = lambda a, b : a + b\n",
        "\n",
        "print(sum(13, 25))"
      ],
      "execution_count": 11,
      "outputs": [
        {
          "output_type": "stream",
          "text": [
            "38\n"
          ],
          "name": "stdout"
        }
      ]
    },
    {
      "cell_type": "markdown",
      "metadata": {
        "id": "Rula9-lKpNT3"
      },
      "source": [
        "A lambda function can itself be used within a function and the function returns the function itself."
      ]
    },
    {
      "cell_type": "code",
      "metadata": {
        "id": "5Dypko3mpo23",
        "colab": {
          "base_uri": "https://localhost:8080/"
        },
        "outputId": "d3acbfb3-0431-4e54-eff5-60d4fe46d50c"
      },
      "source": [
        "def multiplier(n):\n",
        "  return lambda a : a * n\n",
        "\n",
        "#Funtion to double a number\n",
        "doubler = lambda a : a * 2\n",
        "\n",
        "#Function to triple a number\n",
        "tripler = lambda a : a * 3\n",
        "\n",
        "print(doubler(12))\n",
        "print(tripler(12))"
      ],
      "execution_count": 12,
      "outputs": [
        {
          "output_type": "stream",
          "text": [
            "24\n",
            "36\n"
          ],
          "name": "stdout"
        }
      ]
    },
    {
      "cell_type": "markdown",
      "metadata": {
        "id": "h_A67EQiwHDW"
      },
      "source": [
        "###**map()** Function\n",
        "To apply a given function over a sequence and return the result."
      ]
    },
    {
      "cell_type": "code",
      "metadata": {
        "id": "zyW1BohuyiJA",
        "colab": {
          "base_uri": "https://localhost:8080/"
        },
        "outputId": "5a9be2c5-e502-4c14-e308-e56b1fec5d6b"
      },
      "source": [
        "# Double all numbers using map and lambda \n",
        "\n",
        "numbers = (1, 2, 3, 4) \n",
        "result = map(lambda x: x * 2, numbers)\n",
        "print(list(result)) "
      ],
      "execution_count": 13,
      "outputs": [
        {
          "output_type": "stream",
          "text": [
            "[2, 4, 6, 8]\n"
          ],
          "name": "stdout"
        }
      ]
    },
    {
      "cell_type": "code",
      "metadata": {
        "colab": {
          "base_uri": "https://localhost:8080/"
        },
        "id": "usjPVsG5Bvx9",
        "outputId": "c15012b3-1c11-4b06-e640-12dbe65903c1"
      },
      "source": [
        "(a,b,c) = map(int,input(\"Enter 3 numbers: \").split())\n",
        "print(b)\n",
        "print(type(c))"
      ],
      "execution_count": 14,
      "outputs": [
        {
          "output_type": "stream",
          "text": [
            "Enter 3 numbers: 32 56 98\n",
            "56\n",
            "<class 'int'>\n"
          ],
          "name": "stdout"
        }
      ]
    },
    {
      "cell_type": "markdown",
      "metadata": {
        "id": "GeZ9rwZi4tRv"
      },
      "source": [
        "###**zip()** Function\n",
        "Takes in iterables as arguments and returns an iterator.<br>\n",
        "This iterator generates a series of tuples containing elements from each iterable."
      ]
    },
    {
      "cell_type": "code",
      "metadata": {
        "id": "pSeJWvhr5fXg",
        "colab": {
          "base_uri": "https://localhost:8080/"
        },
        "outputId": "ea8ee164-ff0d-427a-d131-ba0f02c723b3"
      },
      "source": [
        "numbers = [1, 2, 3]\n",
        "letters = ['a', 'b', 'c']\n",
        "\n",
        "zipped = zip(numbers, letters)\n",
        "\n",
        "print(list(zipped))"
      ],
      "execution_count": 15,
      "outputs": [
        {
          "output_type": "stream",
          "text": [
            "[(1, 'a'), (2, 'b'), (3, 'c')]\n"
          ],
          "name": "stdout"
        }
      ]
    },
    {
      "cell_type": "code",
      "metadata": {
        "id": "hRGm8UQl6BeO",
        "colab": {
          "base_uri": "https://localhost:8080/"
        },
        "outputId": "f9276ce8-90d8-41a8-aff8-634e199d174d"
      },
      "source": [
        "integers = [1, 2, 3]\n",
        "letters = ['a', 'b', 'c']\n",
        "floats = [4.0, 5.0, 6.0]\n",
        "\n",
        "zipped = zip(numbers, letters, floats)\n",
        "\n",
        "print(list(zipped))"
      ],
      "execution_count": 16,
      "outputs": [
        {
          "output_type": "stream",
          "text": [
            "[(1, 'a', 4.0), (2, 'b', 5.0), (3, 'c', 6.0)]\n"
          ],
          "name": "stdout"
        }
      ]
    },
    {
      "cell_type": "markdown",
      "metadata": {
        "id": "2OUJfCM4Le_U"
      },
      "source": [
        "##Decorators\n",
        "Special functions that are used to decorate other functions.<br>\n",
        "The functions that are decorated execute another function (decorating function) before executing themselves."
      ]
    },
    {
      "cell_type": "code",
      "metadata": {
        "id": "sJE3c1gQRA2R"
      },
      "source": [
        "# Ordinary function\n",
        "def ordinary():\n",
        "    print(\"Ordinary Function\")\n",
        "\n",
        "# Decorating function\n",
        "def prettify(func):\n",
        "    def inner():\n",
        "        print(\"*****************\")\n",
        "        func()\n",
        "        print(\"*****************\")\n",
        "    return inner"
      ],
      "execution_count": 17,
      "outputs": []
    },
    {
      "cell_type": "code",
      "metadata": {
        "id": "hRJFQOHfRgXF",
        "colab": {
          "base_uri": "https://localhost:8080/"
        },
        "outputId": "085616e8-cb62-491a-8f98-08c8da1fcf3c"
      },
      "source": [
        "ordinary()"
      ],
      "execution_count": 18,
      "outputs": [
        {
          "output_type": "stream",
          "text": [
            "Ordinary Function\n"
          ],
          "name": "stdout"
        }
      ]
    },
    {
      "cell_type": "code",
      "metadata": {
        "id": "jrPB_rn0Rnmi",
        "colab": {
          "base_uri": "https://localhost:8080/"
        },
        "outputId": "51573e71-c160-415d-c883-8cc7f5714d7b"
      },
      "source": [
        "@prettify\n",
        "def ordinary():\n",
        "    print(\"Ordinary Function\")\n",
        "\n",
        "ordinary()"
      ],
      "execution_count": 19,
      "outputs": [
        {
          "output_type": "stream",
          "text": [
            "*****************\n",
            "Ordinary Function\n",
            "*****************\n"
          ],
          "name": "stdout"
        }
      ]
    }
  ]
}