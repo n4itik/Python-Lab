{
  "nbformat": 4,
  "nbformat_minor": 0,
  "metadata": {
    "colab": {
      "name": "Dictionaries.ipynb",
      "provenance": [],
      "authorship_tag": "ABX9TyMujIQMMz1idufw08zqJgQc"
    },
    "kernelspec": {
      "name": "python3",
      "display_name": "Python 3"
    },
    "language_info": {
      "name": "python"
    }
  },
  "cells": [
    {
      "cell_type": "markdown",
      "metadata": {
        "id": "JkH1kaTl8S5V"
      },
      "source": [
        "#Dictionary\n",
        "\n",
        "A dictionary is a mutable, associative data structure of variable length.\n",
        "\n",
        "It has keys and values. Each key is unique and is associated with a value."
      ]
    },
    {
      "cell_type": "code",
      "metadata": {
        "id": "y71_cXft5ckg",
        "colab": {
          "base_uri": "https://localhost:8080/"
        },
        "outputId": "a493e021-0414-4106-f65b-6cfb11bef54e"
      },
      "source": [
        "car = {\n",
        "  \"company\": \"Ford\",\n",
        "  \"model\": \"Mustang\",\n",
        "  \"year\": 1964\n",
        "}\n",
        "\n",
        "car"
      ],
      "execution_count": 1,
      "outputs": [
        {
          "output_type": "execute_result",
          "data": {
            "text/plain": [
              "{'company': 'Ford', 'model': 'Mustang', 'year': 1964}"
            ]
          },
          "metadata": {},
          "execution_count": 1
        }
      ]
    },
    {
      "cell_type": "markdown",
      "metadata": {
        "id": "udVK-It9-pub"
      },
      "source": [
        "##Accessing Data from a dictionary\n",
        "\n",
        "The data from a dictionary is accessed using keys."
      ]
    },
    {
      "cell_type": "code",
      "metadata": {
        "id": "0qDyF2yb_xqo",
        "colab": {
          "base_uri": "https://localhost:8080/"
        },
        "outputId": "a84ca4b6-95a8-4faa-d8f7-6c836c35067d"
      },
      "source": [
        "car = {\n",
        "  \"company\": \"Ford\",\n",
        "  \"model\": \"Mustang\",\n",
        "  \"year\": 1964\n",
        "}\n",
        " \n",
        "for key in car.keys():\n",
        "    print(car[key])"
      ],
      "execution_count": 2,
      "outputs": [
        {
          "output_type": "stream",
          "name": "stdout",
          "text": [
            "Ford\n",
            "Mustang\n",
            "1964\n"
          ]
        }
      ]
    },
    {
      "cell_type": "markdown",
      "metadata": {
        "id": "H2f_cyMl_-m4"
      },
      "source": [
        "There is also a method **get()** which is used to access values from a dictionary."
      ]
    },
    {
      "cell_type": "code",
      "metadata": {
        "id": "01Q_so5HAK0e",
        "colab": {
          "base_uri": "https://localhost:8080/",
          "height": 35
        },
        "outputId": "07ba4f5d-541d-4706-f528-937b1e70ca1a"
      },
      "source": [
        "car = {\n",
        "  \"company\": \"Ford\",\n",
        "  \"model\": \"Mustang\",\n",
        "  \"year\": 1964\n",
        "}\n",
        "\n",
        "model = car.get(\"company\")\n",
        "model"
      ],
      "execution_count": 3,
      "outputs": [
        {
          "output_type": "execute_result",
          "data": {
            "application/vnd.google.colaboratory.intrinsic+json": {
              "type": "string"
            },
            "text/plain": [
              "'Ford'"
            ]
          },
          "metadata": {},
          "execution_count": 3
        }
      ]
    },
    {
      "cell_type": "markdown",
      "metadata": {
        "id": "EvLZc-1QBQ2W"
      },
      "source": [
        "##Adding items\n",
        "\n",
        "An item in a dictionary can be simply added by creating a dictionary key and assigning a value to it."
      ]
    },
    {
      "cell_type": "code",
      "metadata": {
        "id": "yf-RDGFxBgfP",
        "colab": {
          "base_uri": "https://localhost:8080/"
        },
        "outputId": "55b0f675-9230-4b52-b66f-4ef2b320985e"
      },
      "source": [
        "car = {\n",
        "  \"company\": \"Ford\",\n",
        "  \"model\": \"Mustang\",\n",
        "  \"year\": 1964\n",
        "}\n",
        "\n",
        "car[\"price\"] = \"$100k\"\n",
        "\n",
        "car"
      ],
      "execution_count": 4,
      "outputs": [
        {
          "output_type": "execute_result",
          "data": {
            "text/plain": [
              "{'company': 'Ford', 'model': 'Mustang', 'price': '$100k', 'year': 1964}"
            ]
          },
          "metadata": {},
          "execution_count": 4
        }
      ]
    },
    {
      "cell_type": "markdown",
      "metadata": {
        "id": "-Pe4weHdAdhh"
      },
      "source": [
        "##Updating Dictionary Values"
      ]
    },
    {
      "cell_type": "code",
      "metadata": {
        "id": "9xm9sh6JAk7m",
        "colab": {
          "base_uri": "https://localhost:8080/"
        },
        "outputId": "049c07f6-016a-4340-81ad-83bbc65c4c90"
      },
      "source": [
        "car = {\n",
        "  \"company\": \"Ford\",\n",
        "  \"model\": \"Mustang\",\n",
        "  \"year\": 1964\n",
        "}\n",
        "\n",
        "car[\"company\"] = \"Buggati\"\n",
        "car[\"model\"] = \"Veron\"\n",
        "\n",
        "car"
      ],
      "execution_count": 5,
      "outputs": [
        {
          "output_type": "execute_result",
          "data": {
            "text/plain": [
              "{'company': 'Buggati', 'model': 'Veron', 'year': 1964}"
            ]
          },
          "metadata": {},
          "execution_count": 5
        }
      ]
    },
    {
      "cell_type": "markdown",
      "metadata": {
        "id": "wftn9CyHDJ5q"
      },
      "source": [
        "##Deleting from a Dictionary"
      ]
    },
    {
      "cell_type": "markdown",
      "metadata": {
        "id": "-Z992p48DOSC"
      },
      "source": [
        "###**pop()** method\n",
        "\n",
        "This method is used to delete an object with a specified key."
      ]
    },
    {
      "cell_type": "code",
      "metadata": {
        "id": "8Bba4-f9DrIv",
        "colab": {
          "base_uri": "https://localhost:8080/"
        },
        "outputId": "9e38c81b-b58e-4278-c219-5e0e64e66109"
      },
      "source": [
        "car = {\n",
        "  \"company\": \"Ford\",\n",
        "  \"model\": \"Mustang\",\n",
        "  \"year\": 1964\n",
        "}\n",
        "\n",
        "car.pop(\"model\")\n",
        "\n",
        "car"
      ],
      "execution_count": 6,
      "outputs": [
        {
          "output_type": "execute_result",
          "data": {
            "text/plain": [
              "{'company': 'Ford', 'year': 1964}"
            ]
          },
          "metadata": {},
          "execution_count": 6
        }
      ]
    },
    {
      "cell_type": "markdown",
      "metadata": {
        "id": "bIfeYvFYDzB9"
      },
      "source": [
        "###**popitem()** method\n",
        "\n",
        "This method is used to delete an object with the last index."
      ]
    },
    {
      "cell_type": "code",
      "metadata": {
        "id": "11QgQdlSDzCJ",
        "colab": {
          "base_uri": "https://localhost:8080/"
        },
        "outputId": "d08013c4-4550-4a8f-849c-d070d4fdaac6"
      },
      "source": [
        "car = {\n",
        "  \"company\": \"Ford\",\n",
        "  \"model\": \"Mustang\",\n",
        "  \"year\": 1964\n",
        "}\n",
        "\n",
        "car.popitem()\n",
        "\n",
        "car"
      ],
      "execution_count": 7,
      "outputs": [
        {
          "output_type": "execute_result",
          "data": {
            "text/plain": [
              "{'company': 'Ford', 'model': 'Mustang'}"
            ]
          },
          "metadata": {},
          "execution_count": 7
        }
      ]
    },
    {
      "cell_type": "markdown",
      "metadata": {
        "id": "tXN9Wj_IEEuq"
      },
      "source": [
        "###**del** keyword\n",
        "\n",
        "This del keyword to delete an object with the specified dictionary object."
      ]
    },
    {
      "cell_type": "code",
      "metadata": {
        "id": "D-m919TBEEuv",
        "colab": {
          "base_uri": "https://localhost:8080/"
        },
        "outputId": "3cab618c-878b-4216-8909-1971db4f16c4"
      },
      "source": [
        "car = {\n",
        "  \"company\": \"Ford\",\n",
        "  \"model\": \"Mustang\",\n",
        "  \"year\": 1964\n",
        "}\n",
        "\n",
        "del car[\"company\"]\n",
        "\n",
        "car"
      ],
      "execution_count": 8,
      "outputs": [
        {
          "output_type": "execute_result",
          "data": {
            "text/plain": [
              "{'model': 'Mustang', 'year': 1964}"
            ]
          },
          "metadata": {},
          "execution_count": 8
        }
      ]
    },
    {
      "cell_type": "markdown",
      "metadata": {
        "id": "-Nu12vAeA4v1"
      },
      "source": [
        "##Check if key exists\n",
        "\n",
        "The **in** keyword is used to check if a key exists in a dictionary."
      ]
    },
    {
      "cell_type": "code",
      "metadata": {
        "id": "EmRaQu21BCY2",
        "colab": {
          "base_uri": "https://localhost:8080/"
        },
        "outputId": "517512f4-9e24-4c78-aa83-570c8358f062"
      },
      "source": [
        "car = {\n",
        "  \"brand\": \"Ford\",\n",
        "  \"model\": \"Mustang\",\n",
        "  \"year\": 1964\n",
        "}\n",
        "\n",
        "\"model\" in car"
      ],
      "execution_count": 9,
      "outputs": [
        {
          "output_type": "execute_result",
          "data": {
            "text/plain": [
              "True"
            ]
          },
          "metadata": {},
          "execution_count": 9
        }
      ]
    },
    {
      "cell_type": "markdown",
      "metadata": {
        "id": "9tCvJCn7CL6R"
      },
      "source": [
        "##Dictionary Methods"
      ]
    },
    {
      "cell_type": "markdown",
      "metadata": {
        "id": "7G2BvhAiCPHc"
      },
      "source": [
        "###**keys()** method\n",
        "\n",
        "This method gives us a list of all the keys in the dictionary."
      ]
    },
    {
      "cell_type": "code",
      "metadata": {
        "id": "lQUdjmFACdXp",
        "colab": {
          "base_uri": "https://localhost:8080/"
        },
        "outputId": "a556120d-91ae-4c8a-939b-43f6a9de4d7f"
      },
      "source": [
        "car = {\n",
        "  \"brand\": \"Ford\",\n",
        "  \"model\": \"Mustang\",\n",
        "  \"year\": 1964\n",
        "}\n",
        "\n",
        "car.keys()"
      ],
      "execution_count": 10,
      "outputs": [
        {
          "output_type": "execute_result",
          "data": {
            "text/plain": [
              "dict_keys(['brand', 'model', 'year'])"
            ]
          },
          "metadata": {},
          "execution_count": 10
        }
      ]
    },
    {
      "cell_type": "markdown",
      "metadata": {
        "id": "TWbSyx8ACZkB"
      },
      "source": [
        "###**values()** method\n",
        "\n",
        "This method gives us a list of all the values in the dictionary."
      ]
    },
    {
      "cell_type": "code",
      "metadata": {
        "id": "u4m-dZ3XCmUU",
        "colab": {
          "base_uri": "https://localhost:8080/"
        },
        "outputId": "01747b91-4cfb-4e44-d383-d8c7998779c6"
      },
      "source": [
        "car = {\n",
        "  \"brand\": \"Ford\",\n",
        "  \"model\": \"Mustang\",\n",
        "  \"year\": 1964\n",
        "}\n",
        "\n",
        "car.values()"
      ],
      "execution_count": 11,
      "outputs": [
        {
          "output_type": "execute_result",
          "data": {
            "text/plain": [
              "dict_values(['Ford', 'Mustang', 1964])"
            ]
          },
          "metadata": {},
          "execution_count": 11
        }
      ]
    },
    {
      "cell_type": "markdown",
      "metadata": {
        "id": "WAK8DjHsCzwK"
      },
      "source": [
        "###**items()** method\n",
        "\n",
        "This method gives us a list of tuple of all the key value pairs in the dictionary."
      ]
    },
    {
      "cell_type": "code",
      "metadata": {
        "id": "bf71UZPSCzwM",
        "colab": {
          "base_uri": "https://localhost:8080/"
        },
        "outputId": "85f4d34f-1b6e-44c9-f578-ab6ca5b51daa"
      },
      "source": [
        "car = {\n",
        "  \"brand\": \"Ford\",\n",
        "  \"model\": \"Mustang\",\n",
        "  \"year\": 1964\n",
        "}\n",
        "\n",
        "car.items()"
      ],
      "execution_count": 12,
      "outputs": [
        {
          "output_type": "execute_result",
          "data": {
            "text/plain": [
              "dict_items([('brand', 'Ford'), ('model', 'Mustang'), ('year', 1964)])"
            ]
          },
          "metadata": {},
          "execution_count": 12
        }
      ]
    },
    {
      "cell_type": "markdown",
      "metadata": {
        "id": "yynn-w2MEjIj"
      },
      "source": [
        "##Nested Dictionary\n"
      ]
    },
    {
      "cell_type": "code",
      "metadata": {
        "id": "xE_5B6hGE6NW"
      },
      "source": [
        "Cars = {\n",
        "  \"car1\" : {\n",
        "    \"company\" : \"Audi\",\n",
        "    \"model\" : \"A6\"\n",
        "  },\n",
        "  \"car2\" : {\n",
        "    \"company\" : \"Lamborghini\",\n",
        "    \"model\" : \"Ferrari\"\n",
        "  },\n",
        "  \"car3\" : {\n",
        "    \"company\" : \"Bugatti\",\n",
        "    \"model\" : \"Chiron\"\n",
        "  }\n",
        "}"
      ],
      "execution_count": 13,
      "outputs": []
    },
    {
      "cell_type": "markdown",
      "metadata": {
        "id": "wQCPMIzbFwhp"
      },
      "source": [
        "###Accessing from a nested dictionary."
      ]
    },
    {
      "cell_type": "code",
      "metadata": {
        "id": "6C7F0C7AF1Iq",
        "colab": {
          "base_uri": "https://localhost:8080/"
        },
        "outputId": "a1b17c22-bbd7-4202-d661-7a1dc069c691"
      },
      "source": [
        "#Getting the first car from the dictionary\n",
        "car = Cars[\"car1\"]\n",
        "car"
      ],
      "execution_count": 14,
      "outputs": [
        {
          "output_type": "execute_result",
          "data": {
            "text/plain": [
              "{'company': 'Audi', 'model': 'A6'}"
            ]
          },
          "metadata": {},
          "execution_count": 14
        }
      ]
    },
    {
      "cell_type": "code",
      "metadata": {
        "id": "lpFBkViYGAI9",
        "colab": {
          "base_uri": "https://localhost:8080/",
          "height": 35
        },
        "outputId": "7b476cf1-a39c-400a-d7a9-c6649dc7619f"
      },
      "source": [
        "#Getting the model of the first car\n",
        "car[\"model\"]"
      ],
      "execution_count": 15,
      "outputs": [
        {
          "output_type": "execute_result",
          "data": {
            "application/vnd.google.colaboratory.intrinsic+json": {
              "type": "string"
            },
            "text/plain": [
              "'A6'"
            ]
          },
          "metadata": {},
          "execution_count": 15
        }
      ]
    },
    {
      "cell_type": "markdown",
      "metadata": {
        "id": "bRDKfpv_hdXV"
      },
      "source": [
        "###Problems"
      ]
    },
    {
      "cell_type": "markdown",
      "metadata": {
        "id": "NT5ABNahS37h"
      },
      "source": [
        "\n",
        "To count the frequency of each character in a string."
      ]
    },
    {
      "cell_type": "code",
      "metadata": {
        "id": "P7RCWHwXhoH3",
        "colab": {
          "base_uri": "https://localhost:8080/"
        },
        "outputId": "5fc807fc-dda1-4688-e21c-67953a697b80"
      },
      "source": [
        "str1 = input(\"Enter a string: \")\n",
        "\n",
        "dict = {}\n",
        "\n",
        "for n in str1:\n",
        "    keys = dict.keys()\n",
        "\n",
        "    if n in keys:\n",
        "        dict[n] += 1\n",
        "    else:\n",
        "        dict[n] = 1\n",
        "\n",
        "print(dict)"
      ],
      "execution_count": 16,
      "outputs": [
        {
          "output_type": "stream",
          "name": "stdout",
          "text": [
            "Enter a string: Harry Potter\n",
            "{'H': 1, 'a': 1, 'r': 3, 'y': 1, ' ': 1, 'P': 1, 'o': 1, 't': 2, 'e': 1}\n"
          ]
        }
      ]
    },
    {
      "cell_type": "markdown",
      "metadata": {
        "id": "K6jP-bf3S6Yi"
      },
      "source": [
        "To find the squares of all the numbers from 1 to 15."
      ]
    },
    {
      "cell_type": "code",
      "metadata": {
        "id": "kKCwVYP5w4MG",
        "colab": {
          "base_uri": "https://localhost:8080/"
        },
        "outputId": "5ede363c-dc3f-4bdf-cab2-cdb2cd5dccba"
      },
      "source": [
        "num = list(range(1, 16))\n",
        "\n",
        "dict = {}\n",
        "\n",
        "for i in num:\n",
        "    dict[i] = i*i\n",
        "\n",
        "print(dict)"
      ],
      "execution_count": 17,
      "outputs": [
        {
          "output_type": "stream",
          "name": "stdout",
          "text": [
            "{1: 1, 2: 4, 3: 9, 4: 16, 5: 25, 6: 36, 7: 49, 8: 64, 9: 81, 10: 100, 11: 121, 12: 144, 13: 169, 14: 196, 15: 225}\n"
          ]
        }
      ]
    }
  ]
}