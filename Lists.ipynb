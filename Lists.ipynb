{
  "nbformat": 4,
  "nbformat_minor": 0,
  "metadata": {
    "colab": {
      "name": "Lists.ipynb",
      "provenance": [],
      "collapsed_sections": []
    },
    "kernelspec": {
      "name": "python3",
      "display_name": "Python 3"
    }
  },
  "cells": [
    {
      "cell_type": "markdown",
      "metadata": {
        "id": "QlN_-xD2DZB5"
      },
      "source": [
        "#Lists"
      ]
    },
    {
      "cell_type": "code",
      "metadata": {
        "id": "VJAmNcP5EqRr",
        "colab": {
          "base_uri": "https://localhost:8080/"
        },
        "outputId": "a9c2f9b8-aef9-45d0-db28-bfdaae6386ae"
      },
      "source": [
        "lst = [1, 2, 3]\n",
        "\n",
        "print(lst)"
      ],
      "execution_count": 1,
      "outputs": [
        {
          "output_type": "stream",
          "text": [
            "[1, 2, 3]\n"
          ],
          "name": "stdout"
        }
      ]
    },
    {
      "cell_type": "code",
      "metadata": {
        "id": "jqLR5XkUEuy8",
        "colab": {
          "base_uri": "https://localhost:8080/"
        },
        "outputId": "f53c9804-fbb0-40da-a8f4-0a0e8545f85b"
      },
      "source": [
        "lst = [\"Apple\", 734, 'h', 26.5]  \n",
        "lst[-1]"
      ],
      "execution_count": 2,
      "outputs": [
        {
          "output_type": "execute_result",
          "data": {
            "text/plain": [
              "26.5"
            ]
          },
          "metadata": {},
          "execution_count": 2
        }
      ]
    },
    {
      "cell_type": "markdown",
      "metadata": {
        "id": "SokPaYmBEuL9"
      },
      "source": [
        "###Accessing Items"
      ]
    },
    {
      "cell_type": "code",
      "metadata": {
        "id": "74rNSOqasPLk",
        "colab": {
          "base_uri": "https://localhost:8080/"
        },
        "outputId": "8748f63d-1666-4b27-cc2e-03ff477725d3"
      },
      "source": [
        "lst = [\"Koenigsegg\", \"Tesla\", \"Lamborghini\", \"Buggati\"]\n",
        "\n",
        "for item in lst:\n",
        "    print(item)"
      ],
      "execution_count": 3,
      "outputs": [
        {
          "output_type": "stream",
          "text": [
            "Koenigsegg\n",
            "Tesla\n",
            "Lamborghini\n",
            "Buggati\n"
          ],
          "name": "stdout"
        }
      ]
    },
    {
      "cell_type": "markdown",
      "metadata": {
        "id": "rEm30ByDH5VJ"
      },
      "source": [
        "###Slicing"
      ]
    },
    {
      "cell_type": "code",
      "metadata": {
        "id": "OPmelZAPIFY8",
        "colab": {
          "base_uri": "https://localhost:8080/"
        },
        "outputId": "604134dd-ae1e-424b-d5d7-038e2cebe3e4"
      },
      "source": [
        "lst = [1, 2, 3, 4, 5, 6, 7, 8, 9]\n",
        "\n",
        "lst[2:8]"
      ],
      "execution_count": 4,
      "outputs": [
        {
          "output_type": "execute_result",
          "data": {
            "text/plain": [
              "[3, 4, 5, 6, 7, 8]"
            ]
          },
          "metadata": {},
          "execution_count": 4
        }
      ]
    },
    {
      "cell_type": "markdown",
      "metadata": {
        "id": "IOVZz2FnIOQS"
      },
      "source": [
        "###Updating"
      ]
    },
    {
      "cell_type": "code",
      "metadata": {
        "id": "v_cTdekWIYhJ",
        "colab": {
          "base_uri": "https://localhost:8080/"
        },
        "outputId": "cd31442a-a773-4d40-cb5d-116ed7270e74"
      },
      "source": [
        "lst = [\"Koenigsegg\", \"Tesla\", \"Lamborghini\", \"Buggati\"] \n",
        "\n",
        "lst[3] = \"Audi\"\n",
        "\n",
        "lst"
      ],
      "execution_count": 5,
      "outputs": [
        {
          "output_type": "execute_result",
          "data": {
            "text/plain": [
              "['Koenigsegg', 'Tesla', 'Lamborghini', 'Audi']"
            ]
          },
          "metadata": {},
          "execution_count": 5
        }
      ]
    },
    {
      "cell_type": "markdown",
      "metadata": {
        "id": "NjaSqf2IJaZR"
      },
      "source": [
        "##Adding to Lists"
      ]
    },
    {
      "cell_type": "markdown",
      "metadata": {
        "id": "4nlRvMOVRGxe"
      },
      "source": [
        "###Concatenation"
      ]
    },
    {
      "cell_type": "code",
      "metadata": {
        "id": "3lwUiRrJJa-Q",
        "colab": {
          "base_uri": "https://localhost:8080/"
        },
        "outputId": "9a49a858-1c01-488c-e983-b1b8adf4c7df"
      },
      "source": [
        "list1 = [\"Koenigsegg\", \"Tesla\", \"Lamborghini\", \"Buggati\"] \n",
        "list2 = [\"Audi\", \"Mercedes\", \"BMW\"] \n",
        "\n",
        "list1 + list2"
      ],
      "execution_count": 6,
      "outputs": [
        {
          "output_type": "execute_result",
          "data": {
            "text/plain": [
              "['Koenigsegg', 'Tesla', 'Lamborghini', 'Buggati', 'Audi', 'Mercedes', 'BMW']"
            ]
          },
          "metadata": {},
          "execution_count": 6
        }
      ]
    },
    {
      "cell_type": "markdown",
      "metadata": {
        "id": "adISyfpwROsY"
      },
      "source": [
        "###**append()** method"
      ]
    },
    {
      "cell_type": "code",
      "metadata": {
        "id": "LPMNHAAVRXlJ",
        "colab": {
          "base_uri": "https://localhost:8080/"
        },
        "outputId": "dfdec0ed-fcd0-4e8a-97e3-6add3528f2a3"
      },
      "source": [
        "lst = [1, 2, 3, 4]\n",
        "\n",
        "lst.append(5)\n",
        "\n",
        "lst"
      ],
      "execution_count": 7,
      "outputs": [
        {
          "output_type": "execute_result",
          "data": {
            "text/plain": [
              "[1, 2, 3, 4, 5]"
            ]
          },
          "metadata": {},
          "execution_count": 7
        }
      ]
    },
    {
      "cell_type": "markdown",
      "metadata": {
        "id": "G_CZ7-CnMfVc"
      },
      "source": [
        "###**extend()** method"
      ]
    },
    {
      "cell_type": "code",
      "metadata": {
        "id": "ieP9wANhM0OG",
        "colab": {
          "base_uri": "https://localhost:8080/"
        },
        "outputId": "1f5804a7-0361-4024-d2f9-c96dc0115a30"
      },
      "source": [
        "list1 = [\"Koenigsegg\", \"Tesla\", \"Lamborghini\", \"Buggati\"]\n",
        "list2 = [\"Audi\", \"Mercedes\", \"BMW\"] \n",
        "\n",
        "list1.extend(list2)\n",
        "\n",
        "list1"
      ],
      "execution_count": 8,
      "outputs": [
        {
          "output_type": "execute_result",
          "data": {
            "text/plain": [
              "['Koenigsegg', 'Tesla', 'Lamborghini', 'Buggati', 'Audi', 'Mercedes', 'BMW']"
            ]
          },
          "metadata": {},
          "execution_count": 8
        }
      ]
    },
    {
      "cell_type": "markdown",
      "metadata": {
        "id": "nNyjeCJwI1IO"
      },
      "source": [
        "##Deleting from a List\n"
      ]
    },
    {
      "cell_type": "markdown",
      "metadata": {
        "id": "Cg9jhuuBLeej"
      },
      "source": [
        "###**del** keyword\n"
      ]
    },
    {
      "cell_type": "code",
      "metadata": {
        "id": "TNUqTQu1JG9i",
        "colab": {
          "base_uri": "https://localhost:8080/"
        },
        "outputId": "9b4e8a0c-9b79-4b48-ddc1-5cb381fe7d6d"
      },
      "source": [
        "lst = [\"Koenigsegg\", \"Tesla\", \"Lamborghini\", \"Buggati\"]\n",
        "\n",
        "del lst[2]\n",
        "\n",
        "lst"
      ],
      "execution_count": 9,
      "outputs": [
        {
          "output_type": "execute_result",
          "data": {
            "text/plain": [
              "['Koenigsegg', 'Tesla', 'Buggati']"
            ]
          },
          "metadata": {},
          "execution_count": 9
        }
      ]
    },
    {
      "cell_type": "markdown",
      "metadata": {
        "id": "UXqc8XopU-Ok"
      },
      "source": [
        "###**remove()** method"
      ]
    },
    {
      "cell_type": "code",
      "metadata": {
        "id": "MCkuFpWiVIB8",
        "colab": {
          "base_uri": "https://localhost:8080/"
        },
        "outputId": "dd41c45f-1a83-422a-be63-f2305f4bd1bb"
      },
      "source": [
        "lst = [\"Koenigsegg\", \"Tesla\", \"Lamborghini\", \"Buggati\"] \n",
        "\n",
        "lst.remove(\"Tesla\")\n",
        "\n",
        "lst"
      ],
      "execution_count": 10,
      "outputs": [
        {
          "output_type": "execute_result",
          "data": {
            "text/plain": [
              "['Koenigsegg', 'Lamborghini', 'Buggati']"
            ]
          },
          "metadata": {},
          "execution_count": 10
        }
      ]
    },
    {
      "cell_type": "markdown",
      "metadata": {
        "id": "0rOeQZDqKf06"
      },
      "source": [
        "###**pop()** method "
      ]
    },
    {
      "cell_type": "code",
      "metadata": {
        "id": "C-VqsOTEKrcv",
        "colab": {
          "base_uri": "https://localhost:8080/"
        },
        "outputId": "cf3d6e54-36bc-465c-9279-aa70dc18b714"
      },
      "source": [
        "lst = [\"Koenigsegg\", \"Tesla\", \"Lamborghini\", \"Buggati\"]\n",
        "\n",
        "lst.pop()\n",
        "\n",
        "lst"
      ],
      "execution_count": 11,
      "outputs": [
        {
          "output_type": "execute_result",
          "data": {
            "text/plain": [
              "['Koenigsegg', 'Tesla', 'Lamborghini']"
            ]
          },
          "metadata": {},
          "execution_count": 11
        }
      ]
    },
    {
      "cell_type": "code",
      "metadata": {
        "id": "LncptlqcLD2B",
        "colab": {
          "base_uri": "https://localhost:8080/"
        },
        "outputId": "176c87dc-5bde-439b-ca8a-71ac8c74b1ea"
      },
      "source": [
        "lst = [\"Koenigsegg\", \"Tesla\", \"Lamborghini\", \"Buggati\"] \n",
        "\n",
        "lst.pop(2)\n",
        "lst"
      ],
      "execution_count": 12,
      "outputs": [
        {
          "output_type": "execute_result",
          "data": {
            "text/plain": [
              "['Koenigsegg', 'Tesla', 'Buggati']"
            ]
          },
          "metadata": {},
          "execution_count": 12
        }
      ]
    },
    {
      "cell_type": "markdown",
      "metadata": {
        "id": "o82FSKX8Ja-N"
      },
      "source": [
        "##Repeating Items"
      ]
    },
    {
      "cell_type": "code",
      "metadata": {
        "id": "NZV7uoXvU6pP",
        "colab": {
          "base_uri": "https://localhost:8080/"
        },
        "outputId": "cef67593-5066-42e2-fcd5-c342a8848a54"
      },
      "source": [
        "lst = [5]*10\n",
        "lst"
      ],
      "execution_count": 13,
      "outputs": [
        {
          "output_type": "execute_result",
          "data": {
            "text/plain": [
              "[5, 5, 5, 5, 5, 5, 5, 5, 5, 5]"
            ]
          },
          "metadata": {},
          "execution_count": 13
        }
      ]
    },
    {
      "cell_type": "code",
      "metadata": {
        "id": "gXhrOo1uJaZW",
        "colab": {
          "base_uri": "https://localhost:8080/"
        },
        "outputId": "d6a1ec93-0074-4f3f-ff83-e4b08c517c72"
      },
      "source": [
        "lst = [\"Kiwi\"]\n",
        "\n",
        "lst*4"
      ],
      "execution_count": 14,
      "outputs": [
        {
          "output_type": "execute_result",
          "data": {
            "text/plain": [
              "['Kiwi', 'Kiwi', 'Kiwi', 'Kiwi']"
            ]
          },
          "metadata": {},
          "execution_count": 14
        }
      ]
    },
    {
      "cell_type": "markdown",
      "metadata": {
        "id": "qai-tsVaRtrB"
      },
      "source": [
        "##Methods"
      ]
    },
    {
      "cell_type": "markdown",
      "metadata": {
        "id": "fsXInA4UWHNA"
      },
      "source": [
        "###**index()**"
      ]
    },
    {
      "cell_type": "code",
      "metadata": {
        "id": "20AmYPB-Wcbc",
        "colab": {
          "base_uri": "https://localhost:8080/"
        },
        "outputId": "7ef5d5e1-49f2-475a-a323-b28a0e13093f"
      },
      "source": [
        "lst = [23, 12, 5, 1, 2, 3, 4, 1, 8, 9]\n",
        "\n",
        "lst.index(1)\n"
      ],
      "execution_count": 15,
      "outputs": [
        {
          "output_type": "execute_result",
          "data": {
            "text/plain": [
              "3"
            ]
          },
          "metadata": {},
          "execution_count": 15
        }
      ]
    },
    {
      "cell_type": "markdown",
      "metadata": {
        "id": "MQkqxRZOSBLw"
      },
      "source": [
        "###**count()**"
      ]
    },
    {
      "cell_type": "code",
      "metadata": {
        "id": "WVqkI86bST5e",
        "colab": {
          "base_uri": "https://localhost:8080/"
        },
        "outputId": "b6c73794-9d70-453b-d202-832df1f8f246"
      },
      "source": [
        "lst = [1, 1, 2, 8, 4, 1, 8, 9]\n",
        "\n",
        "lst.count(8)"
      ],
      "execution_count": 16,
      "outputs": [
        {
          "output_type": "execute_result",
          "data": {
            "text/plain": [
              "2"
            ]
          },
          "metadata": {},
          "execution_count": 16
        }
      ]
    },
    {
      "cell_type": "markdown",
      "metadata": {
        "id": "GoKueasbScNf"
      },
      "source": [
        "###**max()**"
      ]
    },
    {
      "cell_type": "code",
      "metadata": {
        "id": "hUwDK20lSoQd",
        "colab": {
          "base_uri": "https://localhost:8080/"
        },
        "outputId": "664caef4-5411-43e2-8ab7-fc3118055c4e"
      },
      "source": [
        "lst = [1, 23, 24, 3, 4, 100, 68, 79]\n",
        "\n",
        "max(lst)"
      ],
      "execution_count": 17,
      "outputs": [
        {
          "output_type": "execute_result",
          "data": {
            "text/plain": [
              "100"
            ]
          },
          "metadata": {},
          "execution_count": 17
        }
      ]
    },
    {
      "cell_type": "markdown",
      "metadata": {
        "id": "GNPye-sZS9Np"
      },
      "source": [
        "###**min()**"
      ]
    },
    {
      "cell_type": "code",
      "metadata": {
        "id": "krIurM-yS9Ns",
        "colab": {
          "base_uri": "https://localhost:8080/"
        },
        "outputId": "d55c60db-c1d3-48a7-911f-d85494fe186a"
      },
      "source": [
        "lst = [16, 23, 24, 3, 4, 100, 68, 79]\n",
        "\n",
        "min(lst)"
      ],
      "execution_count": 18,
      "outputs": [
        {
          "output_type": "execute_result",
          "data": {
            "text/plain": [
              "3"
            ]
          },
          "metadata": {},
          "execution_count": 18
        }
      ]
    },
    {
      "cell_type": "markdown",
      "metadata": {
        "id": "ULUMTg2kTt0Z"
      },
      "source": [
        "###**len()**"
      ]
    },
    {
      "cell_type": "code",
      "metadata": {
        "id": "w27qA2FDTt0g",
        "colab": {
          "base_uri": "https://localhost:8080/"
        },
        "outputId": "77e89c5b-e8dd-4516-8d04-591126ff6ca2"
      },
      "source": [
        "lst = [1, 23, 24, 3, 4, 100, 68, 79]\n",
        "\n",
        "len(lst)"
      ],
      "execution_count": 19,
      "outputs": [
        {
          "output_type": "execute_result",
          "data": {
            "text/plain": [
              "8"
            ]
          },
          "metadata": {},
          "execution_count": 19
        }
      ]
    },
    {
      "cell_type": "markdown",
      "metadata": {
        "id": "mBqWjfQKWzbC"
      },
      "source": [
        "###**reverse()**"
      ]
    },
    {
      "cell_type": "code",
      "metadata": {
        "id": "SXb0aJ4_WzbI",
        "colab": {
          "base_uri": "https://localhost:8080/"
        },
        "outputId": "05b81214-2fc1-4152-8313-753f4b91bbb0"
      },
      "source": [
        "lst = [1, 2, 3, 4, 5, 6, 7]\n",
        "\n",
        "lst.reverse()\n",
        "\n",
        "lst"
      ],
      "execution_count": 20,
      "outputs": [
        {
          "output_type": "execute_result",
          "data": {
            "text/plain": [
              "[7, 6, 5, 4, 3, 2, 1]"
            ]
          },
          "metadata": {},
          "execution_count": 20
        }
      ]
    },
    {
      "cell_type": "markdown",
      "metadata": {
        "id": "ARueg5aCXKdE"
      },
      "source": [
        "###**sort()**"
      ]
    },
    {
      "cell_type": "code",
      "metadata": {
        "id": "XLdF4T1yXKdK",
        "colab": {
          "base_uri": "https://localhost:8080/"
        },
        "outputId": "2ca3f051-dc65-4c55-950b-1f6bcc01078b"
      },
      "source": [
        "lst = [1, 23, 24, 3, 4, 100, 68, 79]\n",
        "\n",
        "lst.sort()\n",
        "\n",
        "lst"
      ],
      "execution_count": 21,
      "outputs": [
        {
          "output_type": "execute_result",
          "data": {
            "text/plain": [
              "[1, 3, 4, 23, 24, 68, 79, 100]"
            ]
          },
          "metadata": {},
          "execution_count": 21
        }
      ]
    },
    {
      "cell_type": "markdown",
      "metadata": {
        "id": "fIWflM6lvMrM"
      },
      "source": [
        "##List Comprehension"
      ]
    },
    {
      "cell_type": "code",
      "metadata": {
        "id": "6zgWLPwjvYhS",
        "colab": {
          "base_uri": "https://localhost:8080/"
        },
        "outputId": "86b45288-5482-4a3e-cd6c-08182a48d1fc"
      },
      "source": [
        "lst = [x for x in range(10)]\n",
        "\n",
        "print(lst)"
      ],
      "execution_count": 22,
      "outputs": [
        {
          "output_type": "stream",
          "text": [
            "[0, 1, 2, 3, 4, 5, 6, 7, 8, 9]\n"
          ],
          "name": "stdout"
        }
      ]
    },
    {
      "cell_type": "code",
      "metadata": {
        "colab": {
          "base_uri": "https://localhost:8080/"
        },
        "id": "eC3ThtAy4Anf",
        "outputId": "390ecbb3-0376-41b5-eeaf-1aa3ba89b993"
      },
      "source": [
        "lst = [x for x in range(10) if x%2 != 0]\n",
        "\n",
        "print(lst)"
      ],
      "execution_count": 23,
      "outputs": [
        {
          "output_type": "stream",
          "text": [
            "[1, 3, 5, 7, 9]\n"
          ],
          "name": "stdout"
        }
      ]
    },
    {
      "cell_type": "markdown",
      "metadata": {
        "id": "4OHiyNUcCVyL"
      },
      "source": [
        "## Nested Lists\n"
      ]
    },
    {
      "cell_type": "code",
      "metadata": {
        "id": "kESjcMZUCVyM",
        "colab": {
          "base_uri": "https://localhost:8080/"
        },
        "outputId": "88f85138-8424-4c46-96db-5dd56d4dc70c"
      },
      "source": [
        "list1 = [1,2,3]\n",
        "list2 = [4,5,6]\n",
        "list3 = [7,8,9]\n",
        "\n",
        "list_of_lists = [list1, list2, list3]\n",
        "\n",
        "list_of_lists"
      ],
      "execution_count": 24,
      "outputs": [
        {
          "output_type": "execute_result",
          "data": {
            "text/plain": [
              "[[1, 2, 3], [4, 5, 6], [7, 8, 9]]"
            ]
          },
          "metadata": {},
          "execution_count": 24
        }
      ]
    },
    {
      "cell_type": "code",
      "metadata": {
        "id": "uFQDlFqRZxmj",
        "colab": {
          "base_uri": "https://localhost:8080/"
        },
        "outputId": "d6ac05c7-1083-4c20-93ac-ff74663a03b0"
      },
      "source": [
        "list_of_lists[0]"
      ],
      "execution_count": 25,
      "outputs": [
        {
          "output_type": "execute_result",
          "data": {
            "text/plain": [
              "[1, 2, 3]"
            ]
          },
          "metadata": {},
          "execution_count": 25
        }
      ]
    },
    {
      "cell_type": "code",
      "metadata": {
        "id": "fjVP6L7AZ7tT",
        "colab": {
          "base_uri": "https://localhost:8080/"
        },
        "outputId": "e2a97424-6643-4fc5-8c0e-7233edd8183f"
      },
      "source": [
        "list_of_lists[1][2]"
      ],
      "execution_count": 26,
      "outputs": [
        {
          "output_type": "execute_result",
          "data": {
            "text/plain": [
              "6"
            ]
          },
          "metadata": {},
          "execution_count": 26
        }
      ]
    }
  ]
}