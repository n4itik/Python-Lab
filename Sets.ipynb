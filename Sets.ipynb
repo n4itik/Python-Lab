{
  "nbformat": 4,
  "nbformat_minor": 0,
  "metadata": {
    "colab": {
      "name": "Sets.ipynb",
      "provenance": [],
      "authorship_tag": "ABX9TyMsp74NTyhsr3MtEB99+Irw"
    },
    "kernelspec": {
      "name": "python3",
      "display_name": "Python 3"
    },
    "language_info": {
      "name": "python"
    }
  },
  "cells": [
    {
      "cell_type": "markdown",
      "metadata": {
        "id": "BBAq5K93lhma"
      },
      "source": [
        "#Sets\n",
        "\n",
        "A set is a collection of unordered objects containing no duplicate values.\n"
      ]
    },
    {
      "cell_type": "code",
      "metadata": {
        "id": "4YmGXvbWl_f1",
        "colab": {
          "base_uri": "https://localhost:8080/"
        },
        "outputId": "5f72afe4-7ea6-4727-8afe-fc245756df5f"
      },
      "source": [
        "set = {1, 2, 3}\n",
        "set"
      ],
      "execution_count": 1,
      "outputs": [
        {
          "output_type": "execute_result",
          "data": {
            "text/plain": [
              "{1, 2, 3}"
            ]
          },
          "metadata": {},
          "execution_count": 1
        }
      ]
    },
    {
      "cell_type": "code",
      "metadata": {
        "id": "j-WsNBB2mPWt",
        "colab": {
          "base_uri": "https://localhost:8080/"
        },
        "outputId": "5c9b942a-f500-4f1e-e20e-7b800ee5c5a7"
      },
      "source": [
        "set = {1, 2, 3, 1, 2, 1, 2}\n",
        "set"
      ],
      "execution_count": 2,
      "outputs": [
        {
          "output_type": "execute_result",
          "data": {
            "text/plain": [
              "{1, 2, 3}"
            ]
          },
          "metadata": {},
          "execution_count": 2
        }
      ]
    },
    {
      "cell_type": "markdown",
      "metadata": {
        "id": "C3iX70LVovDV"
      },
      "source": [
        "##Accessing data in a set\n",
        "\n",
        "As from the definition we know that a set is unordered therefore its  elements don't have any index.\n",
        "\n",
        "So to access values from a set we must iterate through it.\n",
        "\n",
        "We can never be sure in what order the values may be accessed in a set."
      ]
    },
    {
      "cell_type": "code",
      "metadata": {
        "id": "7nNtswsIps7x",
        "colab": {
          "base_uri": "https://localhost:8080/"
        },
        "outputId": "ae45891a-7b8f-4638-98aa-6e9a35ef10ca"
      },
      "source": [
        "deserts = {\"chocolates\", \"cookies\", \"candy\", \"pudding\"}\n",
        "\n",
        "for desert in deserts:\n",
        "    print(desert)"
      ],
      "execution_count": 3,
      "outputs": [
        {
          "output_type": "stream",
          "name": "stdout",
          "text": [
            "pudding\n",
            "chocolates\n",
            "candy\n",
            "cookies\n"
          ]
        }
      ]
    },
    {
      "cell_type": "markdown",
      "metadata": {
        "id": "pUUmIArfq6vh"
      },
      "source": [
        "##Adding items in a set"
      ]
    },
    {
      "cell_type": "markdown",
      "metadata": {
        "id": "V5WvtcYh0Q8r"
      },
      "source": [
        "###**add()** method\n",
        "This method is used when we want to add a single element into the set."
      ]
    },
    {
      "cell_type": "code",
      "metadata": {
        "id": "xbghQtFGrE1W",
        "colab": {
          "base_uri": "https://localhost:8080/"
        },
        "outputId": "16887eaa-c5a6-4581-e27c-1b4d4cf904da"
      },
      "source": [
        "deserts = {\"chocolates\", \"cookies\", \"candy\", \"pudding\"}\n",
        "\n",
        "deserts.add(\"ice-Cream\")\n",
        "\n",
        "deserts"
      ],
      "execution_count": 4,
      "outputs": [
        {
          "output_type": "execute_result",
          "data": {
            "text/plain": [
              "{'candy', 'chocolates', 'cookies', 'ice-Cream', 'pudding'}"
            ]
          },
          "metadata": {},
          "execution_count": 4
        }
      ]
    },
    {
      "cell_type": "markdown",
      "metadata": {
        "id": "YRZ1aEtAy_rf"
      },
      "source": [
        "###**update()** method\n",
        "This method is used when we want to add a multiple elements into the set."
      ]
    },
    {
      "cell_type": "code",
      "metadata": {
        "id": "EJIp1Ttm0Y5V",
        "colab": {
          "base_uri": "https://localhost:8080/"
        },
        "outputId": "3aab1040-383a-436b-9080-fa3fba66d158"
      },
      "source": [
        "deserts = {\"chocolates\", \"cookies\", \"candy\", \"pudding\"}\n",
        "\n",
        "deserts.update([\"ice-Cream\", \"baklava\"])\n",
        "\n",
        "deserts"
      ],
      "execution_count": 5,
      "outputs": [
        {
          "output_type": "execute_result",
          "data": {
            "text/plain": [
              "{'baklava', 'candy', 'chocolates', 'cookies', 'ice-Cream', 'pudding'}"
            ]
          },
          "metadata": {},
          "execution_count": 5
        }
      ]
    },
    {
      "cell_type": "markdown",
      "metadata": {
        "id": "a3F8xkER03F1"
      },
      "source": [
        "##Removing items from a set\n",
        "\n"
      ]
    },
    {
      "cell_type": "markdown",
      "metadata": {
        "id": "En28AfF30_jg"
      },
      "source": [
        "###**discard()** method"
      ]
    },
    {
      "cell_type": "code",
      "metadata": {
        "id": "sXB1C_O80_jl",
        "colab": {
          "base_uri": "https://localhost:8080/"
        },
        "outputId": "f88c74ff-6fbe-4074-e8bd-7949ff4d4e74"
      },
      "source": [
        "deserts = {\"chocolates\", \"cookies\", \"candy\", \"pudding\"}\n",
        "\n",
        "deserts.discard(\"candy\")\n",
        "\n",
        "deserts"
      ],
      "execution_count": 6,
      "outputs": [
        {
          "output_type": "execute_result",
          "data": {
            "text/plain": [
              "{'chocolates', 'cookies', 'pudding'}"
            ]
          },
          "metadata": {},
          "execution_count": 6
        }
      ]
    },
    {
      "cell_type": "markdown",
      "metadata": {
        "id": "aPN1t65p1At4"
      },
      "source": [
        "###**pop()** method\n",
        "\n",
        "The **pop()** method removes the last element from the set but as we know a set is unordered we don't exactly know what element is going to be removed."
      ]
    },
    {
      "cell_type": "code",
      "metadata": {
        "id": "yaYs2wpY1At6",
        "colab": {
          "base_uri": "https://localhost:8080/"
        },
        "outputId": "0dd7146d-9715-46f0-9301-ea383b7bdd08"
      },
      "source": [
        "deserts = {\"chocolates\", \"cookies\", \"candy\", \"pudding\"}\n",
        "\n",
        "deserts.pop()\n",
        "\n",
        "deserts"
      ],
      "execution_count": 7,
      "outputs": [
        {
          "output_type": "execute_result",
          "data": {
            "text/plain": [
              "{'candy', 'chocolates', 'cookies'}"
            ]
          },
          "metadata": {},
          "execution_count": 7
        }
      ]
    },
    {
      "cell_type": "markdown",
      "metadata": {
        "id": "hkJnt1Ka3WnP"
      },
      "source": [
        "###**clear()** method\n",
        "\n",
        "The **clear()** method removes all the elements from a set."
      ]
    },
    {
      "cell_type": "code",
      "metadata": {
        "id": "WgKsXR213WnV",
        "colab": {
          "base_uri": "https://localhost:8080/"
        },
        "outputId": "726fd797-7f2e-4915-b83b-661f44bc7845"
      },
      "source": [
        "deserts = {\"chocolates\", \"cookies\", \"candy\", \"pudding\"}\n",
        "\n",
        "deserts.clear()\n",
        "\n",
        "deserts"
      ],
      "execution_count": 8,
      "outputs": [
        {
          "output_type": "execute_result",
          "data": {
            "text/plain": [
              "set()"
            ]
          },
          "metadata": {},
          "execution_count": 8
        }
      ]
    },
    {
      "cell_type": "markdown",
      "metadata": {
        "id": "vUJztABu2q3C"
      },
      "source": [
        "##Set Operations"
      ]
    },
    {
      "cell_type": "markdown",
      "metadata": {
        "id": "xNRDJnny2v7V"
      },
      "source": [
        "###Union\n",
        "\n",
        "To find the union of two sets we use the **union()** method."
      ]
    },
    {
      "cell_type": "code",
      "metadata": {
        "id": "vdZzlx-S28yQ",
        "colab": {
          "base_uri": "https://localhost:8080/"
        },
        "outputId": "c94501fc-d2b4-496f-930b-b7ec9793e583"
      },
      "source": [
        "set1 = {1, 2, 3, 4, 5}\n",
        "set2 = {3, 4, 8, 9, 5}\n",
        "\n",
        "set1.union(set2)"
      ],
      "execution_count": 9,
      "outputs": [
        {
          "output_type": "execute_result",
          "data": {
            "text/plain": [
              "{1, 2, 3, 4, 5, 8, 9}"
            ]
          },
          "metadata": {},
          "execution_count": 9
        }
      ]
    },
    {
      "cell_type": "markdown",
      "metadata": {
        "id": "tZK9PBbE3vxR"
      },
      "source": [
        "###Set Difference\n",
        "\n",
        "The **difference()** method is used to find difference of 2 sets."
      ]
    },
    {
      "cell_type": "code",
      "metadata": {
        "id": "zPW4UKDk38lW",
        "colab": {
          "base_uri": "https://localhost:8080/"
        },
        "outputId": "7ff9dd30-6827-4b93-a82e-b52566279552"
      },
      "source": [
        "set1 = {1, 2, 3, 4, 5}\n",
        "set2 = {3, 4, 8, 9, 5}\n",
        "\n",
        "set1.difference(set2)"
      ],
      "execution_count": 10,
      "outputs": [
        {
          "output_type": "execute_result",
          "data": {
            "text/plain": [
              "{1, 2}"
            ]
          },
          "metadata": {},
          "execution_count": 10
        }
      ]
    },
    {
      "cell_type": "markdown",
      "metadata": {
        "id": "pZUk0xvq4K3Z"
      },
      "source": [
        "###Set Intersection\n",
        "\n",
        "The **intersection()** method is used to find intersection of 2 sets."
      ]
    },
    {
      "cell_type": "code",
      "metadata": {
        "id": "FQj0wQTb4S_e",
        "colab": {
          "base_uri": "https://localhost:8080/"
        },
        "outputId": "940aa904-f808-42e3-fcbc-cae91c08cd7a"
      },
      "source": [
        "set1 = {1, 2, 3, 4, 5}\n",
        "set2 = {3, 4, 8, 9, 5}\n",
        "\n",
        "set1.intersection(set2)"
      ],
      "execution_count": 11,
      "outputs": [
        {
          "output_type": "execute_result",
          "data": {
            "text/plain": [
              "{3, 4, 5}"
            ]
          },
          "metadata": {},
          "execution_count": 11
        }
      ]
    },
    {
      "cell_type": "markdown",
      "metadata": {
        "id": "1xBFrJ6R4ZF6"
      },
      "source": [
        "###issubset()\n",
        "\n",
        "The **issubset()** method is used to find if a set is subset of the other."
      ]
    },
    {
      "cell_type": "code",
      "metadata": {
        "id": "Gsv7Rozh4ZF8",
        "colab": {
          "base_uri": "https://localhost:8080/"
        },
        "outputId": "a19cda8c-0492-4204-d370-aca0387500fe"
      },
      "source": [
        "set1 = {1, 2, 3, 4, 5}\n",
        "set2 = {3, 4, 5}\n",
        "\n",
        "set1.issubset(set2)"
      ],
      "execution_count": 12,
      "outputs": [
        {
          "output_type": "execute_result",
          "data": {
            "text/plain": [
              "False"
            ]
          },
          "metadata": {},
          "execution_count": 12
        }
      ]
    },
    {
      "cell_type": "markdown",
      "metadata": {
        "id": "0ljZoK2_4r-3"
      },
      "source": [
        "###issuperset()\n",
        "\n",
        "The **issuperset()** method is used to find if a set is superset of the other."
      ]
    },
    {
      "cell_type": "code",
      "metadata": {
        "id": "ltR6SlBU4r-8",
        "colab": {
          "base_uri": "https://localhost:8080/"
        },
        "outputId": "68520cf4-439e-4e37-f331-9813c35b4851"
      },
      "source": [
        "set1 = {1, 2, 3, 4, 5}\n",
        "set2 = {3, 4, 5}\n",
        "\n",
        "set1.issuperset(set2)"
      ],
      "execution_count": 13,
      "outputs": [
        {
          "output_type": "execute_result",
          "data": {
            "text/plain": [
              "True"
            ]
          },
          "metadata": {},
          "execution_count": 13
        }
      ]
    }
  ]
}