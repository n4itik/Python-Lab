{
  "nbformat": 4,
  "nbformat_minor": 0,
  "metadata": {
    "colab": {
      "name": "Sets.ipynb",
      "provenance": [],
      "authorship_tag": "ABX9TyMdw7gGYODTOmcLArkHmcQF"
    },
    "kernelspec": {
      "name": "python3",
      "display_name": "Python 3"
    },
    "language_info": {
      "name": "python"
    }
  },
  "cells": [
    {
      "cell_type": "markdown",
      "metadata": {
        "id": "BBAq5K93lhma"
      },
      "source": [
        "#Sets\n",
        "\n",
        "A set is a collection of unordered objects containing no duplicate values.\n"
      ]
    },
    {
      "cell_type": "code",
      "metadata": {
        "id": "4YmGXvbWl_f1",
        "colab": {
          "base_uri": "https://localhost:8080/"
        },
        "outputId": "717aa06b-cac3-42a5-974e-ae1cfc5faa1c"
      },
      "source": [
        "set = {1, 2, 3}\n",
        "set"
      ],
      "execution_count": 1,
      "outputs": [
        {
          "output_type": "execute_result",
          "data": {
            "text/plain": [
              "{1, 2, 3}"
            ]
          },
          "metadata": {},
          "execution_count": 1
        }
      ]
    },
    {
      "cell_type": "code",
      "metadata": {
        "id": "j-WsNBB2mPWt",
        "colab": {
          "base_uri": "https://localhost:8080/"
        },
        "outputId": "aad263e0-3087-4c00-ff38-a1f47f2f529b"
      },
      "source": [
        "set = {1, 2, 3, 1, 2, 1, 2}\n",
        "set"
      ],
      "execution_count": 2,
      "outputs": [
        {
          "output_type": "execute_result",
          "data": {
            "text/plain": [
              "{1, 2, 3}"
            ]
          },
          "metadata": {},
          "execution_count": 2
        }
      ]
    },
    {
      "cell_type": "markdown",
      "metadata": {
        "id": "C3iX70LVovDV"
      },
      "source": [
        "##Accessing data in a set\n",
        "\n",
        "As from the definition we know that a set is unordered therefore its  elements don't have any index.\n",
        "\n",
        "So to access values from a set we must iterate through it.\n",
        "\n",
        "We can never be sure in what order the values may be accessed in a set."
      ]
    },
    {
      "cell_type": "code",
      "metadata": {
        "id": "7nNtswsIps7x",
        "colab": {
          "base_uri": "https://localhost:8080/"
        },
        "outputId": "ea83cc95-70fd-4208-b28d-e95614263c24"
      },
      "source": [
        "deserts = {\"chocolates\", \"cookies\", \"candy\", \"pudding\"}\n",
        "\n",
        "for desert in deserts:\n",
        "    print(desert)"
      ],
      "execution_count": 3,
      "outputs": [
        {
          "output_type": "stream",
          "name": "stdout",
          "text": [
            "pudding\n",
            "candy\n",
            "cookies\n",
            "chocolates\n"
          ]
        }
      ]
    },
    {
      "cell_type": "markdown",
      "metadata": {
        "id": "pUUmIArfq6vh"
      },
      "source": [
        "##Adding items in a set"
      ]
    },
    {
      "cell_type": "markdown",
      "metadata": {
        "id": "V5WvtcYh0Q8r"
      },
      "source": [
        "###**add()** method\n",
        "This method is used when we want to add a single element into the set."
      ]
    },
    {
      "cell_type": "code",
      "metadata": {
        "id": "xbghQtFGrE1W",
        "colab": {
          "base_uri": "https://localhost:8080/"
        },
        "outputId": "54c3dfea-1136-434f-b4ad-0563a1c6fda0"
      },
      "source": [
        "deserts = {\"chocolates\", \"cookies\", \"candy\", \"pudding\"}\n",
        "\n",
        "deserts.add(\"ice-Cream\")\n",
        "\n",
        "deserts"
      ],
      "execution_count": 4,
      "outputs": [
        {
          "output_type": "execute_result",
          "data": {
            "text/plain": [
              "{'candy', 'chocolates', 'cookies', 'ice-Cream', 'pudding'}"
            ]
          },
          "metadata": {},
          "execution_count": 4
        }
      ]
    },
    {
      "cell_type": "markdown",
      "metadata": {
        "id": "YRZ1aEtAy_rf"
      },
      "source": [
        "###**update()** method\n",
        "This method is used when we want to add a multiple elements into the set."
      ]
    },
    {
      "cell_type": "code",
      "metadata": {
        "id": "EJIp1Ttm0Y5V",
        "colab": {
          "base_uri": "https://localhost:8080/"
        },
        "outputId": "b16774c7-9732-4797-e3f1-ad5de6bf7b30"
      },
      "source": [
        "deserts = {\"chocolates\", \"cookies\", \"candy\", \"pudding\"}\n",
        "\n",
        "deserts.update([\"ice-Cream\", \"baklava\"])\n",
        "\n",
        "deserts"
      ],
      "execution_count": 5,
      "outputs": [
        {
          "output_type": "execute_result",
          "data": {
            "text/plain": [
              "{'baklava', 'candy', 'chocolates', 'cookies', 'ice-Cream', 'pudding'}"
            ]
          },
          "metadata": {},
          "execution_count": 5
        }
      ]
    },
    {
      "cell_type": "markdown",
      "metadata": {
        "id": "a3F8xkER03F1"
      },
      "source": [
        "##Removing items from a set\n",
        "\n"
      ]
    },
    {
      "cell_type": "markdown",
      "metadata": {
        "id": "En28AfF30_jg"
      },
      "source": [
        "###**discard()** method"
      ]
    },
    {
      "cell_type": "code",
      "metadata": {
        "id": "sXB1C_O80_jl",
        "colab": {
          "base_uri": "https://localhost:8080/"
        },
        "outputId": "a66bd710-3dde-4cfc-d83f-981c7de383e8"
      },
      "source": [
        "deserts = {\"chocolates\", \"cookies\", \"candy\", \"pudding\"}\n",
        "\n",
        "deserts.discard(\"candy\")\n",
        "\n",
        "deserts"
      ],
      "execution_count": 6,
      "outputs": [
        {
          "output_type": "execute_result",
          "data": {
            "text/plain": [
              "{'chocolates', 'cookies', 'pudding'}"
            ]
          },
          "metadata": {},
          "execution_count": 6
        }
      ]
    },
    {
      "cell_type": "markdown",
      "metadata": {
        "id": "aPN1t65p1At4"
      },
      "source": [
        "###**pop()** method\n",
        "\n",
        "The **pop()** method removes the last element from the set but as we know a set is unordered we don't exactly know what element is going to be removed."
      ]
    },
    {
      "cell_type": "code",
      "metadata": {
        "id": "yaYs2wpY1At6",
        "colab": {
          "base_uri": "https://localhost:8080/"
        },
        "outputId": "1712e7d6-7466-4f78-9360-5f971d07bd1c"
      },
      "source": [
        "deserts = {\"chocolates\", \"cookies\", \"candy\", \"pudding\"}\n",
        "\n",
        "deserts.pop()\n",
        "\n",
        "deserts"
      ],
      "execution_count": 7,
      "outputs": [
        {
          "output_type": "execute_result",
          "data": {
            "text/plain": [
              "{'candy', 'chocolates', 'cookies'}"
            ]
          },
          "metadata": {},
          "execution_count": 7
        }
      ]
    },
    {
      "cell_type": "markdown",
      "metadata": {
        "id": "hkJnt1Ka3WnP"
      },
      "source": [
        "###**clear()** method\n",
        "\n",
        "The **clear()** method removes all the elements from a set."
      ]
    },
    {
      "cell_type": "code",
      "metadata": {
        "id": "WgKsXR213WnV",
        "colab": {
          "base_uri": "https://localhost:8080/"
        },
        "outputId": "5c6998f2-68fe-4eca-c52a-6156002f7c88"
      },
      "source": [
        "deserts = {\"chocolates\", \"cookies\", \"candy\", \"pudding\"}\n",
        "\n",
        "deserts.clear()\n",
        "\n",
        "deserts"
      ],
      "execution_count": 8,
      "outputs": [
        {
          "output_type": "execute_result",
          "data": {
            "text/plain": [
              "set()"
            ]
          },
          "metadata": {},
          "execution_count": 8
        }
      ]
    },
    {
      "cell_type": "markdown",
      "metadata": {
        "id": "vUJztABu2q3C"
      },
      "source": [
        "##Set Operations"
      ]
    },
    {
      "cell_type": "markdown",
      "metadata": {
        "id": "xNRDJnny2v7V"
      },
      "source": [
        "###Union\n",
        "\n",
        "To find the union of two sets we use the **union()** method."
      ]
    },
    {
      "cell_type": "code",
      "metadata": {
        "id": "vdZzlx-S28yQ",
        "colab": {
          "base_uri": "https://localhost:8080/"
        },
        "outputId": "f9f773c4-76a6-4c7d-8d30-151378a80da7"
      },
      "source": [
        "set1 = {1, 2, 3, 4, 5}\n",
        "set2 = {3, 4, 8, 9, 5}\n",
        "\n",
        "set1.union(set2)"
      ],
      "execution_count": 9,
      "outputs": [
        {
          "output_type": "execute_result",
          "data": {
            "text/plain": [
              "{1, 2, 3, 4, 5, 8, 9}"
            ]
          },
          "metadata": {},
          "execution_count": 9
        }
      ]
    },
    {
      "cell_type": "markdown",
      "metadata": {
        "id": "tZK9PBbE3vxR"
      },
      "source": [
        "###Set Difference\n",
        "\n",
        "The **difference()** method is used to find difference of 2 sets."
      ]
    },
    {
      "cell_type": "code",
      "metadata": {
        "id": "zPW4UKDk38lW",
        "colab": {
          "base_uri": "https://localhost:8080/"
        },
        "outputId": "6254d2e7-2a53-496d-92e2-7afeb7e0984e"
      },
      "source": [
        "set1 = {1, 2, 3, 4, 5}\n",
        "set2 = {3, 4, 8, 9, 5}\n",
        "\n",
        "set1.difference(set2)"
      ],
      "execution_count": 10,
      "outputs": [
        {
          "output_type": "execute_result",
          "data": {
            "text/plain": [
              "{1, 2}"
            ]
          },
          "metadata": {},
          "execution_count": 10
        }
      ]
    },
    {
      "cell_type": "markdown",
      "metadata": {
        "id": "pZUk0xvq4K3Z"
      },
      "source": [
        "###Set Intersection\n",
        "\n",
        "The **intersection()** method is used to find intersection of 2 sets."
      ]
    },
    {
      "cell_type": "code",
      "metadata": {
        "id": "FQj0wQTb4S_e",
        "colab": {
          "base_uri": "https://localhost:8080/"
        },
        "outputId": "40774bb9-9afb-4dcd-cd63-a6bd49ad7eee"
      },
      "source": [
        "set1 = {1, 2, 3, 4, 5}\n",
        "set2 = {3, 4, 8, 9, 5}\n",
        "\n",
        "set1.intersection(set2)"
      ],
      "execution_count": 11,
      "outputs": [
        {
          "output_type": "execute_result",
          "data": {
            "text/plain": [
              "{3, 4, 5}"
            ]
          },
          "metadata": {},
          "execution_count": 11
        }
      ]
    },
    {
      "cell_type": "markdown",
      "metadata": {
        "id": "1xBFrJ6R4ZF6"
      },
      "source": [
        "###issubset()\n",
        "\n",
        "The **issubset()** method is used to find if a set is subset of the other."
      ]
    },
    {
      "cell_type": "code",
      "metadata": {
        "id": "Gsv7Rozh4ZF8",
        "colab": {
          "base_uri": "https://localhost:8080/"
        },
        "outputId": "151a248f-151e-4d1d-a6fa-8ef9692f1092"
      },
      "source": [
        "set1 = {1, 2, 3, 4, 5}\n",
        "set2 = {3, 4, 5}\n",
        "\n",
        "set2.issubset(set1)"
      ],
      "execution_count": 12,
      "outputs": [
        {
          "output_type": "execute_result",
          "data": {
            "text/plain": [
              "True"
            ]
          },
          "metadata": {},
          "execution_count": 12
        }
      ]
    },
    {
      "cell_type": "markdown",
      "metadata": {
        "id": "0ljZoK2_4r-3"
      },
      "source": [
        "###issuperset()\n",
        "\n",
        "The **issuperset()** method is used to find if a set is superset of the other."
      ]
    },
    {
      "cell_type": "code",
      "metadata": {
        "id": "ltR6SlBU4r-8",
        "colab": {
          "base_uri": "https://localhost:8080/"
        },
        "outputId": "d2b461da-a610-40bc-cfc9-ed4397601f9c"
      },
      "source": [
        "set1 = {1, 2, 3, 4, 5}\n",
        "set2 = {3, 4, 5}\n",
        "\n",
        "set1.issuperset(set2)"
      ],
      "execution_count": 13,
      "outputs": [
        {
          "output_type": "execute_result",
          "data": {
            "text/plain": [
              "True"
            ]
          },
          "metadata": {},
          "execution_count": 13
        }
      ]
    }
  ]
}