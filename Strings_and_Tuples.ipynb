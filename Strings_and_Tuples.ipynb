{
  "nbformat": 4,
  "nbformat_minor": 0,
  "metadata": {
    "colab": {
      "name": "Strings and Tuples.ipynb",
      "provenance": [],
      "collapsed_sections": [
        "eZ6RZs1gushP",
        "onkAB1RG59TG",
        "TMIvIQKV6J57",
        "yqY18L_1toZQ",
        "L9ywE2wpt9M-",
        "MCf1MA6zwKDB",
        "5OMG3N0V3uFV",
        "RBhQtNlk4HFw",
        "XnZGHXTw4rUa",
        "NxrUppbw4sat"
      ]
    },
    "kernelspec": {
      "name": "python3",
      "display_name": "Python 3"
    }
  },
  "cells": [
    {
      "cell_type": "markdown",
      "metadata": {
        "id": "6yHmb4_sqR0k"
      },
      "source": [
        "#Strings"
      ]
    },
    {
      "cell_type": "code",
      "metadata": {
        "id": "6etpbIe2rzuR",
        "colab": {
          "base_uri": "https://localhost:8080/"
        },
        "outputId": "22ce66e2-172a-4024-d41a-f08049977d2f"
      },
      "source": [
        "string = 'Hello World!'\n",
        "\n",
        "print(string)"
      ],
      "execution_count": 1,
      "outputs": [
        {
          "output_type": "stream",
          "text": [
            "Hello World!\n"
          ],
          "name": "stdout"
        }
      ]
    },
    {
      "cell_type": "code",
      "metadata": {
        "id": "MebkzPShaarT",
        "colab": {
          "base_uri": "https://localhost:8080/"
        },
        "outputId": "301e095c-95b3-45f4-d17a-9eca38dab03f"
      },
      "source": [
        "string = '''Line 1,\n",
        "Line 2,\n",
        "Line 3.'''\n",
        "\n",
        "print(string)"
      ],
      "execution_count": 2,
      "outputs": [
        {
          "output_type": "stream",
          "text": [
            "Line 1,\n",
            "Line 2,\n",
            "Line 3.\n"
          ],
          "name": "stdout"
        }
      ]
    },
    {
      "cell_type": "markdown",
      "metadata": {
        "id": "eZ6RZs1gushP"
      },
      "source": [
        "###Indexing"
      ]
    },
    {
      "cell_type": "code",
      "metadata": {
        "id": "8H4D0eBgu2lH",
        "colab": {
          "base_uri": "https://localhost:8080/",
          "height": 35
        },
        "outputId": "4eaaac27-072c-440c-fd14-f751c51dfd02"
      },
      "source": [
        "string = \"Hi! How you doing?\"\n",
        "\n",
        "string[0]"
      ],
      "execution_count": 3,
      "outputs": [
        {
          "output_type": "execute_result",
          "data": {
            "application/vnd.google.colaboratory.intrinsic+json": {
              "type": "string"
            },
            "text/plain": [
              "'H'"
            ]
          },
          "metadata": {
            "tags": []
          },
          "execution_count": 3
        }
      ]
    },
    {
      "cell_type": "code",
      "metadata": {
        "colab": {
          "base_uri": "https://localhost:8080/",
          "height": 35
        },
        "id": "3SOfw1l38zWY",
        "outputId": "f3dc5bf7-f462-4345-a666-36d60beea9a8"
      },
      "source": [
        "string[2]"
      ],
      "execution_count": 4,
      "outputs": [
        {
          "output_type": "execute_result",
          "data": {
            "application/vnd.google.colaboratory.intrinsic+json": {
              "type": "string"
            },
            "text/plain": [
              "'!'"
            ]
          },
          "metadata": {
            "tags": []
          },
          "execution_count": 4
        }
      ]
    },
    {
      "cell_type": "code",
      "metadata": {
        "colab": {
          "base_uri": "https://localhost:8080/",
          "height": 35
        },
        "id": "Vq9Kgj1S81rB",
        "outputId": "fc6b97df-d8e7-4677-e022-b66b7ed4f719"
      },
      "source": [
        "string[-1]"
      ],
      "execution_count": 5,
      "outputs": [
        {
          "output_type": "execute_result",
          "data": {
            "application/vnd.google.colaboratory.intrinsic+json": {
              "type": "string"
            },
            "text/plain": [
              "'?'"
            ]
          },
          "metadata": {
            "tags": []
          },
          "execution_count": 5
        }
      ]
    },
    {
      "cell_type": "code",
      "metadata": {
        "colab": {
          "base_uri": "https://localhost:8080/",
          "height": 35
        },
        "id": "MNVURy3O814o",
        "outputId": "8658a07b-259c-4f75-c42e-f161aa158ab0"
      },
      "source": [
        "string[-6]"
      ],
      "execution_count": 6,
      "outputs": [
        {
          "output_type": "execute_result",
          "data": {
            "application/vnd.google.colaboratory.intrinsic+json": {
              "type": "string"
            },
            "text/plain": [
              "'d'"
            ]
          },
          "metadata": {
            "tags": []
          },
          "execution_count": 6
        }
      ]
    },
    {
      "cell_type": "markdown",
      "metadata": {
        "id": "onkAB1RG59TG"
      },
      "source": [
        "###Substring"
      ]
    },
    {
      "cell_type": "code",
      "metadata": {
        "id": "CtEf4Rkj6OU-",
        "colab": {
          "base_uri": "https://localhost:8080/"
        },
        "outputId": "cc4523b3-f36c-4b86-fe89-d9ec78f751ad"
      },
      "source": [
        "str1 = \"naitik\"\n",
        "str2 = \"Naitik\"\n",
        "string = \"Naitik Yadav\"\n",
        "\n",
        "str1 in string"
      ],
      "execution_count": 7,
      "outputs": [
        {
          "output_type": "execute_result",
          "data": {
            "text/plain": [
              "False"
            ]
          },
          "metadata": {
            "tags": []
          },
          "execution_count": 7
        }
      ]
    },
    {
      "cell_type": "code",
      "metadata": {
        "colab": {
          "base_uri": "https://localhost:8080/"
        },
        "id": "cLjVnFI89ULT",
        "outputId": "4669a2c1-7eed-405d-aaf8-4ab3f7c7b3ec"
      },
      "source": [
        "str2 in string"
      ],
      "execution_count": 8,
      "outputs": [
        {
          "output_type": "execute_result",
          "data": {
            "text/plain": [
              "True"
            ]
          },
          "metadata": {
            "tags": []
          },
          "execution_count": 8
        }
      ]
    },
    {
      "cell_type": "markdown",
      "metadata": {
        "id": "TMIvIQKV6J57"
      },
      "source": [
        "###Concatenation"
      ]
    },
    {
      "cell_type": "code",
      "metadata": {
        "id": "vzox9hTh6mC2",
        "colab": {
          "base_uri": "https://localhost:8080/",
          "height": 35
        },
        "outputId": "58317af7-05d7-4a54-8da7-2b0f370f0b93"
      },
      "source": [
        "str1 = \"Naitik \"\n",
        "str2 = \"Yadav\"\n",
        "\n",
        "str1 + str2"
      ],
      "execution_count": 9,
      "outputs": [
        {
          "output_type": "execute_result",
          "data": {
            "application/vnd.google.colaboratory.intrinsic+json": {
              "type": "string"
            },
            "text/plain": [
              "'Naitik Yadav'"
            ]
          },
          "metadata": {
            "tags": []
          },
          "execution_count": 9
        }
      ]
    },
    {
      "cell_type": "code",
      "metadata": {
        "id": "no2z0vLbMx3D",
        "colab": {
          "base_uri": "https://localhost:8080/",
          "height": 35
        },
        "outputId": "bcc9df95-e61c-4dcd-ad92-d8d791bc8620"
      },
      "source": [
        "'3' + '8'"
      ],
      "execution_count": 10,
      "outputs": [
        {
          "output_type": "execute_result",
          "data": {
            "application/vnd.google.colaboratory.intrinsic+json": {
              "type": "string"
            },
            "text/plain": [
              "'38'"
            ]
          },
          "metadata": {
            "tags": []
          },
          "execution_count": 10
        }
      ]
    },
    {
      "cell_type": "markdown",
      "metadata": {
        "id": "L9ywE2wpt9M-"
      },
      "source": [
        "###Slicing"
      ]
    },
    {
      "cell_type": "code",
      "metadata": {
        "id": "EfnVGWkpuI3G",
        "colab": {
          "base_uri": "https://localhost:8080/"
        },
        "outputId": "b903c487-27d8-4781-f88d-7b00fabac33d"
      },
      "source": [
        "string = \"Hi! How you doing?\"\n",
        "\n",
        "print(string[3:14])"
      ],
      "execution_count": 11,
      "outputs": [
        {
          "output_type": "stream",
          "text": [
            " How you do\n"
          ],
          "name": "stdout"
        }
      ]
    },
    {
      "cell_type": "code",
      "metadata": {
        "id": "ZGJJ4tX6vF2x",
        "colab": {
          "base_uri": "https://localhost:8080/"
        },
        "outputId": "a4ea5e1a-812d-4479-e0a9-7f3ff2716bf4"
      },
      "source": [
        "print(string[:9])"
      ],
      "execution_count": 12,
      "outputs": [
        {
          "output_type": "stream",
          "text": [
            "Hi! How y\n"
          ],
          "name": "stdout"
        }
      ]
    },
    {
      "cell_type": "code",
      "metadata": {
        "id": "1bvvlhO4vvdc",
        "colab": {
          "base_uri": "https://localhost:8080/"
        },
        "outputId": "91eb319c-9e6a-436f-d185-d86c6cf00a54"
      },
      "source": [
        "print(string[6:])"
      ],
      "execution_count": 13,
      "outputs": [
        {
          "output_type": "stream",
          "text": [
            "w you doing?\n"
          ],
          "name": "stdout"
        }
      ]
    },
    {
      "cell_type": "code",
      "metadata": {
        "id": "no3RZI12wRL0",
        "colab": {
          "base_uri": "https://localhost:8080/"
        },
        "outputId": "659b42a8-29f5-4b14-b112-467500cfeb69"
      },
      "source": [
        "print(string[:-3])"
      ],
      "execution_count": 14,
      "outputs": [
        {
          "output_type": "stream",
          "text": [
            "Hi! How you doi\n"
          ],
          "name": "stdout"
        }
      ]
    },
    {
      "cell_type": "code",
      "metadata": {
        "id": "x_3YJlCwwfHR",
        "colab": {
          "base_uri": "https://localhost:8080/"
        },
        "outputId": "1178cdd6-4c8f-4b77-a1ec-eb6a41cfe8f9"
      },
      "source": [
        "print(string[-8:])"
      ],
      "execution_count": 15,
      "outputs": [
        {
          "output_type": "stream",
          "text": [
            "u doing?\n"
          ],
          "name": "stdout"
        }
      ]
    },
    {
      "cell_type": "markdown",
      "metadata": {
        "id": "yqY18L_1toZQ"
      },
      "source": [
        "##Methods"
      ]
    },
    {
      "cell_type": "markdown",
      "metadata": {
        "id": "5OMG3N0V3uFV"
      },
      "source": [
        "###Uppercase"
      ]
    },
    {
      "cell_type": "code",
      "metadata": {
        "id": "rO2meZUI36KX",
        "colab": {
          "base_uri": "https://localhost:8080/",
          "height": 35
        },
        "outputId": "1e94cbb2-3bdd-4084-875c-be1100a614ac"
      },
      "source": [
        "string = \"hArRy PoTtEr AnD tHe ChAmBeR oF sEcReTs\"\n",
        "\n",
        "string.upper()"
      ],
      "execution_count": 16,
      "outputs": [
        {
          "output_type": "execute_result",
          "data": {
            "application/vnd.google.colaboratory.intrinsic+json": {
              "type": "string"
            },
            "text/plain": [
              "'HARRY POTTER AND THE CHAMBER OF SECRETS'"
            ]
          },
          "metadata": {
            "tags": []
          },
          "execution_count": 16
        }
      ]
    },
    {
      "cell_type": "markdown",
      "metadata": {
        "id": "RBhQtNlk4HFw"
      },
      "source": [
        "###Lowercase"
      ]
    },
    {
      "cell_type": "code",
      "metadata": {
        "id": "GrBf6xL-4SH9",
        "colab": {
          "base_uri": "https://localhost:8080/",
          "height": 35
        },
        "outputId": "c6515b36-4047-425d-bb9a-03a5877b6239"
      },
      "source": [
        "string.lower()"
      ],
      "execution_count": 17,
      "outputs": [
        {
          "output_type": "execute_result",
          "data": {
            "application/vnd.google.colaboratory.intrinsic+json": {
              "type": "string"
            },
            "text/plain": [
              "'harry potter and the chamber of secrets'"
            ]
          },
          "metadata": {
            "tags": []
          },
          "execution_count": 17
        }
      ]
    },
    {
      "cell_type": "markdown",
      "metadata": {
        "id": "TEQ01XEB_eR1"
      },
      "source": [
        "###Titlecase"
      ]
    },
    {
      "cell_type": "code",
      "metadata": {
        "colab": {
          "base_uri": "https://localhost:8080/",
          "height": 35
        },
        "id": "Tn4_sbt5_gdA",
        "outputId": "4d3596c5-a036-49dd-b6c5-a0a7081d5dba"
      },
      "source": [
        "string.title()"
      ],
      "execution_count": 18,
      "outputs": [
        {
          "output_type": "execute_result",
          "data": {
            "application/vnd.google.colaboratory.intrinsic+json": {
              "type": "string"
            },
            "text/plain": [
              "'Harry Potter And The Chamber Of Secrets'"
            ]
          },
          "metadata": {
            "tags": []
          },
          "execution_count": 18
        }
      ]
    },
    {
      "cell_type": "markdown",
      "metadata": {
        "id": "h4LENI2TteZg"
      },
      "source": [
        "###Strip"
      ]
    },
    {
      "cell_type": "code",
      "metadata": {
        "id": "HjLQ0jIUteZj",
        "colab": {
          "base_uri": "https://localhost:8080/",
          "height": 35
        },
        "outputId": "74303822-59af-454b-90ff-14853c14ff39"
      },
      "source": [
        "string = \"  What's up?    \"\n",
        "\n",
        "string.strip()"
      ],
      "execution_count": 19,
      "outputs": [
        {
          "output_type": "execute_result",
          "data": {
            "application/vnd.google.colaboratory.intrinsic+json": {
              "type": "string"
            },
            "text/plain": [
              "\"What's up?\""
            ]
          },
          "metadata": {
            "tags": []
          },
          "execution_count": 19
        }
      ]
    },
    {
      "cell_type": "code",
      "metadata": {
        "id": "qAu5T4xdyWOr",
        "colab": {
          "base_uri": "https://localhost:8080/",
          "height": 35
        },
        "outputId": "ffead871-b7eb-414b-ceb3-3b164f2fe322"
      },
      "source": [
        "#Left Strip\n",
        "\n",
        "string.lstrip()"
      ],
      "execution_count": 20,
      "outputs": [
        {
          "output_type": "execute_result",
          "data": {
            "application/vnd.google.colaboratory.intrinsic+json": {
              "type": "string"
            },
            "text/plain": [
              "\"What's up?    \""
            ]
          },
          "metadata": {
            "tags": []
          },
          "execution_count": 20
        }
      ]
    },
    {
      "cell_type": "code",
      "metadata": {
        "id": "lT5CQCYkyae3",
        "colab": {
          "base_uri": "https://localhost:8080/",
          "height": 35
        },
        "outputId": "55b2eb62-36e0-491c-9ac8-3d6513d1c69d"
      },
      "source": [
        "#Right Strip\n",
        "\n",
        "string.rstrip()"
      ],
      "execution_count": 21,
      "outputs": [
        {
          "output_type": "execute_result",
          "data": {
            "application/vnd.google.colaboratory.intrinsic+json": {
              "type": "string"
            },
            "text/plain": [
              "\"  What's up?\""
            ]
          },
          "metadata": {
            "tags": []
          },
          "execution_count": 21
        }
      ]
    },
    {
      "cell_type": "markdown",
      "metadata": {
        "id": "XnZGHXTw4rUa"
      },
      "source": [
        "###Replace"
      ]
    },
    {
      "cell_type": "code",
      "metadata": {
        "id": "V1QLATYk4tzT",
        "colab": {
          "base_uri": "https://localhost:8080/",
          "height": 35
        },
        "outputId": "65e4e5b8-61f5-405e-973c-a11974cb7216"
      },
      "source": [
        "string = \"Mission Unpossible\"\n",
        "\n",
        "string.replace('Un', 'Im')"
      ],
      "execution_count": 22,
      "outputs": [
        {
          "output_type": "execute_result",
          "data": {
            "application/vnd.google.colaboratory.intrinsic+json": {
              "type": "string"
            },
            "text/plain": [
              "'Mission Impossible'"
            ]
          },
          "metadata": {
            "tags": []
          },
          "execution_count": 22
        }
      ]
    },
    {
      "cell_type": "markdown",
      "metadata": {
        "id": "NxrUppbw4sat"
      },
      "source": [
        "###Split"
      ]
    },
    {
      "cell_type": "code",
      "metadata": {
        "id": "FrbkHuAz4u48",
        "colab": {
          "base_uri": "https://localhost:8080/"
        },
        "outputId": "b8d3cfde-2196-4706-92dd-471837d3f457"
      },
      "source": [
        "#Default\n",
        "string = \"Harry Potter And The Chamber Of Secrets\"\n",
        "\n",
        "string.split()"
      ],
      "execution_count": 23,
      "outputs": [
        {
          "output_type": "execute_result",
          "data": {
            "text/plain": [
              "['Harry', 'Potter', 'And', 'The', 'Chamber', 'Of', 'Secrets']"
            ]
          },
          "metadata": {
            "tags": []
          },
          "execution_count": 23
        }
      ]
    },
    {
      "cell_type": "code",
      "metadata": {
        "id": "6TkkPBfETLSF",
        "colab": {
          "base_uri": "https://localhost:8080/"
        },
        "outputId": "1969a208-1c15-4b32-ce53-9cec3c3832c2"
      },
      "source": [
        "#W.R.T. a character\n",
        "\n",
        "string.split(\"e\")"
      ],
      "execution_count": 24,
      "outputs": [
        {
          "output_type": "execute_result",
          "data": {
            "text/plain": [
              "['Harry Pott', 'r And Th', ' Chamb', 'r Of S', 'cr', 'ts']"
            ]
          },
          "metadata": {
            "tags": []
          },
          "execution_count": 24
        }
      ]
    },
    {
      "cell_type": "markdown",
      "metadata": {
        "id": "-j_effOZifmB"
      },
      "source": [
        "#Tuples"
      ]
    },
    {
      "cell_type": "code",
      "metadata": {
        "id": "ESdV3mQGdaQJ",
        "colab": {
          "base_uri": "https://localhost:8080/"
        },
        "outputId": "85345f28-dd08-4cfa-ed11-166caba5a853"
      },
      "source": [
        "tup = (1, 2, 3)\n",
        "\n",
        "print(tup)"
      ],
      "execution_count": 25,
      "outputs": [
        {
          "output_type": "stream",
          "text": [
            "(1, 2, 3)\n"
          ],
          "name": "stdout"
        }
      ]
    },
    {
      "cell_type": "code",
      "metadata": {
        "id": "iy-AovMmi3y8",
        "colab": {
          "base_uri": "https://localhost:8080/"
        },
        "outputId": "da21e1a8-f40f-4f17-8158-0791aa206dc2"
      },
      "source": [
        "tup = (\"apple\", 10, \"abc\")\n",
        "\n",
        "print(tup)"
      ],
      "execution_count": 26,
      "outputs": [
        {
          "output_type": "stream",
          "text": [
            "('apple', 10, 'abc')\n"
          ],
          "name": "stdout"
        }
      ]
    },
    {
      "cell_type": "markdown",
      "metadata": {
        "id": "2JtQ8xnkkyVE"
      },
      "source": [
        "###Indexing"
      ]
    },
    {
      "cell_type": "code",
      "metadata": {
        "id": "XesjyOK2kyVG",
        "colab": {
          "base_uri": "https://localhost:8080/",
          "height": 35
        },
        "outputId": "c612a237-02e8-4cff-af24-7724bc147c52"
      },
      "source": [
        "tup = (\"Koenigsegg\", \"Tesla\", \"Lamborghini\", \"Buggati\")\n",
        "\n",
        "tup[1]"
      ],
      "execution_count": 27,
      "outputs": [
        {
          "output_type": "execute_result",
          "data": {
            "application/vnd.google.colaboratory.intrinsic+json": {
              "type": "string"
            },
            "text/plain": [
              "'Tesla'"
            ]
          },
          "metadata": {
            "tags": []
          },
          "execution_count": 27
        }
      ]
    },
    {
      "cell_type": "code",
      "metadata": {
        "colab": {
          "base_uri": "https://localhost:8080/",
          "height": 35
        },
        "id": "TyfOfJ1FB6cx",
        "outputId": "34dcaa97-54c0-4921-958e-cf8ae8d1bca3"
      },
      "source": [
        "tup[-2]"
      ],
      "execution_count": 28,
      "outputs": [
        {
          "output_type": "execute_result",
          "data": {
            "application/vnd.google.colaboratory.intrinsic+json": {
              "type": "string"
            },
            "text/plain": [
              "'Lamborghini'"
            ]
          },
          "metadata": {
            "tags": []
          },
          "execution_count": 28
        }
      ]
    },
    {
      "cell_type": "markdown",
      "metadata": {
        "id": "4cptA1v7kyVN"
      },
      "source": [
        "###Slicing"
      ]
    },
    {
      "cell_type": "code",
      "metadata": {
        "id": "ccNllZ7WkyVN",
        "colab": {
          "base_uri": "https://localhost:8080/"
        },
        "outputId": "36f5fbbb-9c21-4cc1-d266-a095a27b3f69"
      },
      "source": [
        "tup = (1, 2, 3, 4, 5, 6, 7, 8, 9)\n",
        "\n",
        "tup[3:7]"
      ],
      "execution_count": 29,
      "outputs": [
        {
          "output_type": "execute_result",
          "data": {
            "text/plain": [
              "(4, 5, 6, 7)"
            ]
          },
          "metadata": {
            "tags": []
          },
          "execution_count": 29
        }
      ]
    },
    {
      "cell_type": "markdown",
      "metadata": {
        "id": "nynjiLWBkyVS"
      },
      "source": [
        "##Methods"
      ]
    },
    {
      "cell_type": "markdown",
      "metadata": {
        "id": "DyT_A8sFkyVT"
      },
      "source": [
        "###Index"
      ]
    },
    {
      "cell_type": "code",
      "metadata": {
        "id": "Gkw7mMb8kyVU",
        "colab": {
          "base_uri": "https://localhost:8080/"
        },
        "outputId": "73779111-187f-43e3-dfa4-97de1ab7d28b"
      },
      "source": [
        "tup = (23, 12, 53, 61, 27, 43, 24, 16, 89, 39)\n",
        "\n",
        "tup.index(53)"
      ],
      "execution_count": 30,
      "outputs": [
        {
          "output_type": "execute_result",
          "data": {
            "text/plain": [
              "2"
            ]
          },
          "metadata": {
            "tags": []
          },
          "execution_count": 30
        }
      ]
    },
    {
      "cell_type": "markdown",
      "metadata": {
        "id": "4GZNbMHpkyVY"
      },
      "source": [
        "###Count"
      ]
    },
    {
      "cell_type": "code",
      "metadata": {
        "id": "q43SAjskkyVZ",
        "colab": {
          "base_uri": "https://localhost:8080/"
        },
        "outputId": "54581e90-878f-42c3-f4c9-e47db8eee2cf"
      },
      "source": [
        "tup = (16, 16, 64, 43, 54, 16, 81, 79)\n",
        "\n",
        "tup.count(16)"
      ],
      "execution_count": 31,
      "outputs": [
        {
          "output_type": "execute_result",
          "data": {
            "text/plain": [
              "3"
            ]
          },
          "metadata": {
            "tags": []
          },
          "execution_count": 31
        }
      ]
    },
    {
      "cell_type": "markdown",
      "metadata": {
        "id": "s-RTQ5w5kyVd"
      },
      "source": [
        "###Maximum"
      ]
    },
    {
      "cell_type": "code",
      "metadata": {
        "id": "af1_zdI6kyVe",
        "colab": {
          "base_uri": "https://localhost:8080/"
        },
        "outputId": "917fe399-2d46-4b2f-8aa9-06f3db23f08c"
      },
      "source": [
        "tup = (1, 23, 24, 3, 4, 100, 68, 79)\n",
        "\n",
        "max(tup)"
      ],
      "execution_count": 32,
      "outputs": [
        {
          "output_type": "execute_result",
          "data": {
            "text/plain": [
              "100"
            ]
          },
          "metadata": {
            "tags": []
          },
          "execution_count": 32
        }
      ]
    },
    {
      "cell_type": "markdown",
      "metadata": {
        "id": "sxJTHrZUkyVk"
      },
      "source": [
        "###Minimum"
      ]
    },
    {
      "cell_type": "code",
      "metadata": {
        "id": "7y62eLNYkyVl",
        "colab": {
          "base_uri": "https://localhost:8080/"
        },
        "outputId": "e398acef-664e-497a-97db-131fe4a769ab"
      },
      "source": [
        "min(tup)"
      ],
      "execution_count": 33,
      "outputs": [
        {
          "output_type": "execute_result",
          "data": {
            "text/plain": [
              "1"
            ]
          },
          "metadata": {
            "tags": []
          },
          "execution_count": 33
        }
      ]
    },
    {
      "cell_type": "markdown",
      "metadata": {
        "id": "KhLowdvZkyVr"
      },
      "source": [
        "###Length"
      ]
    },
    {
      "cell_type": "code",
      "metadata": {
        "id": "AL7l203wkyVs",
        "colab": {
          "base_uri": "https://localhost:8080/"
        },
        "outputId": "d460228a-2547-4df0-a7d6-998f95c172aa"
      },
      "source": [
        "len(tup)"
      ],
      "execution_count": 34,
      "outputs": [
        {
          "output_type": "execute_result",
          "data": {
            "text/plain": [
              "8"
            ]
          },
          "metadata": {
            "tags": []
          },
          "execution_count": 34
        }
      ]
    }
  ]
}