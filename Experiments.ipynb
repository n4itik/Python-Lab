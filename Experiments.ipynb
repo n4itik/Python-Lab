{
  "nbformat": 4,
  "nbformat_minor": 0,
  "metadata": {
    "colab": {
      "name": "Experiments.ipynb",
      "provenance": [],
      "collapsed_sections": [
        "NPAjwa8rC-Yo",
        "IPbu1RDvEzI2",
        "nlbSNXdsFSxl",
        "RcwyA_MxF6yI",
        "_p93N9_dGR9v",
        "z3PAN-yMHZCC",
        "cwgs6VxtI3VZ",
        "9yEeLyzMJ6dL",
        "BaWgLq0RK2U3",
        "dff8TQYPLrgU",
        "Q1k5z4kNRSZO",
        "4Xm1Bpw2RycW",
        "sQdMIZ8QSAVb",
        "zk6GAauzTt4_",
        "7LeWaBdRUqPV",
        "EiccXQ8hiWK9",
        "wwBw0nx1kW39",
        "5x2OQeVom2UI",
        "uQ0JpXMvoNQI",
        "YEghVSNAod8t",
        "7UGrEaxeqtey",
        "hVmD32ORr1XT",
        "Ve2t8qBztgcL",
        "q6hPQbNbuBYz",
        "GZMf79-Kuhqu"
      ],
      "authorship_tag": "ABX9TyNLQPufswnKvzwk5AtkGyqX",
      "include_colab_link": true
    },
    "kernelspec": {
      "name": "python3",
      "display_name": "Python 3"
    },
    "language_info": {
      "name": "python"
    }
  },
  "cells": [
    {
      "cell_type": "markdown",
      "metadata": {
        "id": "view-in-github",
        "colab_type": "text"
      },
      "source": [
        "<a href=\"https://colab.research.google.com/github/n4itik/Python-Lab/blob/main/Experiments.ipynb\" target=\"_parent\"><img src=\"https://colab.research.google.com/assets/colab-badge.svg\" alt=\"Open In Colab\"/></a>"
      ]
    },
    {
      "cell_type": "markdown",
      "metadata": {
        "id": "CYOr2hvrvxus"
      },
      "source": [
        "# Simple I/O & Data Types"
      ]
    },
    {
      "cell_type": "markdown",
      "metadata": {
        "id": "NPAjwa8rC-Yo"
      },
      "source": [
        "###1. Display float number with 2 decimal places using print()."
      ]
    },
    {
      "cell_type": "code",
      "metadata": {
        "colab": {
          "base_uri": "https://localhost:8080/"
        },
        "id": "oeXLK-YrC6jI",
        "outputId": "5a85b6c8-88f2-4a48-e118-060c8575ea74"
      },
      "source": [
        "num = float(input(\"Enter a float number: \"))\n",
        "print(\"{:.2f}\".format(num))"
      ],
      "execution_count": null,
      "outputs": [
        {
          "output_type": "stream",
          "name": "stdout",
          "text": [
            "Enter a float number: 17.34982\n",
            "17.35\n"
          ]
        }
      ]
    },
    {
      "cell_type": "markdown",
      "metadata": {
        "id": "IPbu1RDvEzI2"
      },
      "source": [
        "###2. Takes two integer numbers and return their product."
      ]
    },
    {
      "cell_type": "code",
      "metadata": {
        "colab": {
          "base_uri": "https://localhost:8080/"
        },
        "id": "tKFyQ36mE0UU",
        "outputId": "37469a28-7779-4195-f1a3-c55f76952a3f"
      },
      "source": [
        "def product(a,b):\n",
        "  return a*b\n",
        "\n",
        "(a,b) = map(int,input(\"Enter two numbers: \").split())\n",
        "print(product(a,b))"
      ],
      "execution_count": null,
      "outputs": [
        {
          "output_type": "stream",
          "name": "stdout",
          "text": [
            "Enter two numbers: 4 7\n",
            "28\n"
          ]
        }
      ]
    },
    {
      "cell_type": "markdown",
      "metadata": {
        "id": "nlbSNXdsFSxl"
      },
      "source": [
        "###3. Write a Python program to get the volume of a sphere with radius 10."
      ]
    },
    {
      "cell_type": "code",
      "metadata": {
        "colab": {
          "base_uri": "https://localhost:8080/"
        },
        "id": "tWAA1SZYFXAl",
        "outputId": "1c9070e9-d783-428d-ecaa-2e1207999d91"
      },
      "source": [
        "import math\n",
        "\n",
        "radius = 10\n",
        "volume = (4/3) * math.pi * (radius**3)\n",
        "print(\"{:.2f}\".format(volume))"
      ],
      "execution_count": null,
      "outputs": [
        {
          "output_type": "stream",
          "name": "stdout",
          "text": [
            "4188.79\n"
          ]
        }
      ]
    },
    {
      "cell_type": "markdown",
      "metadata": {
        "id": "RcwyA_MxF6yI"
      },
      "source": [
        "###4. Accept two numbers from the user and multiply them together."
      ]
    },
    {
      "cell_type": "code",
      "metadata": {
        "colab": {
          "base_uri": "https://localhost:8080/"
        },
        "id": "snwxRFl_GDh7",
        "outputId": "d386b32f-3aab-43bb-a80d-b6a0bddc8cff"
      },
      "source": [
        "(a,b) = map(int,input(\"Enter two numbers: \").split())\n",
        "print(f\"{a} x {b} = {a*b}\")"
      ],
      "execution_count": null,
      "outputs": [
        {
          "output_type": "stream",
          "name": "stdout",
          "text": [
            "Enter two numbers: 13 6\n",
            "13 x 6 = 78\n"
          ]
        }
      ]
    },
    {
      "cell_type": "markdown",
      "metadata": {
        "id": "_p93N9_dGR9v"
      },
      "source": [
        "###5. Write a Python program that accepts an integer (a) and computes the value of a+aa+aaa."
      ]
    },
    {
      "cell_type": "code",
      "metadata": {
        "colab": {
          "base_uri": "https://localhost:8080/"
        },
        "id": "k7aOAPhoGgfO",
        "outputId": "7ff7e9f8-2c6e-42e9-d90f-e7910920e8d5"
      },
      "source": [
        "a = input(\"Enter a digit: \")\n",
        "print(f\"{a} + {a}{a} + {a}{a}{a} = {int(a) + int(a+a) + int(a+a+a)}\")"
      ],
      "execution_count": null,
      "outputs": [
        {
          "output_type": "stream",
          "name": "stdout",
          "text": [
            "Enter a digit: 6\n",
            "6 + 66 + 666 = 738\n"
          ]
        }
      ]
    },
    {
      "cell_type": "markdown",
      "metadata": {
        "id": "z3PAN-yMHZCC"
      },
      "source": [
        "###6. Write a Python program to calculate the length of a string."
      ]
    },
    {
      "cell_type": "code",
      "metadata": {
        "colab": {
          "base_uri": "https://localhost:8080/"
        },
        "id": "N02FsgzFHdgn",
        "outputId": "0ad98bbd-1af8-4e20-82ad-20546418f52c"
      },
      "source": [
        "string = input(\"Enter a string: \")\n",
        "print(f\"Length = {len(string)}\")"
      ],
      "execution_count": null,
      "outputs": [
        {
          "output_type": "stream",
          "name": "stdout",
          "text": [
            "Enter a string: Hello World!\n",
            "Length = 12\n"
          ]
        }
      ]
    },
    {
      "cell_type": "markdown",
      "metadata": {
        "id": "cwgs6VxtI3VZ"
      },
      "source": [
        "###7. Write a Python program to parse a string to Float & Integer."
      ]
    },
    {
      "cell_type": "code",
      "metadata": {
        "colab": {
          "base_uri": "https://localhost:8080/"
        },
        "id": "xYi-H4rsI-rs",
        "outputId": "1379558b-236a-4712-f4fa-32998c9ae7f9"
      },
      "source": [
        "string = input(\"String: \")\n",
        "f = float(string)\n",
        "i = int(f)\n",
        "\n",
        "print(f\"Float: {f}\")\n",
        "print(f\"Integer: {i}\")"
      ],
      "execution_count": null,
      "outputs": [
        {
          "output_type": "stream",
          "name": "stdout",
          "text": [
            "String: 89.214\n",
            "Float: 89.214\n",
            "Integer: 89\n"
          ]
        }
      ]
    },
    {
      "cell_type": "markdown",
      "metadata": {
        "id": "7wY7VQk3v56v"
      },
      "source": [
        "# Conditional Statements"
      ]
    },
    {
      "cell_type": "markdown",
      "metadata": {
        "id": "9yEeLyzMJ6dL"
      },
      "source": [
        "###8. Given two integer numbers return their sum. If the sum is greater than 100, then return their product."
      ]
    },
    {
      "cell_type": "code",
      "metadata": {
        "colab": {
          "base_uri": "https://localhost:8080/"
        },
        "id": "WcH9QzU1J-s_",
        "outputId": "e92dd39c-fad6-4821-fa0f-a1f52f6b76a7"
      },
      "source": [
        "def sum_prod(a,b):\n",
        "  sum = a+b\n",
        "  if sum <= 100:\n",
        "    return sum\n",
        "  else:\n",
        "    return a*b\n",
        "\n",
        "print(sum_prod(34,45))\n",
        "print(sum_prod(85,30))"
      ],
      "execution_count": null,
      "outputs": [
        {
          "output_type": "stream",
          "name": "stdout",
          "text": [
            "79\n",
            "2550\n"
          ]
        }
      ]
    },
    {
      "cell_type": "markdown",
      "metadata": {
        "id": "BaWgLq0RK2U3"
      },
      "source": [
        "###9. Write a Python program to calculate the sum of three given numbers, if the values are not - equal then return four times of their sum."
      ]
    },
    {
      "cell_type": "code",
      "metadata": {
        "colab": {
          "base_uri": "https://localhost:8080/"
        },
        "id": "P0TxlxPBK8m_",
        "outputId": "935383e8-ccaa-4dd6-d5e2-5ba153661e4f"
      },
      "source": [
        "def sum_three(a,b,c):\n",
        "  sum = a+b+c\n",
        "  if a == b == c:\n",
        "    sum = sum * 4\n",
        "  return sum\n",
        "\n",
        "print(sum_three(1,3,5))\n",
        "print(sum_three(4,4,4))"
      ],
      "execution_count": null,
      "outputs": [
        {
          "output_type": "stream",
          "name": "stdout",
          "text": [
            "9\n",
            "48\n"
          ]
        }
      ]
    },
    {
      "cell_type": "markdown",
      "metadata": {
        "id": "dff8TQYPLrgU"
      },
      "source": [
        "###10. A shop will give discount of 50% if the cost of purchased quantity is more than 10000. Ask user for quantity suppose, one unit will cost 100. Judge and print total cost for user."
      ]
    },
    {
      "cell_type": "code",
      "metadata": {
        "colab": {
          "base_uri": "https://localhost:8080/"
        },
        "id": "rrYm4YMxLvFc",
        "outputId": "b952f632-c6d3-499b-caae-84c93af4e3cc"
      },
      "source": [
        "unit_cost = 100\n",
        "quantity = int(input(\"Enter no. of units: \"))\n",
        "\n",
        "total_cost = unit_cost * quantity\n",
        "if total_cost >= 10000:\n",
        "  total_cost = total_cost / 2\n",
        "\n",
        "print(\"Total cost: ₹{:.2f}\".format(total_cost))"
      ],
      "execution_count": null,
      "outputs": [
        {
          "output_type": "stream",
          "name": "stdout",
          "text": [
            "Enter no. of units: 250\n",
            "Total cost: ₹12500.00\n"
          ]
        }
      ]
    },
    {
      "cell_type": "markdown",
      "metadata": {
        "id": "Q1k5z4kNRSZO"
      },
      "source": [
        "###11. To check whether a number is divisible by 8 and 12 or not."
      ]
    },
    {
      "cell_type": "code",
      "metadata": {
        "colab": {
          "base_uri": "https://localhost:8080/"
        },
        "id": "f81GGKJ_RWAW",
        "outputId": "1423a2d0-0949-4d35-c470-de7811c99aa1"
      },
      "source": [
        "num = int(input(\"Enter a number: \"))\n",
        "if num%8 == 0 and num%12 == 0:\n",
        "  print(\"Divisible by 8 and 12.\")\n",
        "else:\n",
        "  print(\"Not divisible by 8 and 12.\")"
      ],
      "execution_count": null,
      "outputs": [
        {
          "output_type": "stream",
          "name": "stdout",
          "text": [
            "Enter a number: 36\n",
            "Not divisible by 8 and 12.\n"
          ]
        }
      ]
    },
    {
      "cell_type": "markdown",
      "metadata": {
        "id": "4Xm1Bpw2RycW"
      },
      "source": [
        "###12. To check whether a given number is even or odd."
      ]
    },
    {
      "cell_type": "code",
      "metadata": {
        "colab": {
          "base_uri": "https://localhost:8080/"
        },
        "id": "xBiq3kCER1cy",
        "outputId": "6197fe3f-e508-4e24-f500-e76cefd517fe"
      },
      "source": [
        "num = int(input(\"Enter a number: \"))\n",
        "if num%2 == 0:\n",
        "  print(\"Even\")\n",
        "else:\n",
        "  print(\"Odd\")"
      ],
      "execution_count": null,
      "outputs": [
        {
          "output_type": "stream",
          "name": "stdout",
          "text": [
            "Enter a number: 87\n",
            "Odd\n"
          ]
        }
      ]
    },
    {
      "cell_type": "markdown",
      "metadata": {
        "id": "sQdMIZ8QSAVb"
      },
      "source": [
        "###13. Write a program to input marks of five subjects Physics, Chemistry, Biology, Mathematics and Computer. Calculate percentage and grade according to following:<br>\n",
        "Percentage >= 90% : Grade A<br>\n",
        "Percentage >= 80% : Grade B<br>\n",
        "Percentage >= 70% : Grade C<br>\n",
        "Percentage >= 60% : Grade D<br>\n",
        "Percentage >= 40% : Grade E<br>\n",
        "Percentage < 40% :  Grade F"
      ]
    },
    {
      "cell_type": "code",
      "metadata": {
        "colab": {
          "base_uri": "https://localhost:8080/"
        },
        "id": "WyJPst0OSFEU",
        "outputId": "afbb251e-5d18-4e7f-c04c-4bdce4792604"
      },
      "source": [
        "print(\"Enter marks (out of 100): \")\n",
        "phy = float(input(\"Physics: \"))\n",
        "chem = float(input(\"Chemistry: \"))\n",
        "bio = float(input(\"Biology: \"))\n",
        "math = float(input(\"Mathematics: \"))\n",
        "comp = float(input(\"Computer: \"))\n",
        "\n",
        "percentage = (phy + chem + bio + math + comp) / 5\n",
        "\n",
        "if percentage >= 90:\n",
        "  grade = 'A'\n",
        "elif percentage >=80:\n",
        "  grade = 'B'\n",
        "elif percentage >=70:\n",
        "  grade = 'C'\n",
        "elif percentage >=60:\n",
        "  grade = 'D'\n",
        "elif percentage >=40:\n",
        "  grade = 'E'\n",
        "else:\n",
        "  grade = 'F'\n",
        "\n",
        "print(f\"\\nPercentage: {percentage}\\nGrade: {grade}\")"
      ],
      "execution_count": null,
      "outputs": [
        {
          "output_type": "stream",
          "name": "stdout",
          "text": [
            "Enter marks (out of 100): \n",
            "Physics: 82\n",
            "Chemistry: 87\n",
            "Biology: 92\n",
            "Mathematics: 88\n",
            "Computer: 96\n",
            "\n",
            "Percentage: 89.0\n",
            "Grade: B\n"
          ]
        }
      ]
    },
    {
      "cell_type": "markdown",
      "metadata": {
        "id": "zk6GAauzTt4_"
      },
      "source": [
        "###14. Take input of age of 3 people by user and determine oldest and youngest among them."
      ]
    },
    {
      "cell_type": "code",
      "metadata": {
        "colab": {
          "base_uri": "https://localhost:8080/"
        },
        "id": "TDI3Bge9Tyj1",
        "outputId": "f7c68c2f-9b35-4d74-fd11-affd5e86b7e4"
      },
      "source": [
        "(a,b,c) = map(int,input(\"Enter the ages of 3 people: \").split())\n",
        "\n",
        "oldest = max(a,b,c)\n",
        "youngest = min(a,b,c)\n",
        "\n",
        "print(f\"\\nOldest: {oldest}\\nYoungest: {youngest}\")"
      ],
      "execution_count": null,
      "outputs": [
        {
          "output_type": "stream",
          "name": "stdout",
          "text": [
            "Enter the ages of 3 people: 17 12 21\n",
            "\n",
            "Oldest: 21\n",
            "Youngest: 12\n"
          ]
        }
      ]
    },
    {
      "cell_type": "markdown",
      "metadata": {
        "id": "7LeWaBdRUqPV"
      },
      "source": [
        "###15. Write a program to input electricity unit charges and calculate total electricity bill according to the given condition:<br>\n",
        "For first 50 units Rs. 0.50/unit<br>\n",
        "For next 100 units Rs. 0.75/unit<br>\n",
        "For next 100 units Rs. 1.20/unit<br>\n",
        "For unit above 250 Rs. 1.50/unit<br>\n",
        "An additional surcharge of 20% is added to the bill"
      ]
    },
    {
      "cell_type": "code",
      "metadata": {
        "colab": {
          "base_uri": "https://localhost:8080/"
        },
        "id": "vXn4e5mJUzVF",
        "outputId": "0e54a2f5-4668-4f5a-81a4-5683f72fe705"
      },
      "source": [
        "unit = float(input(\"Enter units consumed: \"))\n",
        "\n",
        "if unit <= 50:\n",
        "  bill = 0.5 * unit\n",
        "elif unit <= 150:\n",
        "  bill = (0.5 * 50) + 0.75 * (unit - 50)\n",
        "elif unit <= 250:\n",
        "  bill = (0.5 * 50) + (0.75 * 100) + 1.20 * (unit - 150)\n",
        "else:\n",
        "  bill = (0.5 * 50) + (0.75 * 100) + (1.20 * 100) + 1.50 * (unit - 250) \n",
        "\n",
        "bill = bill + (bill * 0.20)\n",
        "print(\"Total bill: ₹{:.2f}\".format(bill))"
      ],
      "execution_count": null,
      "outputs": [
        {
          "output_type": "stream",
          "name": "stdout",
          "text": [
            "Enter units consumed: 126\n",
            "Total bill: ₹98.40\n"
          ]
        }
      ]
    },
    {
      "cell_type": "markdown",
      "metadata": {
        "id": "EiccXQ8hiWK9"
      },
      "source": [
        "###16. A student will not be allowed to sit in exam if his/her attendence is less than 80%.<br> Take following input from user:<br>\n",
        "Total Number of classes held<br>\n",
        "Total Number of classes attended.<br>\n",
        "Print percentage of class attended. Is student allowed to sit in exam or not?"
      ]
    },
    {
      "cell_type": "code",
      "metadata": {
        "colab": {
          "base_uri": "https://localhost:8080/"
        },
        "id": "AAjWuS_8iwC2",
        "outputId": "c5a960ee-6170-4559-f182-837306ba50d4"
      },
      "source": [
        "num_classes = int(input(\"Enter no. of classes held: \"))\n",
        "num_attended = int(input(\"Enter no. of classes attended: \"))\n",
        "\n",
        "percent = (num_attended/num_classes) * 100\n",
        "print(\"\\nPercentage of classes attended: {:.2f}%\".format(percent))\n",
        "\n",
        "if percent >= 80:\n",
        "  print(\"The student is allowed to sit in exam.\")\n",
        "else:\n",
        "  print(\"The student is not allowed to sit in exam.\")"
      ],
      "execution_count": null,
      "outputs": [
        {
          "output_type": "stream",
          "name": "stdout",
          "text": [
            "Enter no. of classes held: 53\n",
            "Enter no. of classes attended: 39\n",
            "\n",
            "Percentage of classes attended: 73.58%\n",
            "The student is not allowed to sit in exam.\n"
          ]
        }
      ]
    },
    {
      "cell_type": "markdown",
      "metadata": {
        "id": "wwBw0nx1kW39"
      },
      "source": [
        "###17. Calculate income tax for the given income by adhering to the below rules:\n",
        "Taxable Income -------- Rate (in %)<br>\n",
        "First Rs.10,0000 -------- 0<br>\n",
        "Next Rs. 10,0000 ------- 10<br>\n",
        "The remaining ------------ 20"
      ]
    },
    {
      "cell_type": "code",
      "metadata": {
        "colab": {
          "base_uri": "https://localhost:8080/"
        },
        "id": "BYfXG5rhk1gc",
        "outputId": "4d47c21b-82dc-40a0-d2d3-37ed6667b931"
      },
      "source": [
        "income = float(input(\"Enter income: ₹\"))\n",
        "\n",
        "if income <= 10000:\n",
        "  tax = 0\n",
        "elif income <=20000:\n",
        "  tax = (income - 10000) * 0.1\n",
        "else:\n",
        "  tax = (income - 20000) * 0.2 + 1000\n",
        "\n",
        "print(\"Tax amount: ₹{:.2f}\".format(tax))"
      ],
      "execution_count": null,
      "outputs": [
        {
          "output_type": "stream",
          "name": "stdout",
          "text": [
            "Enter income: ₹40000\n",
            "Tax amount: ₹5000.00\n"
          ]
        }
      ]
    },
    {
      "cell_type": "markdown",
      "metadata": {
        "id": "TGSEBDOLv_rB"
      },
      "source": [
        "# Loop"
      ]
    },
    {
      "cell_type": "markdown",
      "metadata": {
        "id": "5x2OQeVom2UI"
      },
      "source": [
        "###18. Find digital sum of a given number.\n",
        "   ex: n=123  Digital sum----->1+2+3=6"
      ]
    },
    {
      "cell_type": "code",
      "metadata": {
        "colab": {
          "base_uri": "https://localhost:8080/"
        },
        "id": "ot0TAsahm-cH",
        "outputId": "b3c41c7f-4e82-454d-d82b-e30947ef5e36"
      },
      "source": [
        "num = input(\"Enter any number: \")\n",
        "sum = 0\n",
        "\n",
        "for i in num:\n",
        "  sum = sum + int(i)\n",
        "\n",
        "print(f\"Digital sum = {sum}\")"
      ],
      "execution_count": null,
      "outputs": [
        {
          "output_type": "stream",
          "name": "stdout",
          "text": [
            "Enter any number: 123\n",
            "Digital sum = 6\n"
          ]
        }
      ]
    },
    {
      "cell_type": "markdown",
      "metadata": {
        "id": "uQ0JpXMvoNQI"
      },
      "source": [
        "###19. Find the digital product of a given number.\n",
        "   ex: n=43   Digital product ----->4*3=12"
      ]
    },
    {
      "cell_type": "code",
      "metadata": {
        "colab": {
          "base_uri": "https://localhost:8080/"
        },
        "id": "a4deUBnvoRuZ",
        "outputId": "59802815-6506-406a-bb41-ba2f9f4316b0"
      },
      "source": [
        "num = input(\"Enter any number: \")\n",
        "prod = 1\n",
        "\n",
        "for i in num:\n",
        "  prod = prod * int(i)\n",
        "\n",
        "print(f\"Digital product = {prod}\")"
      ],
      "execution_count": null,
      "outputs": [
        {
          "output_type": "stream",
          "name": "stdout",
          "text": [
            "Enter any number: 43\n",
            "Digital product = 12\n"
          ]
        }
      ]
    },
    {
      "cell_type": "markdown",
      "metadata": {
        "id": "YEghVSNAod8t"
      },
      "source": [
        "###20. Find the sum of the series 3 +33 + 333 + 3333 + .. n terms."
      ]
    },
    {
      "cell_type": "code",
      "metadata": {
        "colab": {
          "base_uri": "https://localhost:8080/"
        },
        "id": "AQpAqUyGogwc",
        "outputId": "57fab59f-0a5c-48a8-dce4-586162357b75"
      },
      "source": [
        "n = int(input(\"Enter no. of terms: \"))\n",
        "sum = 0\n",
        "t = 3\n",
        "\n",
        "for i in range(1, n+1):\n",
        "  sum = sum + t\n",
        "  t = t*10 + 3\n",
        "\n",
        "print(f\"Sum upto {n} terms: {sum}\")"
      ],
      "execution_count": null,
      "outputs": [
        {
          "output_type": "stream",
          "name": "stdout",
          "text": [
            "Enter no. of terms: 5\n",
            "Sum upto 5 terms: 37035\n"
          ]
        }
      ]
    },
    {
      "cell_type": "markdown",
      "metadata": {
        "id": "7UGrEaxeqtey"
      },
      "source": [
        "###21. Print the following pattern:\n",
        "<p>\n",
        "* <br>\n",
        "* * <br>\n",
        "* * * <br>\n",
        "* * * * <br>\n",
        "* * * * * <br>\n",
        "* * * * <br>\n",
        "* * * <br>\n",
        "* * <br>\n",
        "*<br>\n",
        "</p>"
      ]
    },
    {
      "cell_type": "code",
      "metadata": {
        "colab": {
          "base_uri": "https://localhost:8080/"
        },
        "id": "ff6pXN5SqoZL",
        "outputId": "2b47a02f-32ef-4e65-ab0b-9602a9c7837c"
      },
      "source": [
        "n = int(input(\"Enter no. of columns: \"))\n",
        "\n",
        "for i in range(n):\n",
        "  print((i+1) * '* ')\n",
        "\n",
        "for i in range(n-1,0,-1):\n",
        "  print(i * '* ')"
      ],
      "execution_count": null,
      "outputs": [
        {
          "output_type": "stream",
          "name": "stdout",
          "text": [
            "Enter no. of columns: 9\n",
            "* \n",
            "* * \n",
            "* * * \n",
            "* * * * \n",
            "* * * * * \n",
            "* * * * * * \n",
            "* * * * * * * \n",
            "* * * * * * * * \n",
            "* * * * * * * * * \n",
            "* * * * * * * * \n",
            "* * * * * * * \n",
            "* * * * * * \n",
            "* * * * * \n",
            "* * * * \n",
            "* * * \n",
            "* * \n",
            "* \n"
          ]
        }
      ]
    },
    {
      "cell_type": "markdown",
      "metadata": {
        "id": "hVmD32ORr1XT"
      },
      "source": [
        "###22. Program to reverse a given number.\n",
        "ex: n=123   Reversed no. is 321."
      ]
    },
    {
      "cell_type": "code",
      "metadata": {
        "colab": {
          "base_uri": "https://localhost:8080/"
        },
        "id": "L3uAQ3WHr-Gg",
        "outputId": "f43dcb09-1d95-4ce6-c424-d3f3a8fd3898"
      },
      "source": [
        "n = int(input(\"Enter a no.: \"))\n",
        "reverse = 0\n",
        "\n",
        "while n>0:\n",
        "  rem = n%10\n",
        "  reverse = reverse*10 + rem\n",
        "  n = n//10\n",
        "\n",
        "print(f\"Reversed no. is {reverse}.\")"
      ],
      "execution_count": null,
      "outputs": [
        {
          "output_type": "stream",
          "name": "stdout",
          "text": [
            "Enter a no.: 1234\n",
            "Reversed no. is 4321.\n"
          ]
        }
      ]
    },
    {
      "cell_type": "markdown",
      "metadata": {
        "id": "Ve2t8qBztgcL"
      },
      "source": [
        "###23. Program to check whether a given number is a palindrome or not."
      ]
    },
    {
      "cell_type": "code",
      "metadata": {
        "colab": {
          "base_uri": "https://localhost:8080/"
        },
        "id": "D5rbgAdltmPV",
        "outputId": "a342aca6-7e71-4221-9e82-0a7737a354c3"
      },
      "source": [
        "n = int(input(\"Enter a no.: \"))\n",
        "num = n\n",
        "reverse = 0\n",
        "\n",
        "while n>0:\n",
        "  rem = n%10\n",
        "  reverse = reverse*10 + rem\n",
        "  n = n//10\n",
        "\n",
        "if reverse == num:\n",
        "  print(\"Palindrome\")\n",
        "else:\n",
        "  print(\"Not a palindrome\")"
      ],
      "execution_count": null,
      "outputs": [
        {
          "output_type": "stream",
          "name": "stdout",
          "text": [
            "Enter a no.: 12321\n",
            "Palindrome\n"
          ]
        }
      ]
    },
    {
      "cell_type": "markdown",
      "metadata": {
        "id": "q6hPQbNbuBYz"
      },
      "source": [
        "###24. Program to check whether a given number is an Armstrong number or not."
      ]
    },
    {
      "cell_type": "code",
      "metadata": {
        "colab": {
          "base_uri": "https://localhost:8080/"
        },
        "id": "adEIaO7Ft-eP",
        "outputId": "c6e7b1f5-f150-4136-85ec-103038af0073"
      },
      "source": [
        "n = int(input(\"Enter a no.: \"))\n",
        "num = n\n",
        "sum = 0\n",
        "\n",
        "while n>0:\n",
        "  rem = n%10\n",
        "  sum = sum + rem**3\n",
        "  n = n//10\n",
        "\n",
        "if sum == num:\n",
        "  print(\"Armstrong number\")\n",
        "else:\n",
        "  print(\"Not an Armstrong number\")"
      ],
      "execution_count": null,
      "outputs": [
        {
          "output_type": "stream",
          "name": "stdout",
          "text": [
            "Enter a no.: 153\n",
            "Armstrong number\n"
          ]
        }
      ]
    },
    {
      "cell_type": "markdown",
      "metadata": {
        "id": "GZMf79-Kuhqu"
      },
      "source": [
        "###25. Program to find factorial of a given number."
      ]
    },
    {
      "cell_type": "code",
      "metadata": {
        "colab": {
          "base_uri": "https://localhost:8080/"
        },
        "id": "T38_6cqgupr1",
        "outputId": "8924d4e8-7ee9-4d60-afe2-e486fd7eca04"
      },
      "source": [
        "n = int(input(\"Enter a no.: \"))\n",
        "factorial = 1\n",
        "\n",
        "for i in range(1, n+1):\n",
        "  factorial = factorial * i\n",
        "\n",
        "print(f\"Factorial of {n} = {factorial}\")"
      ],
      "execution_count": null,
      "outputs": [
        {
          "output_type": "stream",
          "name": "stdout",
          "text": [
            "Enter a no.: 6\n",
            "Factorial of 6 = 720\n"
          ]
        }
      ]
    },
    {
      "cell_type": "markdown",
      "metadata": {
        "id": "vdrMyqbMqPpS"
      },
      "source": [
        "###26. Program to find whether a given number is a strong number or not.\n",
        "  e.g. n=145\n",
        "  1!+4!+5!==145\""
      ]
    },
    {
      "cell_type": "code",
      "metadata": {
        "colab": {
          "base_uri": "https://localhost:8080/"
        },
        "id": "4hODljPbwpsP",
        "outputId": "c49c696d-7563-49d0-81e5-4f8550ccc277"
      },
      "source": [
        "sum=0  \n",
        "num=int(input(\"Enter a number: \"))  \n",
        "temp=num  \n",
        "\n",
        "while(num):   \n",
        "    i=1  \n",
        "    fact=1  \n",
        "    rem=num%10  \n",
        "    while(i<=rem):  \n",
        "        fact=fact*i\n",
        "        i=i+1  \n",
        "    sum=sum+fact  \n",
        "    num=num//10  \n",
        "\n",
        "if(sum==temp):  \n",
        "    print(\"Strong number\")  \n",
        "else:  \n",
        "    print(\"Not a strong number\")  "
      ],
      "execution_count": 1,
      "outputs": [
        {
          "output_type": "stream",
          "name": "stdout",
          "text": [
            "Enter a number: 145\n",
            "Strong number\n"
          ]
        }
      ]
    },
    {
      "cell_type": "markdown",
      "metadata": {
        "id": "mxvcavqfqXfj"
      },
      "source": [
        "###27. Program to find whether a given number is a unique number. For example, 20, 56, 9863, 145, etc. are the unique numbers while 33, 121, 900, 1010, etc. are not unique numbers."
      ]
    },
    {
      "cell_type": "code",
      "metadata": {
        "colab": {
          "base_uri": "https://localhost:8080/"
        },
        "id": "jq-vWPu-xUpA",
        "outputId": "295bd79b-4972-4571-eb20-ccc82240163a"
      },
      "source": [
        "n = input(\"Enter a number: \")\n",
        "if len(n) == len(set(n)):\n",
        "  print(\"Unique number\")\n",
        "else:\n",
        "  print(\"Not a unique number\")"
      ],
      "execution_count": 3,
      "outputs": [
        {
          "output_type": "stream",
          "name": "stdout",
          "text": [
            "Enter a number: 1010\n",
            "Not a unique number\n"
          ]
        }
      ]
    },
    {
      "cell_type": "markdown",
      "metadata": {
        "id": "2btjzIUaqYvF"
      },
      "source": [
        "###28. Program to find whether a given number is a perfect number or not."
      ]
    },
    {
      "cell_type": "code",
      "metadata": {
        "colab": {
          "base_uri": "https://localhost:8080/"
        },
        "id": "hD8lIKa2yBbo",
        "outputId": "e38221cb-2a60-474e-c14e-f5c8d80f92f6"
      },
      "source": [
        "n = int(input(\"Enter a number: \"))\n",
        "sum = 0\n",
        "\n",
        "for i in range(1, n):\n",
        "    if(n % i == 0):\n",
        "        sum = sum + i\n",
        "\n",
        "if (sum == n):\n",
        "    print(\"Perfect number\")\n",
        "else:\n",
        "    print(\"Not a perfect number\")"
      ],
      "execution_count": 5,
      "outputs": [
        {
          "output_type": "stream",
          "name": "stdout",
          "text": [
            "Enter a number: 25\n",
            "Not a perfect number\n"
          ]
        }
      ]
    },
    {
      "cell_type": "markdown",
      "metadata": {
        "id": "mk1C0SvjqZ6Y"
      },
      "source": [
        "###29. Program to find whether a given number is a prime number or not."
      ]
    },
    {
      "cell_type": "code",
      "metadata": {
        "colab": {
          "base_uri": "https://localhost:8080/"
        },
        "id": "wsvlc399yZLR",
        "outputId": "9829b7ad-94b7-4032-a902-ad61fea4b5a8"
      },
      "source": [
        "n = int(input(\"Enter a number: \"))\n",
        "sqrt_n = int(n**0.5)\n",
        "\n",
        "for i in range(2, sqrt_n+1):\n",
        "  if n%i == 0:\n",
        "    print(\"Not a prime number\")\n",
        "    break\n",
        "else:\n",
        "  print(\"Prime number\")"
      ],
      "execution_count": 11,
      "outputs": [
        {
          "output_type": "stream",
          "name": "stdout",
          "text": [
            "Enter a number: 23\n",
            "Prime number\n"
          ]
        }
      ]
    },
    {
      "cell_type": "markdown",
      "metadata": {
        "id": "xhz8f00oqaBB"
      },
      "source": [
        "###30. Print downward half-pyramid pattern with star (asterisk).\n",
        "<p>\n",
        "* * * * *  <br>\n",
        "* * * *  <br>\n",
        "* * *  <br>\n",
        "* *  <br>\n",
        "* <br>\n",
        "</p>"
      ]
    },
    {
      "cell_type": "code",
      "metadata": {
        "colab": {
          "base_uri": "https://localhost:8080/"
        },
        "id": "2KFGUmCHzokg",
        "outputId": "28110484-ed27-4250-e830-e9cdd6546aa8"
      },
      "source": [
        "n = int(input(\"Enter no. of rows: \"))\n",
        "\n",
        "for i in range(n,0,-1):\n",
        "  print('*'*i)"
      ],
      "execution_count": 12,
      "outputs": [
        {
          "output_type": "stream",
          "name": "stdout",
          "text": [
            "Enter no. of rows: 6\n",
            "******\n",
            "*****\n",
            "****\n",
            "***\n",
            "**\n",
            "*\n"
          ]
        }
      ]
    },
    {
      "cell_type": "markdown",
      "metadata": {
        "id": "Mp5vpBLKqYnm"
      },
      "source": [
        "###31. Print  following pattern: \n",
        "1 <br>\n",
        "22 <br>\n",
        "333 <br>\n",
        "4444 <br>\n",
        "55555 <br>\n",
        "666666 <br>\n",
        "7777777 <br>\n",
        "88888888 <br>\n",
        "999999999"
      ]
    },
    {
      "cell_type": "code",
      "metadata": {
        "colab": {
          "base_uri": "https://localhost:8080/"
        },
        "id": "-SHOfg28z5BP",
        "outputId": "d764e55d-56ae-4e4f-96f7-3c7d361e3844"
      },
      "source": [
        "for i in range(1,10):\n",
        "  print(f\"{i}\"*i)"
      ],
      "execution_count": 13,
      "outputs": [
        {
          "output_type": "stream",
          "name": "stdout",
          "text": [
            "1\n",
            "22\n",
            "333\n",
            "4444\n",
            "55555\n",
            "666666\n",
            "7777777\n",
            "88888888\n",
            "999999999\n"
          ]
        }
      ]
    },
    {
      "cell_type": "markdown",
      "metadata": {
        "id": "imdAJm7HqaHA"
      },
      "source": [
        "###32. Print  following pattern: \n",
        "1 <br>\n",
        "12 <br>\n",
        "123 <br>\n",
        "1234 <br>\n",
        "12345 <br>\n",
        "123456 <br>\n",
        "1234567 <br>\n",
        "12345678 <br>\n",
        "123456789 <br>"
      ]
    },
    {
      "cell_type": "code",
      "metadata": {
        "colab": {
          "base_uri": "https://localhost:8080/"
        },
        "id": "GgNgG78I0Jec",
        "outputId": "628aa4d3-ca31-4a08-dfa3-e1676038427d"
      },
      "source": [
        "for i in range(1,10):\n",
        "  for j in range(1,i+1):\n",
        "    print(j, end='')\n",
        "  print()"
      ],
      "execution_count": 15,
      "outputs": [
        {
          "output_type": "stream",
          "name": "stdout",
          "text": [
            "1\n",
            "12\n",
            "123\n",
            "1234\n",
            "12345\n",
            "123456\n",
            "1234567\n",
            "12345678\n",
            "123456789\n"
          ]
        }
      ]
    },
    {
      "cell_type": "markdown",
      "metadata": {
        "id": "KygwkhT8qaNB"
      },
      "source": [
        "###33. Print following pattern: \n",
        "A <br>\n",
        "BB <br>\n",
        "CCC <br>\n",
        "DDDD <br>\n",
        "EEEEE <br>\n",
        "FFFFFF <br>\n",
        "GGGGGGG <br>\n",
        "HHHHHHHH"
      ]
    },
    {
      "cell_type": "code",
      "metadata": {
        "colab": {
          "base_uri": "https://localhost:8080/"
        },
        "id": "ZEVcO5fA0sKl",
        "outputId": "3511674e-d67d-4cfa-d4a2-b4b27fda4a12"
      },
      "source": [
        "n = int(input(\"Enter no. of rows: \"))\n",
        "A = 65\n",
        "\n",
        "for i in range(1,n+1):\n",
        "    for j in range(1, i+1):\n",
        "        print(\"%c\" %(A), end='')\n",
        "    A += 1\n",
        "    print()"
      ],
      "execution_count": 16,
      "outputs": [
        {
          "output_type": "stream",
          "name": "stdout",
          "text": [
            "Enter no. of rows: 11\n",
            "A\n",
            "BB\n",
            "CCC\n",
            "DDDD\n",
            "EEEEE\n",
            "FFFFFF\n",
            "GGGGGGG\n",
            "HHHHHHHH\n",
            "IIIIIIIII\n",
            "JJJJJJJJJJ\n",
            "KKKKKKKKKKK\n"
          ]
        }
      ]
    },
    {
      "cell_type": "markdown",
      "metadata": {
        "id": "tgSe_K6MwF3Q"
      },
      "source": [
        "# String"
      ]
    },
    {
      "cell_type": "markdown",
      "metadata": {
        "id": "5Q4PJcYoqaTR"
      },
      "source": [
        "###34. Write a Python program to calculate the length of a given string."
      ]
    },
    {
      "cell_type": "code",
      "metadata": {
        "colab": {
          "base_uri": "https://localhost:8080/"
        },
        "id": "jmQJUyuc1Eqo",
        "outputId": "84e19b3e-6ef1-4e94-e7ad-3c93e04a61ae"
      },
      "source": [
        "string = input(\"Enter a string: \")\n",
        "count=0\n",
        "\n",
        "for char in string:\n",
        "  count += 1\n",
        "\n",
        "print(f\"Length: {count}\")"
      ],
      "execution_count": 19,
      "outputs": [
        {
          "output_type": "stream",
          "name": "stdout",
          "text": [
            "Enter a string: abraham\n",
            "Length: 7\n"
          ]
        }
      ]
    },
    {
      "cell_type": "markdown",
      "metadata": {
        "id": "fgOC5gkDqaZM"
      },
      "source": [
        "###35. Write a Python program to get a single string from two given strings, separated by a space and swap the first characters of each string.\n",
        " Sample String : 'abc', 'xyz' <br>\n",
        " Expected Result : 'xbc ayz'"
      ]
    },
    {
      "cell_type": "code",
      "metadata": {
        "colab": {
          "base_uri": "https://localhost:8080/"
        },
        "id": "bm-8lfeS2H9h",
        "outputId": "739b6b20-eb8d-45a0-cb49-5c87e61e523e"
      },
      "source": [
        "def swap(a, b):\n",
        "  new_a = b[:1] + a[1:]\n",
        "  new_b = a[:1] + b[1:]\n",
        "  return new_a + ' ' + new_b\n",
        "\n",
        "(a,b) = input(\"Enter 2 space separated strings: \").split()\n",
        "print(swap(a,b))"
      ],
      "execution_count": 21,
      "outputs": [
        {
          "output_type": "stream",
          "name": "stdout",
          "text": [
            "Enter 2 space separated strings: abc xyz\n",
            "xbc ayz\n"
          ]
        }
      ]
    },
    {
      "cell_type": "markdown",
      "metadata": {
        "id": "570NHF24qafT"
      },
      "source": [
        "###36. Write a Python program to add 'polis' at the end of a given string (length should be at least 3).\n",
        "  If the given string already ends with 'polis' then add 'polisCS' instead.\n",
        "  If the string length of the given string is less than 3, leave it unchanged. \n",
        " Sample String : 'abc' <br>\n",
        " Expected Result : 'abcpolis' <br> \n",
        " Sample String : 'Acropolis' <br>\n",
        " Expected Result : 'AcropolisCS'"
      ]
    },
    {
      "cell_type": "code",
      "metadata": {
        "colab": {
          "base_uri": "https://localhost:8080/"
        },
        "id": "7Pqzz4rv26tZ",
        "outputId": "921beb97-17f1-4004-bc7c-8c3518c70c15"
      },
      "source": [
        "string = input(\"Enter a string: \")\n",
        "if string.endswith(\"polis\"):\n",
        "  print(string+\"CS\")\n",
        "else:\n",
        "  print(string+\"polis\")"
      ],
      "execution_count": 23,
      "outputs": [
        {
          "output_type": "stream",
          "name": "stdout",
          "text": [
            "Enter a string: Acropolis\n",
            "AcropolisCS\n"
          ]
        }
      ]
    },
    {
      "cell_type": "markdown",
      "metadata": {
        "id": "v1SdH4SEqali"
      },
      "source": [
        "###37. Write a Python program to count the number of characters (character frequency) in a string. \n",
        " Sample String : google.com' <br>\n",
        " Expected Result : {'o': 3, 'g': 2, '.': 1, 'e': 1, 'l': 1, 'm': 1, 'c': 1}"
      ]
    },
    {
      "cell_type": "code",
      "metadata": {
        "colab": {
          "base_uri": "https://localhost:8080/"
        },
        "id": "snIEIl7g3Vwl",
        "outputId": "34d8854b-9d86-465e-c465-7d0d26caef43"
      },
      "source": [
        "string = input(\"Enter a string: \")\n",
        "freq_dict = {}\n",
        "\n",
        "for char in string:\n",
        "  if char in freq_dict:\n",
        "    freq_dict[char] += 1\n",
        "  else:\n",
        "    freq_dict[char] = 1\n",
        "\n",
        "print(freq_dict)"
      ],
      "execution_count": 24,
      "outputs": [
        {
          "output_type": "stream",
          "name": "stdout",
          "text": [
            "Enter a string: google.com\n",
            "{'g': 2, 'o': 3, 'l': 1, 'e': 1, '.': 1, 'c': 1, 'm': 1}\n"
          ]
        }
      ]
    },
    {
      "cell_type": "markdown",
      "metadata": {
        "id": "gJLJyXltqar1"
      },
      "source": [
        "###38. Write a Python program to change a given string to a new string where the second and last chars have been exchanged."
      ]
    },
    {
      "cell_type": "code",
      "metadata": {
        "colab": {
          "base_uri": "https://localhost:8080/"
        },
        "id": "wROsI6tp37hS",
        "outputId": "41c7bbf5-cdfb-4e8c-9a54-bc96c4c03061"
      },
      "source": [
        "string = input(\"Enter a string: \")\n",
        "second = string[1]\n",
        "last = string[-1]\n",
        "\n",
        "print(string[0] + last + string[2:len(string)-1] + second)"
      ],
      "execution_count": 28,
      "outputs": [
        {
          "output_type": "stream",
          "name": "stdout",
          "text": [
            "Enter a string: Dwight\n",
            "Dtighw\n"
          ]
        }
      ]
    },
    {
      "cell_type": "markdown",
      "metadata": {
        "id": "dKo2IOVyqaya"
      },
      "source": [
        "###39. Write a Python program to remove the characters which have even index values of a given string."
      ]
    },
    {
      "cell_type": "code",
      "metadata": {
        "colab": {
          "base_uri": "https://localhost:8080/"
        },
        "id": "YvWIvwsE4t65",
        "outputId": "3f5c7b0b-278b-42a7-80af-742b5b658c93"
      },
      "source": [
        "string = input(\"Enter a string: \")\n",
        "output = \"\"\n",
        "\n",
        "for i in range(len(string)):\n",
        "  if i%2 == 0:\n",
        "    output += string[i]\n",
        "\n",
        "print(output)"
      ],
      "execution_count": 29,
      "outputs": [
        {
          "output_type": "stream",
          "name": "stdout",
          "text": [
            "Enter a string: abraham\n",
            "arhm\n"
          ]
        }
      ]
    },
    {
      "cell_type": "markdown",
      "metadata": {
        "id": "1F7R9tnGqa4g"
      },
      "source": [
        "###40. Write a Python program that takes input from the user and displays that input back in upper and lower cases."
      ]
    },
    {
      "cell_type": "code",
      "metadata": {
        "colab": {
          "base_uri": "https://localhost:8080/"
        },
        "id": "Or3bwM1X5c5N",
        "outputId": "0fb94d89-e9fb-4a7b-fd3e-8cb8f926239e"
      },
      "source": [
        "string = input(\"Enter a string: \")\n",
        "\n",
        "print(\"Upper:\", string.upper())\n",
        "print(\"Lower:\", string.lower())"
      ],
      "execution_count": 30,
      "outputs": [
        {
          "output_type": "stream",
          "name": "stdout",
          "text": [
            "Enter a string: Harry Potter\n",
            "Upper: HARRY POTTER\n",
            "Lower: harry potter\n"
          ]
        }
      ]
    },
    {
      "cell_type": "markdown",
      "metadata": {
        "id": "4aPm_lLpqa_S"
      },
      "source": [
        "###41. Write a Python program to count occurrences of a substring in a string."
      ]
    },
    {
      "cell_type": "code",
      "metadata": {
        "colab": {
          "base_uri": "https://localhost:8080/"
        },
        "id": "KeFypHN850Uy",
        "outputId": "4b902c82-625e-41c5-89c0-2693fb05da4b"
      },
      "source": [
        "string = input(\"Enter a string: \")\n",
        "sub = input(\"Enter substring: \")\n",
        "\n",
        "print(f\"The substring occurs {string.count(sub)} times.\")"
      ],
      "execution_count": 31,
      "outputs": [
        {
          "output_type": "stream",
          "name": "stdout",
          "text": [
            "Enter a string: Mississipi\n",
            "Enter substring: ssi\n",
            "The substring occurs 2 times.\n"
          ]
        }
      ]
    },
    {
      "cell_type": "markdown",
      "metadata": {
        "id": "UfVwc4hgqbFW"
      },
      "source": [
        "###42. Write a Python program to lowercase first n characters in a string."
      ]
    },
    {
      "cell_type": "code",
      "metadata": {
        "colab": {
          "base_uri": "https://localhost:8080/"
        },
        "id": "IeBRXYbn6ad3",
        "outputId": "2d94f760-3ecc-4aca-d142-90253939e8fb"
      },
      "source": [
        "string = input(\"Enter a string: \")\n",
        "n = int(input(\"Enter value of n: \"))\n",
        "\n",
        "first_n = string[:n]\n",
        "print(first_n.lower() + string[n:])"
      ],
      "execution_count": 32,
      "outputs": [
        {
          "output_type": "stream",
          "name": "stdout",
          "text": [
            "Enter a string: CZECHOSLOVAKIA\n",
            "Enter value of n: 5\n",
            "czechOSLOVAKIA\n"
          ]
        }
      ]
    },
    {
      "cell_type": "markdown",
      "metadata": {
        "id": "xhKUhFE8qbLw"
      },
      "source": [
        "###43. Write a Python program to remove spaces from a given string."
      ]
    },
    {
      "cell_type": "code",
      "metadata": {
        "colab": {
          "base_uri": "https://localhost:8080/"
        },
        "id": "cmzcLYM-61D1",
        "outputId": "8795b48e-96e7-4192-950a-eca5846b8c13"
      },
      "source": [
        "string = input(\"Enter a string: \")\n",
        "string = string.strip()\n",
        "\n",
        "str_lst = string.split()\n",
        "print(\"\".join(str_lst))"
      ],
      "execution_count": 33,
      "outputs": [
        {
          "output_type": "stream",
          "name": "stdout",
          "text": [
            "Enter a string:   Harry Potter And The Chamber Of Secrets  \n",
            "HarryPotterAndTheChamberOfSecrets\n"
          ]
        }
      ]
    },
    {
      "cell_type": "markdown",
      "metadata": {
        "id": "EhPskDEiqbRh"
      },
      "source": [
        "###44. Write a Python program to move spaces to the front of a given string."
      ]
    },
    {
      "cell_type": "code",
      "metadata": {
        "colab": {
          "base_uri": "https://localhost:8080/"
        },
        "id": "keBFeW2A7XLc",
        "outputId": "13be0d1b-67a3-4f54-f20d-5de807f4bde6"
      },
      "source": [
        "string = input(\"Enter a string: \")\n",
        "\n",
        "no_space_char = [char for char in string if char!=' ']\n",
        "space_char = len(string) - len(no_space_char)\n",
        "output = ' '*space_char + ''.join(no_space_char)\n",
        "\n",
        "print(output)"
      ],
      "execution_count": 35,
      "outputs": [
        {
          "output_type": "stream",
          "name": "stdout",
          "text": [
            "Enter a string:    Harry Potter And    The Chamber  Of   Secrets  \n",
            "                 HarryPotterAndTheChamberOfSecrets\n"
          ]
        }
      ]
    },
    {
      "cell_type": "markdown",
      "metadata": {
        "id": "KsxsDhY4qbXK"
      },
      "source": [
        "###45. Write a Python program to find the maximum occurring character in a given string."
      ]
    },
    {
      "cell_type": "code",
      "metadata": {
        "colab": {
          "base_uri": "https://localhost:8080/"
        },
        "id": "OBAaA30C8UVt",
        "outputId": "ff76ae03-a19b-416f-86e2-6f486e9a0544"
      },
      "source": [
        "string = input(\"Enter a string: \")\n",
        "freq_dict = {}\n",
        "\n",
        "for char in string:\n",
        "  if char in freq_dict:\n",
        "    freq_dict[char] += 1\n",
        "  else:\n",
        "    freq_dict[char] = 1\n",
        "\n",
        "print(f\"The maximum occurring character is '{max(freq_dict)}'.\")"
      ],
      "execution_count": 37,
      "outputs": [
        {
          "output_type": "stream",
          "name": "stdout",
          "text": [
            "Enter a string: Mississipi\n",
            "The maximum occurring character is 's'.\n"
          ]
        }
      ]
    },
    {
      "cell_type": "markdown",
      "metadata": {
        "id": "XycZ7K9Uqbdd"
      },
      "source": [
        "###46. Write a Python program to capitalize first and last letters of each word of a given string."
      ]
    },
    {
      "cell_type": "code",
      "metadata": {
        "colab": {
          "base_uri": "https://localhost:8080/"
        },
        "id": "kB7V863h88zG",
        "outputId": "c2d72e46-2bc4-490c-dd58-b96bc436f9b9"
      },
      "source": [
        "string = input(\"Enter a string: \")\n",
        "first = string[0]\n",
        "last = string[-1]\n",
        "\n",
        "print(first.upper() + string[1:len(string)-1] + last.upper())"
      ],
      "execution_count": 39,
      "outputs": [
        {
          "output_type": "stream",
          "name": "stdout",
          "text": [
            "Enter a string: michael\n",
            "MichaeL\n"
          ]
        }
      ]
    },
    {
      "cell_type": "markdown",
      "metadata": {
        "id": "bi5u0MN8qbkC"
      },
      "source": [
        "###47. Write a Python program to compute sum of digits of a given string."
      ]
    },
    {
      "cell_type": "code",
      "metadata": {
        "colab": {
          "base_uri": "https://localhost:8080/"
        },
        "id": "7UjbvewA9UTE",
        "outputId": "50c8d3ce-0b28-49c9-d396-659836a21631"
      },
      "source": [
        "string = input(\"Enter a string: \")\n",
        "sum = 0\n",
        "\n",
        "for char in string:\n",
        "  if char.isdigit():\n",
        "    sum += int(char)\n",
        "\n",
        "print(f\"The sum of digits in the string is {sum}.\")"
      ],
      "execution_count": 40,
      "outputs": [
        {
          "output_type": "stream",
          "name": "stdout",
          "text": [
            "Enter a string: 1q2w3e4r\n",
            "The sum of digits in the string is 10.\n"
          ]
        }
      ]
    },
    {
      "cell_type": "markdown",
      "metadata": {
        "id": "e_DBL51BwK6s"
      },
      "source": [
        "# Function"
      ]
    },
    {
      "cell_type": "markdown",
      "metadata": {
        "id": "THpAKomIqbq1"
      },
      "source": [
        "###48. Write a Python function that takes a list of words and returns the length of the longest one."
      ]
    },
    {
      "cell_type": "code",
      "metadata": {
        "colab": {
          "base_uri": "https://localhost:8080/"
        },
        "id": "YVsf-qnw-LWR",
        "outputId": "756a3cab-95af-45f3-a8ca-bd35829a0e8c"
      },
      "source": [
        "def longest_word(word_list):\n",
        "    word_len = []\n",
        "\n",
        "    for n in word_list:\n",
        "        word_len.append((len(n), n))\n",
        "\n",
        "    word_len.sort()\n",
        "    return word_len[-1][0], word_len[-1][1]\n",
        "\n",
        "output = longest_word([\"Omen\", \"Chamber\", \"Reyna\"])\n",
        "print(\"Longest word: \", output[1])\n",
        "print(\"Length: \", output[0])"
      ],
      "execution_count": 43,
      "outputs": [
        {
          "output_type": "stream",
          "name": "stdout",
          "text": [
            "Longest word:  Chamber\n",
            "Length:  7\n"
          ]
        }
      ]
    },
    {
      "cell_type": "markdown",
      "metadata": {
        "id": "046zkuIaqbx2"
      },
      "source": [
        "###49. Write a function x(n) for computing an element in the sequence xn=n^2+1. Call the function for n=4 and write out the result."
      ]
    },
    {
      "cell_type": "code",
      "metadata": {
        "colab": {
          "base_uri": "https://localhost:8080/"
        },
        "id": "0D9j2RS2_JCf",
        "outputId": "686f06f0-39a8-4ae9-a587-03f73d4ffd2c"
      },
      "source": [
        "def x(n):\n",
        "    return n**2 + 1\n",
        "\n",
        "print(f\"x(4) = {x(4)}\")"
      ],
      "execution_count": 46,
      "outputs": [
        {
          "output_type": "stream",
          "name": "stdout",
          "text": [
            "x(4) = 17\n"
          ]
        }
      ]
    },
    {
      "cell_type": "markdown",
      "metadata": {
        "id": "0r325sgKqb4y"
      },
      "source": [
        "###50. Take the following Python code that stores a string: ‘str = 'Y-tatata-acropolis: 0.8475'. Use find and string slicing to extract the portion of the string after the colon character and then use the float function to convert the extracted string into a floating point number.\n"
      ]
    },
    {
      "cell_type": "code",
      "metadata": {
        "colab": {
          "base_uri": "https://localhost:8080/"
        },
        "id": "-n7ybAVm_kqC",
        "outputId": "eb1695a7-07b1-46aa-d508-d7d2f2279edf"
      },
      "source": [
        "string = 'Y-tatata-acropolis: 0.8475'\n",
        "colon_idx = string.find(':')\n",
        "\n",
        "print(float(string[colon_idx + 1:]))"
      ],
      "execution_count": 47,
      "outputs": [
        {
          "output_type": "stream",
          "name": "stdout",
          "text": [
            "0.8475\n"
          ]
        }
      ]
    },
    {
      "cell_type": "markdown",
      "metadata": {
        "id": "wy85SpONqb_C"
      },
      "source": [
        "###51. Write a function that returns the middle value among three integers. (Hint: make use of min() and max()). Write code to test this function with different inputs."
      ]
    },
    {
      "cell_type": "code",
      "metadata": {
        "colab": {
          "base_uri": "https://localhost:8080/"
        },
        "id": "ft1oqvZyAB_T",
        "outputId": "5b645d9f-b088-428a-df17-6c389f8c1f84"
      },
      "source": [
        "def middle(lst):\n",
        "  for i in lst:\n",
        "    if i != min(lst) and i != max(lst):\n",
        "      return i\n",
        "\n",
        "lst = [45, 23, 37]\n",
        "print(middle(lst))"
      ],
      "execution_count": 48,
      "outputs": [
        {
          "output_type": "stream",
          "name": "stdout",
          "text": [
            "37\n"
          ]
        }
      ]
    },
    {
      "cell_type": "markdown",
      "metadata": {
        "id": "SA6jIwjNqcGT"
      },
      "source": [
        "###52. Write a function that computes the area of a rectangle. Then, write a second function that calls this function three times to compute the surface area of a rectangular solid.\n"
      ]
    },
    {
      "cell_type": "code",
      "metadata": {
        "colab": {
          "base_uri": "https://localhost:8080/"
        },
        "id": "n9LeH-3EAj4v",
        "outputId": "65aa35a7-eaf4-4309-dce6-3c2574119452"
      },
      "source": [
        "def area_of_rectangle(l,b):\n",
        "  return l*b\n",
        "\n",
        "def surface_area_of_cuboid(l,b,h):\n",
        "  return area_of_rectangle(l,b) + area_of_rectangle(b,h) + area_of_rectangle(h,l)\n",
        "\n",
        "print(surface_area_of_cuboid(4,5,6))"
      ],
      "execution_count": 51,
      "outputs": [
        {
          "output_type": "stream",
          "name": "stdout",
          "text": [
            "74\n"
          ]
        }
      ]
    },
    {
      "cell_type": "markdown",
      "metadata": {
        "id": "r4GW_w28qcow"
      },
      "source": [
        "###53. Create an outer function that will accept three parameters, a, b and c. Create an inner function inside an outer function that will calculate the addition of a, b and c. At last, an outer function will add 5 into addition and return it."
      ]
    },
    {
      "cell_type": "code",
      "metadata": {
        "colab": {
          "base_uri": "https://localhost:8080/"
        },
        "id": "0RugDdnCBeRO",
        "outputId": "52ebd511-33fc-4352-fa54-062d20168a65"
      },
      "source": [
        "def outer(a,b,c):\n",
        "  def inner():\n",
        "    return a+b+c\n",
        "  return inner() + 5\n",
        "\n",
        "print(outer(1,2,3))"
      ],
      "execution_count": 52,
      "outputs": [
        {
          "output_type": "stream",
          "name": "stdout",
          "text": [
            "11\n"
          ]
        }
      ]
    },
    {
      "cell_type": "markdown",
      "metadata": {
        "id": "xxmyXaBkqcvd"
      },
      "source": [
        "###54. Write a program to create a recursive function to calculate the product of numbers from 10 to 100."
      ]
    },
    {
      "cell_type": "code",
      "metadata": {
        "colab": {
          "base_uri": "https://localhost:8080/"
        },
        "id": "rkWEWiu_Bwhn",
        "outputId": "57c02595-e09f-4354-f685-56ec25a25a79"
      },
      "source": [
        "def product(a,b):\n",
        "\tif a < b:\n",
        "\t\treturn product(b, a)\n",
        "\t\n",
        "\telif b != 0:\n",
        "\t\treturn (a + product(a, b - 1))\n",
        "\t\n",
        "\telse:\n",
        "\t\treturn 0\n",
        "\n",
        "print(product(16,23))"
      ],
      "execution_count": 53,
      "outputs": [
        {
          "output_type": "stream",
          "name": "stdout",
          "text": [
            "368\n"
          ]
        }
      ]
    },
    {
      "cell_type": "markdown",
      "metadata": {
        "id": "VK4MBn1IqdOI"
      },
      "source": [
        "###55. Write a Python function to calculate the factorial of a number (a non-negative integer). The function accepts the number as an argument."
      ]
    },
    {
      "cell_type": "code",
      "metadata": {
        "colab": {
          "base_uri": "https://localhost:8080/"
        },
        "id": "48yN1Q5aDbH1",
        "outputId": "e193b904-b0a6-4938-826f-1fa2ace4ddf6"
      },
      "source": [
        "def factorial(n):\n",
        "  if n == 1:\n",
        "    return 1\n",
        "  else:\n",
        "    return n * factorial(n-1)\n",
        "\n",
        "print(factorial(6))"
      ],
      "execution_count": 54,
      "outputs": [
        {
          "output_type": "stream",
          "name": "stdout",
          "text": [
            "720\n"
          ]
        }
      ]
    },
    {
      "cell_type": "markdown",
      "metadata": {
        "id": "ai-pjbzVqduc"
      },
      "source": [
        "###56. Write a Python function to display all the multiples of  7 & 9 within the range 100 to 500."
      ]
    },
    {
      "cell_type": "code",
      "metadata": {
        "colab": {
          "base_uri": "https://localhost:8080/"
        },
        "id": "z16aGHqmDswq",
        "outputId": "50c8d1d2-dcf9-43e7-d850-47ebc7405517"
      },
      "source": [
        "multiples = []\n",
        "\n",
        "for i in range(100,500):\n",
        "  if i%7 == 0 and i%9 == 0:\n",
        "    multiples.append(str(i))\n",
        "\n",
        "print(\", \".join(multiples))"
      ],
      "execution_count": 56,
      "outputs": [
        {
          "output_type": "stream",
          "name": "stdout",
          "text": [
            "126, 189, 252, 315, 378, 441\n"
          ]
        }
      ]
    },
    {
      "cell_type": "markdown",
      "metadata": {
        "id": "pgVQ1uY-qd07"
      },
      "source": [
        "###57. Write a Python function  to check whether the given integer is a prime number or not."
      ]
    },
    {
      "cell_type": "code",
      "metadata": {
        "colab": {
          "base_uri": "https://localhost:8080/"
        },
        "id": "ayN60018EVyo",
        "outputId": "69f9c076-151c-4a6c-90c9-225535a2f68d"
      },
      "source": [
        "def is_prime(n):\n",
        "  sqrt_n = int(n**0.5)\n",
        "  for i in range(2,sqrt_n+1):\n",
        "    if n%i == 0:\n",
        "      return False\n",
        "  else:\n",
        "    return True\n",
        "\n",
        "is_prime(19)"
      ],
      "execution_count": 59,
      "outputs": [
        {
          "output_type": "execute_result",
          "data": {
            "text/plain": [
              "True"
            ]
          },
          "metadata": {},
          "execution_count": 59
        }
      ]
    },
    {
      "cell_type": "markdown",
      "metadata": {
        "id": "Lm3Xi9J0qd89"
      },
      "source": [
        "###58. Write a Python function that checks whether a passed integer is Armstrong or not."
      ]
    },
    {
      "cell_type": "code",
      "metadata": {
        "colab": {
          "base_uri": "https://localhost:8080/"
        },
        "id": "deIzquNxE2KQ",
        "outputId": "fb06c2d9-e6ed-4ebd-fb77-13864c16c051"
      },
      "source": [
        "def is_armstrong(n):\n",
        "  sum = 0\n",
        "  temp = n\n",
        "  while temp > 0:\n",
        "    rem = temp % 10\n",
        "    sum += rem ** 3\n",
        "    temp //= 10\n",
        "\n",
        "  return n == sum\n",
        "  \n",
        "is_armstrong(407)"
      ],
      "execution_count": 68,
      "outputs": [
        {
          "output_type": "execute_result",
          "data": {
            "text/plain": [
              "True"
            ]
          },
          "metadata": {},
          "execution_count": 68
        }
      ]
    },
    {
      "cell_type": "markdown",
      "metadata": {
        "id": "OFstaq0HqeDz"
      },
      "source": [
        "###59. Program to return a function from another function."
      ]
    },
    {
      "cell_type": "code",
      "metadata": {
        "colab": {
          "base_uri": "https://localhost:8080/"
        },
        "id": "X5MfQd8_F98K",
        "outputId": "1b1668b5-34aa-4c6b-9896-88e70417606b"
      },
      "source": [
        "def A():\n",
        "  print(\"A\")\n",
        "\n",
        "def B():\n",
        "  print(\"B\")\n",
        "  return A\n",
        "\n",
        "returned = B()\n",
        "returned()"
      ],
      "execution_count": 72,
      "outputs": [
        {
          "output_type": "stream",
          "name": "stdout",
          "text": [
            "B\n",
            "A\n"
          ]
        }
      ]
    },
    {
      "cell_type": "markdown",
      "metadata": {
        "id": "B7gczzoKqeLA"
      },
      "source": [
        "###60. First, define a function, start_process, that takes one argument p. Then, if the start_process function receives an p equal to \"Yes\", it should return \"Start Process\" Alternatively, elif p is equal to \"No\", then the function should return \"Start Process Aborted\". Finally, if start_process gets anything other than those inputs, the function should return \"Sorry for the input\".\n",
        "\n"
      ]
    },
    {
      "cell_type": "code",
      "metadata": {
        "colab": {
          "base_uri": "https://localhost:8080/"
        },
        "id": "hDmoac_0Gkrl",
        "outputId": "d029a119-7a42-4e9f-c148-6c28e67e6830"
      },
      "source": [
        "def start_process(p):\n",
        "  if p == \"Yes\":\n",
        "    return \"Start Process\"\n",
        "  elif p == \"No\":\n",
        "    return \"Start Process Aborted\"\n",
        "  else:\n",
        "    return \"Sorry for the input\"\n",
        "\n",
        "print(start_process(\"Yes\"))\n",
        "print(start_process(\"No\"))\n",
        "print(start_process(\"Hi\"))"
      ],
      "execution_count": 73,
      "outputs": [
        {
          "output_type": "stream",
          "name": "stdout",
          "text": [
            "Start Process\n",
            "Start Process Aborted\n",
            "Sorry for the input\n"
          ]
        }
      ]
    },
    {
      "cell_type": "markdown",
      "metadata": {
        "id": "wVzniyA1qfFd"
      },
      "source": [
        "###61. First, define a function called calculate_distance, with one argument (choose any argument name you like). If the type of the argument is either int or float, the function should return the absolute value of the function input. Otherwise, the function should return \"No value\". Check if it works calling the function with  9.6 and \"what?\"."
      ]
    },
    {
      "cell_type": "code",
      "metadata": {
        "colab": {
          "base_uri": "https://localhost:8080/"
        },
        "id": "GDyUHZLaHPlK",
        "outputId": "48c52fef-73eb-43ec-9865-0c922da2442e"
      },
      "source": [
        "def calculate_distance(arg):\n",
        "  if isinstance(arg, float):\n",
        "    return abs(arg)\n",
        "  else:\n",
        "    return \"No value\"\n",
        "\n",
        "print(calculate_distance(9.6))\n",
        "print(calculate_distance(\"what?\"))"
      ],
      "execution_count": 75,
      "outputs": [
        {
          "output_type": "stream",
          "name": "stdout",
          "text": [
            "9.6\n",
            "No value\n"
          ]
        }
      ]
    },
    {
      "cell_type": "markdown",
      "metadata": {
        "id": "fQHoVO71wQfw"
      },
      "source": [
        "# List"
      ]
    },
    {
      "cell_type": "markdown",
      "metadata": {
        "id": "zjevIWbwqfNa"
      },
      "source": [
        "###62. Program to display the sum of input (n) numbers using a list."
      ]
    },
    {
      "cell_type": "code",
      "metadata": {
        "colab": {
          "base_uri": "https://localhost:8080/"
        },
        "id": "5U9UFLOfISVb",
        "outputId": "e4e71aa7-728f-4cb0-d6fa-319afcc8d3f5"
      },
      "source": [
        "lst = [int(i) for i in input(\"Enter numbers: \").split()]\n",
        "sum = 0\n",
        "\n",
        "for i in lst:\n",
        "  sum += i\n",
        "\n",
        "print(f\"Sum = {sum}\")"
      ],
      "execution_count": 77,
      "outputs": [
        {
          "output_type": "stream",
          "name": "stdout",
          "text": [
            "Enter numbers: 1 2 3 4 5\n",
            "Sum = 15\n"
          ]
        }
      ]
    },
    {
      "cell_type": "markdown",
      "metadata": {
        "id": "yTsLWEfWqfVy"
      },
      "source": [
        "###63. Program to insert a number to given position in a list."
      ]
    },
    {
      "cell_type": "code",
      "metadata": {
        "colab": {
          "base_uri": "https://localhost:8080/"
        },
        "id": "XtxyEqQ_I9dh",
        "outputId": "94251ce2-8615-4981-c5ef-feac52c8c250"
      },
      "source": [
        "lst = [1,2,3,4,5,6,7,8,9]\n",
        "\n",
        "(num,idx) = input(\"Enter number and index: \").split()\n",
        "lst.insert(int(idx), int(num))\n",
        "\n",
        "lst"
      ],
      "execution_count": 87,
      "outputs": [
        {
          "name": "stdout",
          "output_type": "stream",
          "text": [
            "Enter number and index: 99  5\n"
          ]
        },
        {
          "output_type": "execute_result",
          "data": {
            "text/plain": [
              "[1, 2, 3, 4, 5, 99, 6, 7, 8, 9]"
            ]
          },
          "metadata": {},
          "execution_count": 87
        }
      ]
    },
    {
      "cell_type": "markdown",
      "metadata": {
        "id": "kxEcQ4qEqfc8"
      },
      "source": [
        "###64. Write a program that prompts the user for a list of numbers and prints out the maximum and minimum of the numbers at the end when the user enters “done”. Write the program to store the numbers the user enters in a list and use the max() and min() functions to compute the maximum and minimum numbers after the loop completes."
      ]
    },
    {
      "cell_type": "code",
      "metadata": {
        "colab": {
          "base_uri": "https://localhost:8080/"
        },
        "id": "indA9TmtJ7Ey",
        "outputId": "5d8dfec8-bc69-455c-c4af-e39eee2e6d4c"
      },
      "source": [
        "lst = []\n",
        "\n",
        "while(True):\n",
        "  x = input()\n",
        "  if x == \"done\":\n",
        "    break\n",
        "  else:\n",
        "    lst.append(int(x))\n",
        "\n",
        "print(f\"Maximum = {max(lst)}\")\n",
        "print(f\"Minimum = {min(lst)}\")"
      ],
      "execution_count": 82,
      "outputs": [
        {
          "output_type": "stream",
          "name": "stdout",
          "text": [
            "1\n",
            "2\n",
            "3\n",
            "4\n",
            "5\n",
            "done\n",
            "Maximum = 5\n",
            "Minimum = 1\n"
          ]
        }
      ]
    },
    {
      "cell_type": "markdown",
      "metadata": {
        "id": "lILKZbVBqflE"
      },
      "source": [
        "###65. Write another program that prompts for a list of numbers as above and at the end prints out both the maximum and minimum of the numbers."
      ]
    },
    {
      "cell_type": "code",
      "metadata": {
        "colab": {
          "base_uri": "https://localhost:8080/"
        },
        "id": "NBL7Fp5JKxe0",
        "outputId": "ef205714-fc1b-4546-b46f-d4074be166a2"
      },
      "source": [
        "lst = [int(i) for i in input().split()]\n",
        "\n",
        "print(f\"Maximum = {max(lst)}\")\n",
        "print(f\"Minimum = {min(lst)}\")"
      ],
      "execution_count": 83,
      "outputs": [
        {
          "output_type": "stream",
          "name": "stdout",
          "text": [
            "1 2 3 4 5\n",
            "Maximum = 5\n",
            "Minimum = 1\n"
          ]
        }
      ]
    },
    {
      "cell_type": "markdown",
      "metadata": {
        "id": "b5_cRfiyqf_h"
      },
      "source": [
        "###66. Program to delete an element from a list by index which is given by the user."
      ]
    },
    {
      "cell_type": "code",
      "metadata": {
        "colab": {
          "base_uri": "https://localhost:8080/"
        },
        "id": "n0U0dzvpK_jl",
        "outputId": "b6b4b3f8-13bf-47ae-d79e-c6e302f67c81"
      },
      "source": [
        "lst = [1,2,3,4,5,6,7,8,9]\n",
        "\n",
        "idx = int(input(\"Enter index: \"))\n",
        "lst.pop(idx)\n",
        "\n",
        "lst"
      ],
      "execution_count": 86,
      "outputs": [
        {
          "name": "stdout",
          "output_type": "stream",
          "text": [
            "Enter index: 4\n"
          ]
        },
        {
          "output_type": "execute_result",
          "data": {
            "text/plain": [
              "[1, 2, 3, 4, 6, 7, 8, 9]"
            ]
          },
          "metadata": {},
          "execution_count": 86
        }
      ]
    },
    {
      "cell_type": "markdown",
      "metadata": {
        "id": "X7CXfqHjqgGR"
      },
      "source": [
        "###67. Program to print a specified list after removing the 1st, 2nd and 5th elements."
      ]
    },
    {
      "cell_type": "code",
      "metadata": {
        "colab": {
          "base_uri": "https://localhost:8080/"
        },
        "id": "1rv1as1OLqlP",
        "outputId": "f8b98b76-19c0-43d3-8c4f-b49e6d5ca3de"
      },
      "source": [
        "lst = [int(i) for i in input(\"Enter elements: \").split()]\n",
        "\n",
        "lst.pop(0)\n",
        "lst.pop(1)\n",
        "lst.pop(4)\n",
        "\n",
        "lst"
      ],
      "execution_count": 89,
      "outputs": [
        {
          "name": "stdout",
          "output_type": "stream",
          "text": [
            "Enter elements: 1 2 3 4 5 6 7 8 9\n"
          ]
        },
        {
          "output_type": "execute_result",
          "data": {
            "text/plain": [
              "[2, 4, 5, 6, 8, 9]"
            ]
          },
          "metadata": {},
          "execution_count": 89
        }
      ]
    },
    {
      "cell_type": "markdown",
      "metadata": {
        "id": "Svnf58yTqgMe"
      },
      "source": [
        "###68. Program to generate all sublists of a list."
      ]
    },
    {
      "cell_type": "code",
      "metadata": {
        "colab": {
          "base_uri": "https://localhost:8080/"
        },
        "id": "gu__6bSiMBAS",
        "outputId": "7f51179a-14a2-43c9-bd09-d36508266eec"
      },
      "source": [
        "from itertools import combinations\n",
        "\n",
        "def sublists(lst):\n",
        "\tsubs = []\n",
        "\n",
        "\tfor i in range(0, len(lst)+1):\n",
        "\t  temp = [list(x) for x in combinations(lst, i)]\n",
        "\t  if len(temp)>0:\n",
        "\t    subs.extend(temp)\n",
        "     \n",
        "\treturn subs\n",
        "\n",
        "lst = [1,2,3]\n",
        "print(f\"Sublists: {sublists(lst)}\")"
      ],
      "execution_count": 90,
      "outputs": [
        {
          "output_type": "stream",
          "name": "stdout",
          "text": [
            "Sublists: [[], [1], [2], [3], [1, 2], [1, 3], [2, 3], [1, 2, 3]]\n"
          ]
        }
      ]
    },
    {
      "cell_type": "markdown",
      "metadata": {
        "id": "jmy5eM6rqgTG"
      },
      "source": [
        "###69. Program to find all the values in a list are greater than a given number."
      ]
    },
    {
      "cell_type": "code",
      "metadata": {
        "colab": {
          "base_uri": "https://localhost:8080/"
        },
        "id": "rlUvTfkFM2Lh",
        "outputId": "0a40f2a0-1697-4142-fc7e-0f39b54f8912"
      },
      "source": [
        "lst = [12,67,43,85,68,35,62,71,29]\n",
        "x = int(input(\"Enter value: \"))\n",
        "\n",
        "for i in lst:\n",
        "  if i > x:\n",
        "    print(i,end=\" \")"
      ],
      "execution_count": 93,
      "outputs": [
        {
          "output_type": "stream",
          "name": "stdout",
          "text": [
            "Enter value: 50\n",
            "67 85 68 62 71 "
          ]
        }
      ]
    },
    {
      "cell_type": "markdown",
      "metadata": {
        "id": "pJKPbn4_qgZ3"
      },
      "source": [
        "###70. Program to find the even numbers in a list."
      ]
    },
    {
      "cell_type": "code",
      "metadata": {
        "colab": {
          "base_uri": "https://localhost:8080/"
        },
        "id": "0caor3lsNZEU",
        "outputId": "a069c6d1-5dfd-4688-b937-cab695c6c825"
      },
      "source": [
        "lst = [12,67,43,85,68,35,62,71,29]\n",
        "\n",
        "for i in lst:\n",
        "  if i%2 == 0:\n",
        "    print(i,end=\" \")"
      ],
      "execution_count": 94,
      "outputs": [
        {
          "output_type": "stream",
          "name": "stdout",
          "text": [
            "12 68 62 "
          ]
        }
      ]
    }
  ]
}