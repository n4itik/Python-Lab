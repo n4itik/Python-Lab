{
  "nbformat": 4,
  "nbformat_minor": 0,
  "metadata": {
    "colab": {
      "name": "Experiments.ipynb",
      "provenance": [],
      "collapsed_sections": [
        "NPAjwa8rC-Yo",
        "IPbu1RDvEzI2",
        "nlbSNXdsFSxl",
        "RcwyA_MxF6yI",
        "_p93N9_dGR9v",
        "z3PAN-yMHZCC",
        "cwgs6VxtI3VZ",
        "9yEeLyzMJ6dL",
        "BaWgLq0RK2U3",
        "dff8TQYPLrgU",
        "Q1k5z4kNRSZO",
        "4Xm1Bpw2RycW",
        "sQdMIZ8QSAVb",
        "zk6GAauzTt4_",
        "7LeWaBdRUqPV",
        "EiccXQ8hiWK9",
        "wwBw0nx1kW39",
        "5x2OQeVom2UI",
        "uQ0JpXMvoNQI",
        "YEghVSNAod8t",
        "7UGrEaxeqtey",
        "hVmD32ORr1XT",
        "Ve2t8qBztgcL",
        "q6hPQbNbuBYz",
        "GZMf79-Kuhqu"
      ],
      "authorship_tag": "ABX9TyOidIiiKQIYMtR+H06h90VP"
    },
    "kernelspec": {
      "name": "python3",
      "display_name": "Python 3"
    },
    "language_info": {
      "name": "python"
    }
  },
  "cells": [
    {
      "cell_type": "markdown",
      "metadata": {
        "id": "NPAjwa8rC-Yo"
      },
      "source": [
        "###1. Display float number with 2 decimal places using print()."
      ]
    },
    {
      "cell_type": "code",
      "metadata": {
        "colab": {
          "base_uri": "https://localhost:8080/"
        },
        "id": "oeXLK-YrC6jI",
        "outputId": "5a85b6c8-88f2-4a48-e118-060c8575ea74"
      },
      "source": [
        "num = float(input(\"Enter a float number: \"))\n",
        "print(\"{:.2f}\".format(num))"
      ],
      "execution_count": null,
      "outputs": [
        {
          "output_type": "stream",
          "name": "stdout",
          "text": [
            "Enter a float number: 17.34982\n",
            "17.35\n"
          ]
        }
      ]
    },
    {
      "cell_type": "markdown",
      "metadata": {
        "id": "IPbu1RDvEzI2"
      },
      "source": [
        "###2. Takes two integer numbers and return their product."
      ]
    },
    {
      "cell_type": "code",
      "metadata": {
        "colab": {
          "base_uri": "https://localhost:8080/"
        },
        "id": "tKFyQ36mE0UU",
        "outputId": "37469a28-7779-4195-f1a3-c55f76952a3f"
      },
      "source": [
        "def product(a,b):\n",
        "  return a*b\n",
        "\n",
        "(a,b) = map(int,input(\"Enter two numbers: \").split())\n",
        "print(product(a,b))"
      ],
      "execution_count": null,
      "outputs": [
        {
          "output_type": "stream",
          "name": "stdout",
          "text": [
            "Enter two numbers: 4 7\n",
            "28\n"
          ]
        }
      ]
    },
    {
      "cell_type": "markdown",
      "metadata": {
        "id": "nlbSNXdsFSxl"
      },
      "source": [
        "###3. Write a Python program to get the volume of a sphere with radius 10."
      ]
    },
    {
      "cell_type": "code",
      "metadata": {
        "colab": {
          "base_uri": "https://localhost:8080/"
        },
        "id": "tWAA1SZYFXAl",
        "outputId": "1c9070e9-d783-428d-ecaa-2e1207999d91"
      },
      "source": [
        "import math\n",
        "\n",
        "radius = 10\n",
        "volume = (4/3) * math.pi * (radius**3)\n",
        "print(\"{:.2f}\".format(volume))"
      ],
      "execution_count": null,
      "outputs": [
        {
          "output_type": "stream",
          "name": "stdout",
          "text": [
            "4188.79\n"
          ]
        }
      ]
    },
    {
      "cell_type": "markdown",
      "metadata": {
        "id": "RcwyA_MxF6yI"
      },
      "source": [
        "###4. Accept two numbers from the user and multiply them together."
      ]
    },
    {
      "cell_type": "code",
      "metadata": {
        "colab": {
          "base_uri": "https://localhost:8080/"
        },
        "id": "snwxRFl_GDh7",
        "outputId": "d386b32f-3aab-43bb-a80d-b6a0bddc8cff"
      },
      "source": [
        "(a,b) = map(int,input(\"Enter two numbers: \").split())\n",
        "print(f\"{a} x {b} = {a*b}\")"
      ],
      "execution_count": null,
      "outputs": [
        {
          "output_type": "stream",
          "name": "stdout",
          "text": [
            "Enter two numbers: 13 6\n",
            "13 x 6 = 78\n"
          ]
        }
      ]
    },
    {
      "cell_type": "markdown",
      "metadata": {
        "id": "_p93N9_dGR9v"
      },
      "source": [
        "###5. Write a Python program that accepts an integer (a) and computes the value of a+aa+aaa."
      ]
    },
    {
      "cell_type": "code",
      "metadata": {
        "colab": {
          "base_uri": "https://localhost:8080/"
        },
        "id": "k7aOAPhoGgfO",
        "outputId": "7ff7e9f8-2c6e-42e9-d90f-e7910920e8d5"
      },
      "source": [
        "a = input(\"Enter a digit: \")\n",
        "print(f\"{a} + {a}{a} + {a}{a}{a} = {int(a) + int(a+a) + int(a+a+a)}\")"
      ],
      "execution_count": null,
      "outputs": [
        {
          "output_type": "stream",
          "name": "stdout",
          "text": [
            "Enter a digit: 6\n",
            "6 + 66 + 666 = 738\n"
          ]
        }
      ]
    },
    {
      "cell_type": "markdown",
      "metadata": {
        "id": "z3PAN-yMHZCC"
      },
      "source": [
        "###6. Write a Python program to calculate the length of a string."
      ]
    },
    {
      "cell_type": "code",
      "metadata": {
        "colab": {
          "base_uri": "https://localhost:8080/"
        },
        "id": "N02FsgzFHdgn",
        "outputId": "0ad98bbd-1af8-4e20-82ad-20546418f52c"
      },
      "source": [
        "string = input(\"Enter a string: \")\n",
        "print(f\"Length = {len(string)}\")"
      ],
      "execution_count": null,
      "outputs": [
        {
          "output_type": "stream",
          "name": "stdout",
          "text": [
            "Enter a string: Hello World!\n",
            "Length = 12\n"
          ]
        }
      ]
    },
    {
      "cell_type": "markdown",
      "metadata": {
        "id": "cwgs6VxtI3VZ"
      },
      "source": [
        "###7. Write a Python program to parse a string to Float & Integer."
      ]
    },
    {
      "cell_type": "code",
      "metadata": {
        "colab": {
          "base_uri": "https://localhost:8080/"
        },
        "id": "xYi-H4rsI-rs",
        "outputId": "1379558b-236a-4712-f4fa-32998c9ae7f9"
      },
      "source": [
        "string = input(\"String: \")\n",
        "f = float(string)\n",
        "i = int(f)\n",
        "\n",
        "print(f\"Float: {f}\")\n",
        "print(f\"Integer: {i}\")"
      ],
      "execution_count": null,
      "outputs": [
        {
          "output_type": "stream",
          "name": "stdout",
          "text": [
            "String: 89.214\n",
            "Float: 89.214\n",
            "Integer: 89\n"
          ]
        }
      ]
    },
    {
      "cell_type": "markdown",
      "metadata": {
        "id": "9yEeLyzMJ6dL"
      },
      "source": [
        "###8. Given two integer numbers return their sum. If the sum is greater than 100, then return their product."
      ]
    },
    {
      "cell_type": "code",
      "metadata": {
        "colab": {
          "base_uri": "https://localhost:8080/"
        },
        "id": "WcH9QzU1J-s_",
        "outputId": "e92dd39c-fad6-4821-fa0f-a1f52f6b76a7"
      },
      "source": [
        "def sum_prod(a,b):\n",
        "  sum = a+b\n",
        "  if sum <= 100:\n",
        "    return sum\n",
        "  else:\n",
        "    return a*b\n",
        "\n",
        "print(sum_prod(34,45))\n",
        "print(sum_prod(85,30))"
      ],
      "execution_count": null,
      "outputs": [
        {
          "output_type": "stream",
          "name": "stdout",
          "text": [
            "79\n",
            "2550\n"
          ]
        }
      ]
    },
    {
      "cell_type": "markdown",
      "metadata": {
        "id": "BaWgLq0RK2U3"
      },
      "source": [
        "###9. Write a Python program to calculate the sum of three given numbers, if the values are not - equal then return four times of their sum."
      ]
    },
    {
      "cell_type": "code",
      "metadata": {
        "colab": {
          "base_uri": "https://localhost:8080/"
        },
        "id": "P0TxlxPBK8m_",
        "outputId": "935383e8-ccaa-4dd6-d5e2-5ba153661e4f"
      },
      "source": [
        "def sum_three(a,b,c):\n",
        "  sum = a+b+c\n",
        "  if a == b == c:\n",
        "    sum = sum * 4\n",
        "  return sum\n",
        "\n",
        "print(sum_three(1,3,5))\n",
        "print(sum_three(4,4,4))"
      ],
      "execution_count": null,
      "outputs": [
        {
          "output_type": "stream",
          "name": "stdout",
          "text": [
            "9\n",
            "48\n"
          ]
        }
      ]
    },
    {
      "cell_type": "markdown",
      "metadata": {
        "id": "dff8TQYPLrgU"
      },
      "source": [
        "###10. A shop will give discount of 50% if the cost of purchased quantity is more than 10000. Ask user for quantity suppose, one unit will cost 100. Judge and print total cost for user."
      ]
    },
    {
      "cell_type": "code",
      "metadata": {
        "colab": {
          "base_uri": "https://localhost:8080/"
        },
        "id": "rrYm4YMxLvFc",
        "outputId": "b952f632-c6d3-499b-caae-84c93af4e3cc"
      },
      "source": [
        "unit_cost = 100\n",
        "quantity = int(input(\"Enter no. of units: \"))\n",
        "\n",
        "total_cost = unit_cost * quantity\n",
        "if total_cost >= 10000:\n",
        "  total_cost = total_cost / 2\n",
        "\n",
        "print(\"Total cost: ₹{:.2f}\".format(total_cost))"
      ],
      "execution_count": null,
      "outputs": [
        {
          "output_type": "stream",
          "name": "stdout",
          "text": [
            "Enter no. of units: 250\n",
            "Total cost: ₹12500.00\n"
          ]
        }
      ]
    },
    {
      "cell_type": "markdown",
      "metadata": {
        "id": "Q1k5z4kNRSZO"
      },
      "source": [
        "###11. To check whether a number is divisible by 8 and 12 or not."
      ]
    },
    {
      "cell_type": "code",
      "metadata": {
        "colab": {
          "base_uri": "https://localhost:8080/"
        },
        "id": "f81GGKJ_RWAW",
        "outputId": "1423a2d0-0949-4d35-c470-de7811c99aa1"
      },
      "source": [
        "num = int(input(\"Enter a number: \"))\n",
        "if num%8 == 0 and num%12 == 0:\n",
        "  print(\"Divisible by 8 and 12.\")\n",
        "else:\n",
        "  print(\"Not divisible by 8 and 12.\")"
      ],
      "execution_count": null,
      "outputs": [
        {
          "output_type": "stream",
          "name": "stdout",
          "text": [
            "Enter a number: 36\n",
            "Not divisible by 8 and 12.\n"
          ]
        }
      ]
    },
    {
      "cell_type": "markdown",
      "metadata": {
        "id": "4Xm1Bpw2RycW"
      },
      "source": [
        "###12. To check whether a given number is even or odd."
      ]
    },
    {
      "cell_type": "code",
      "metadata": {
        "colab": {
          "base_uri": "https://localhost:8080/"
        },
        "id": "xBiq3kCER1cy",
        "outputId": "6197fe3f-e508-4e24-f500-e76cefd517fe"
      },
      "source": [
        "num = int(input(\"Enter a number: \"))\n",
        "if num%2 == 0:\n",
        "  print(\"Even\")\n",
        "else:\n",
        "  print(\"Odd\")"
      ],
      "execution_count": null,
      "outputs": [
        {
          "output_type": "stream",
          "name": "stdout",
          "text": [
            "Enter a number: 87\n",
            "Odd\n"
          ]
        }
      ]
    },
    {
      "cell_type": "markdown",
      "metadata": {
        "id": "sQdMIZ8QSAVb"
      },
      "source": [
        "###13. Write a program to input marks of five subjects Physics, Chemistry, Biology, Mathematics and Computer. Calculate percentage and grade according to following:<br>\n",
        "Percentage >= 90% : Grade A<br>\n",
        "Percentage >= 80% : Grade B<br>\n",
        "Percentage >= 70% : Grade C<br>\n",
        "Percentage >= 60% : Grade D<br>\n",
        "Percentage >= 40% : Grade E<br>\n",
        "Percentage < 40% :  Grade F"
      ]
    },
    {
      "cell_type": "code",
      "metadata": {
        "colab": {
          "base_uri": "https://localhost:8080/"
        },
        "id": "WyJPst0OSFEU",
        "outputId": "afbb251e-5d18-4e7f-c04c-4bdce4792604"
      },
      "source": [
        "print(\"Enter marks (out of 100): \")\n",
        "phy = float(input(\"Physics: \"))\n",
        "chem = float(input(\"Chemistry: \"))\n",
        "bio = float(input(\"Biology: \"))\n",
        "math = float(input(\"Mathematics: \"))\n",
        "comp = float(input(\"Computer: \"))\n",
        "\n",
        "percentage = (phy + chem + bio + math + comp) / 5\n",
        "\n",
        "if percentage >= 90:\n",
        "  grade = 'A'\n",
        "elif percentage >=80:\n",
        "  grade = 'B'\n",
        "elif percentage >=70:\n",
        "  grade = 'C'\n",
        "elif percentage >=60:\n",
        "  grade = 'D'\n",
        "elif percentage >=40:\n",
        "  grade = 'E'\n",
        "else:\n",
        "  grade = 'F'\n",
        "\n",
        "print(f\"\\nPercentage: {percentage}\\nGrade: {grade}\")"
      ],
      "execution_count": null,
      "outputs": [
        {
          "output_type": "stream",
          "name": "stdout",
          "text": [
            "Enter marks (out of 100): \n",
            "Physics: 82\n",
            "Chemistry: 87\n",
            "Biology: 92\n",
            "Mathematics: 88\n",
            "Computer: 96\n",
            "\n",
            "Percentage: 89.0\n",
            "Grade: B\n"
          ]
        }
      ]
    },
    {
      "cell_type": "markdown",
      "metadata": {
        "id": "zk6GAauzTt4_"
      },
      "source": [
        "###14. Take input of age of 3 people by user and determine oldest and youngest among them."
      ]
    },
    {
      "cell_type": "code",
      "metadata": {
        "colab": {
          "base_uri": "https://localhost:8080/"
        },
        "id": "TDI3Bge9Tyj1",
        "outputId": "f7c68c2f-9b35-4d74-fd11-affd5e86b7e4"
      },
      "source": [
        "(a,b,c) = map(int,input(\"Enter the ages of 3 people: \").split())\n",
        "\n",
        "oldest = max(a,b,c)\n",
        "youngest = min(a,b,c)\n",
        "\n",
        "print(f\"\\nOldest: {oldest}\\nYoungest: {youngest}\")"
      ],
      "execution_count": null,
      "outputs": [
        {
          "output_type": "stream",
          "name": "stdout",
          "text": [
            "Enter the ages of 3 people: 17 12 21\n",
            "\n",
            "Oldest: 21\n",
            "Youngest: 12\n"
          ]
        }
      ]
    },
    {
      "cell_type": "markdown",
      "metadata": {
        "id": "7LeWaBdRUqPV"
      },
      "source": [
        "###15. Write a program to input electricity unit charges and calculate total electricity bill according to the given condition:<br>\n",
        "For first 50 units Rs. 0.50/unit<br>\n",
        "For next 100 units Rs. 0.75/unit<br>\n",
        "For next 100 units Rs. 1.20/unit<br>\n",
        "For unit above 250 Rs. 1.50/unit<br>\n",
        "An additional surcharge of 20% is added to the bill"
      ]
    },
    {
      "cell_type": "code",
      "metadata": {
        "colab": {
          "base_uri": "https://localhost:8080/"
        },
        "id": "vXn4e5mJUzVF",
        "outputId": "0e54a2f5-4668-4f5a-81a4-5683f72fe705"
      },
      "source": [
        "unit = float(input(\"Enter units consumed: \"))\n",
        "\n",
        "if unit <= 50:\n",
        "  bill = 0.5 * unit\n",
        "elif unit <= 150:\n",
        "  bill = (0.5 * 50) + 0.75 * (unit - 50)\n",
        "elif unit <= 250:\n",
        "  bill = (0.5 * 50) + (0.75 * 100) + 1.20 * (unit - 150)\n",
        "else:\n",
        "  bill = (0.5 * 50) + (0.75 * 100) + (1.20 * 100) + 1.50 * (unit - 250) \n",
        "\n",
        "bill = bill + (bill * 0.20)\n",
        "print(\"Total bill: ₹{:.2f}\".format(bill))"
      ],
      "execution_count": 2,
      "outputs": [
        {
          "output_type": "stream",
          "name": "stdout",
          "text": [
            "Enter units consumed: 126\n",
            "Total bill: ₹98.40\n"
          ]
        }
      ]
    },
    {
      "cell_type": "markdown",
      "metadata": {
        "id": "EiccXQ8hiWK9"
      },
      "source": [
        "###16. A student will not be allowed to sit in exam if his/her attendence is less than 80%.<br> Take following input from user:<br>\n",
        "Total Number of classes held<br>\n",
        "Total Number of classes attended.<br>\n",
        "Print percentage of class attended. Is student allowed to sit in exam or not?"
      ]
    },
    {
      "cell_type": "code",
      "metadata": {
        "colab": {
          "base_uri": "https://localhost:8080/"
        },
        "id": "AAjWuS_8iwC2",
        "outputId": "c5a960ee-6170-4559-f182-837306ba50d4"
      },
      "source": [
        "num_classes = int(input(\"Enter no. of classes held: \"))\n",
        "num_attended = int(input(\"Enter no. of classes attended: \"))\n",
        "\n",
        "percent = (num_attended/num_classes) * 100\n",
        "print(\"\\nPercentage of classes attended: {:.2f}%\".format(percent))\n",
        "\n",
        "if percent >= 80:\n",
        "  print(\"The student is allowed to sit in exam.\")\n",
        "else:\n",
        "  print(\"The student is not allowed to sit in exam.\")"
      ],
      "execution_count": null,
      "outputs": [
        {
          "output_type": "stream",
          "name": "stdout",
          "text": [
            "Enter no. of classes held: 53\n",
            "Enter no. of classes attended: 39\n",
            "\n",
            "Percentage of classes attended: 73.58%\n",
            "The student is not allowed to sit in exam.\n"
          ]
        }
      ]
    },
    {
      "cell_type": "markdown",
      "metadata": {
        "id": "wwBw0nx1kW39"
      },
      "source": [
        "###17. Calculate income tax for the given income by adhering to the below rules:\n",
        "Taxable Income -------- Rate (in %)<br>\n",
        "First Rs.10,0000 -------- 0<br>\n",
        "Next Rs. 10,0000 ------- 10<br>\n",
        "The remaining ------------ 20"
      ]
    },
    {
      "cell_type": "code",
      "metadata": {
        "colab": {
          "base_uri": "https://localhost:8080/"
        },
        "id": "BYfXG5rhk1gc",
        "outputId": "4d47c21b-82dc-40a0-d2d3-37ed6667b931"
      },
      "source": [
        "income = float(input(\"Enter income: ₹\"))\n",
        "\n",
        "if income <= 10000:\n",
        "  tax = 0\n",
        "elif income <=20000:\n",
        "  tax = (income - 10000) * 0.1\n",
        "else:\n",
        "  tax = (income - 20000) * 0.2 + 1000\n",
        "\n",
        "print(\"Tax amount: ₹{:.2f}\".format(tax))"
      ],
      "execution_count": null,
      "outputs": [
        {
          "output_type": "stream",
          "name": "stdout",
          "text": [
            "Enter income: ₹40000\n",
            "Tax amount: ₹5000.00\n"
          ]
        }
      ]
    },
    {
      "cell_type": "markdown",
      "metadata": {
        "id": "5x2OQeVom2UI"
      },
      "source": [
        "###18. Find digital sum of a given number.\n",
        "   ex: n=123  Digital sum----->1+2+3=6"
      ]
    },
    {
      "cell_type": "code",
      "metadata": {
        "colab": {
          "base_uri": "https://localhost:8080/"
        },
        "id": "ot0TAsahm-cH",
        "outputId": "b3c41c7f-4e82-454d-d82b-e30947ef5e36"
      },
      "source": [
        "num = input(\"Enter any number: \")\n",
        "sum = 0\n",
        "\n",
        "for i in num:\n",
        "  sum = sum + int(i)\n",
        "\n",
        "print(f\"Digital sum = {sum}\")"
      ],
      "execution_count": null,
      "outputs": [
        {
          "output_type": "stream",
          "name": "stdout",
          "text": [
            "Enter any number: 123\n",
            "Digital sum = 6\n"
          ]
        }
      ]
    },
    {
      "cell_type": "markdown",
      "metadata": {
        "id": "uQ0JpXMvoNQI"
      },
      "source": [
        "###19. Find the digital product of a given number.\n",
        "   ex: n=43   Digital product ----->4*3=12"
      ]
    },
    {
      "cell_type": "code",
      "metadata": {
        "colab": {
          "base_uri": "https://localhost:8080/"
        },
        "id": "a4deUBnvoRuZ",
        "outputId": "59802815-6506-406a-bb41-ba2f9f4316b0"
      },
      "source": [
        "num = input(\"Enter any number: \")\n",
        "prod = 1\n",
        "\n",
        "for i in num:\n",
        "  prod = prod * int(i)\n",
        "\n",
        "print(f\"Digital product = {prod}\")"
      ],
      "execution_count": null,
      "outputs": [
        {
          "output_type": "stream",
          "name": "stdout",
          "text": [
            "Enter any number: 43\n",
            "Digital product = 12\n"
          ]
        }
      ]
    },
    {
      "cell_type": "markdown",
      "metadata": {
        "id": "YEghVSNAod8t"
      },
      "source": [
        "###20. Find the sum of the series 3 +33 + 333 + 3333 + .. n terms."
      ]
    },
    {
      "cell_type": "code",
      "metadata": {
        "colab": {
          "base_uri": "https://localhost:8080/"
        },
        "id": "AQpAqUyGogwc",
        "outputId": "57fab59f-0a5c-48a8-dce4-586162357b75"
      },
      "source": [
        "n = int(input(\"Enter no. of terms: \"))\n",
        "sum = 0\n",
        "t = 3\n",
        "\n",
        "for i in range(1, n+1):\n",
        "  sum = sum + t\n",
        "  t = t*10 + 3\n",
        "\n",
        "print(f\"Sum upto {n} terms: {sum}\")"
      ],
      "execution_count": null,
      "outputs": [
        {
          "output_type": "stream",
          "name": "stdout",
          "text": [
            "Enter no. of terms: 5\n",
            "Sum upto 5 terms: 37035\n"
          ]
        }
      ]
    },
    {
      "cell_type": "markdown",
      "metadata": {
        "id": "7UGrEaxeqtey"
      },
      "source": [
        "###21. Print the following pattern:\n",
        "<p>\n",
        "* <br>\n",
        "* * <br>\n",
        "* * * <br>\n",
        "* * * * <br>\n",
        "* * * * * <br>\n",
        "* * * * <br>\n",
        "* * * <br>\n",
        "* * <br>\n",
        "*<br>\n",
        "</p>"
      ]
    },
    {
      "cell_type": "code",
      "metadata": {
        "colab": {
          "base_uri": "https://localhost:8080/"
        },
        "id": "ff6pXN5SqoZL",
        "outputId": "2b47a02f-32ef-4e65-ab0b-9602a9c7837c"
      },
      "source": [
        "n = int(input(\"Enter no. of columns: \"))\n",
        "\n",
        "for i in range(n):\n",
        "  print((i+1) * '* ')\n",
        "\n",
        "for i in range(n-1,0,-1):\n",
        "  print(i * '* ')"
      ],
      "execution_count": 1,
      "outputs": [
        {
          "output_type": "stream",
          "name": "stdout",
          "text": [
            "Enter no. of columns: 9\n",
            "* \n",
            "* * \n",
            "* * * \n",
            "* * * * \n",
            "* * * * * \n",
            "* * * * * * \n",
            "* * * * * * * \n",
            "* * * * * * * * \n",
            "* * * * * * * * * \n",
            "* * * * * * * * \n",
            "* * * * * * * \n",
            "* * * * * * \n",
            "* * * * * \n",
            "* * * * \n",
            "* * * \n",
            "* * \n",
            "* \n"
          ]
        }
      ]
    },
    {
      "cell_type": "markdown",
      "metadata": {
        "id": "hVmD32ORr1XT"
      },
      "source": [
        "###22. Program to reverse a given number.\n",
        "ex: n=123   Reversed no. is 321."
      ]
    },
    {
      "cell_type": "code",
      "metadata": {
        "colab": {
          "base_uri": "https://localhost:8080/"
        },
        "id": "L3uAQ3WHr-Gg",
        "outputId": "f43dcb09-1d95-4ce6-c424-d3f3a8fd3898"
      },
      "source": [
        "n = int(input(\"Enter a no.: \"))\n",
        "reverse = 0\n",
        "\n",
        "while n>0:\n",
        "  rem = n%10\n",
        "  reverse = reverse*10 + rem\n",
        "  n = n//10\n",
        "\n",
        "print(f\"Reversed no. is {reverse}.\")"
      ],
      "execution_count": null,
      "outputs": [
        {
          "output_type": "stream",
          "name": "stdout",
          "text": [
            "Enter a no.: 1234\n",
            "Reversed no. is 4321.\n"
          ]
        }
      ]
    },
    {
      "cell_type": "markdown",
      "metadata": {
        "id": "Ve2t8qBztgcL"
      },
      "source": [
        "###23. Program to check whether a given number is a palindrome or not."
      ]
    },
    {
      "cell_type": "code",
      "metadata": {
        "colab": {
          "base_uri": "https://localhost:8080/"
        },
        "id": "D5rbgAdltmPV",
        "outputId": "a342aca6-7e71-4221-9e82-0a7737a354c3"
      },
      "source": [
        "n = int(input(\"Enter a no.: \"))\n",
        "num = n\n",
        "reverse = 0\n",
        "\n",
        "while n>0:\n",
        "  rem = n%10\n",
        "  reverse = reverse*10 + rem\n",
        "  n = n//10\n",
        "\n",
        "if reverse == num:\n",
        "  print(\"Palindrome\")\n",
        "else:\n",
        "  print(\"Not a palindrome\")"
      ],
      "execution_count": null,
      "outputs": [
        {
          "output_type": "stream",
          "name": "stdout",
          "text": [
            "Enter a no.: 12321\n",
            "Palindrome\n"
          ]
        }
      ]
    },
    {
      "cell_type": "markdown",
      "metadata": {
        "id": "q6hPQbNbuBYz"
      },
      "source": [
        "###24. Program to check whether a given number is an Armstrong number or not."
      ]
    },
    {
      "cell_type": "code",
      "metadata": {
        "colab": {
          "base_uri": "https://localhost:8080/"
        },
        "id": "adEIaO7Ft-eP",
        "outputId": "c6e7b1f5-f150-4136-85ec-103038af0073"
      },
      "source": [
        "n = int(input(\"Enter a no.: \"))\n",
        "num = n\n",
        "sum = 0\n",
        "\n",
        "while n>0:\n",
        "  rem = n%10\n",
        "  sum = sum + rem**3\n",
        "  n = n//10\n",
        "\n",
        "if sum == num:\n",
        "  print(\"Armstrong number\")\n",
        "else:\n",
        "  print(\"Not an Armstrong number\")"
      ],
      "execution_count": null,
      "outputs": [
        {
          "output_type": "stream",
          "name": "stdout",
          "text": [
            "Enter a no.: 153\n",
            "Armstrong number\n"
          ]
        }
      ]
    },
    {
      "cell_type": "markdown",
      "metadata": {
        "id": "GZMf79-Kuhqu"
      },
      "source": [
        "###25. Program to find factorial of a given number."
      ]
    },
    {
      "cell_type": "code",
      "metadata": {
        "colab": {
          "base_uri": "https://localhost:8080/"
        },
        "id": "T38_6cqgupr1",
        "outputId": "8924d4e8-7ee9-4d60-afe2-e486fd7eca04"
      },
      "source": [
        "n = int(input(\"Enter a no.: \"))\n",
        "factorial = 1\n",
        "\n",
        "for i in range(1, n+1):\n",
        "  factorial = factorial * i\n",
        "\n",
        "print(f\"Factorial of {n} = {factorial}\")"
      ],
      "execution_count": null,
      "outputs": [
        {
          "output_type": "stream",
          "name": "stdout",
          "text": [
            "Enter a no.: 6\n",
            "Factorial of 6 = 720\n"
          ]
        }
      ]
    }
  ]
}