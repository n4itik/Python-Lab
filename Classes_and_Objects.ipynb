{
  "nbformat": 4,
  "nbformat_minor": 0,
  "metadata": {
    "colab": {
      "name": "Classes_and_Objects.ipynb",
      "provenance": [],
      "collapsed_sections": []
    },
    "kernelspec": {
      "name": "python3",
      "display_name": "Python 3"
    },
    "language_info": {
      "name": "python"
    }
  },
  "cells": [
    {
      "cell_type": "markdown",
      "metadata": {
        "id": "LnXAQGnLeFpT"
      },
      "source": [
        "#Class"
      ]
    },
    {
      "cell_type": "markdown",
      "metadata": {
        "id": "TkF0DRZneI_u"
      },
      "source": [
        "A user defined data type which acts as a blueprint or prototype from which objects are created."
      ]
    },
    {
      "cell_type": "code",
      "metadata": {
        "colab": {
          "base_uri": "https://localhost:8080/"
        },
        "id": "5K7ADikMeBLh",
        "outputId": "5b541682-2673-425d-b49b-81c730e8b106"
      },
      "source": [
        "class Dog():\n",
        "\n",
        "    # Constructor: Built-in method used to allocate memory to the class instance\n",
        "    def __init__(self, name, breed, age):\n",
        "        self.name = name\n",
        "        self.breed = breed\n",
        "        self.age = age\n",
        "\n",
        "    def display(self):\n",
        "        print(\"\\nName:\", self.name)\n",
        "        print(\"Breed:\", self.breed)\n",
        "        print(\"Age:\", self.age)\n",
        "\n",
        "    def bark(self):\n",
        "        print(\"Woof!\")\n",
        "\n",
        "\n",
        "# Objects: Instances of the class Dog\n",
        "dog1 = Dog(\"Silky\", \"Pomeranian\", 5)\n",
        "dog2 = Dog(\"Milo\", \"German Shepherd\", 8)\n",
        "\n",
        "print(type(dog1))\n",
        "\n",
        "dog1.display()\n",
        "dog1.bark()\n",
        "\n",
        "dog2.display()\n",
        "dog2.bark()\n",
        "dog2.bark()\n"
      ],
      "execution_count": 1,
      "outputs": [
        {
          "output_type": "stream",
          "name": "stdout",
          "text": [
            "<class '__main__.Dog'>\n",
            "\n",
            "Name: Silky\n",
            "Breed: Pomeranian\n",
            "Age: 5\n",
            "Woof!\n",
            "\n",
            "Name: Milo\n",
            "Breed: German Shepherd\n",
            "Age: 8\n",
            "Woof!\n",
            "Woof!\n"
          ]
        }
      ]
    },
    {
      "cell_type": "markdown",
      "metadata": {
        "id": "mzYROPDOhD6G"
      },
      "source": [
        "###Stack"
      ]
    },
    {
      "cell_type": "code",
      "metadata": {
        "colab": {
          "base_uri": "https://localhost:8080/"
        },
        "id": "SULTcbOkn8Lc",
        "outputId": "1be96c24-d59f-49cc-c60f-7bf308903d30"
      },
      "source": [
        "class Stack:\n",
        "    def __init__(self):\n",
        "        self.elements = []\n",
        "\n",
        "    def is_empty(self):\n",
        "        return self.elements == []\n",
        "\n",
        "    def push(self, value):\n",
        "        self.elements.append(value)\n",
        "\n",
        "    def pop(self):\n",
        "        return self.elements.pop()\n",
        "\n",
        "    def display(self):\n",
        "        print(\"Stack:\", self.elements)\n",
        "\n",
        "\n",
        "s = Stack()\n",
        "\n",
        "while True:\n",
        "    print(\"1. Push | 2. Pop | 3. Display | 4. Quit\")\n",
        "    choice = int(input(\"Enter a choice: \"))\n",
        "\n",
        "    if choice == 1:\n",
        "        value = int(input(\"Enter value: \"))\n",
        "        s.push(value)\n",
        "        s.display()\n",
        "\n",
        "    elif choice == 2:\n",
        "        if s.is_empty():\n",
        "            print(\"Stack is empty.\")\n",
        "        else:\n",
        "            print(\"Popped value:\", s.pop())\n",
        "            s.display()\n",
        "\n",
        "    elif choice == 3:\n",
        "        s.display()\n",
        "\n",
        "    elif choice == 4:\n",
        "        print(\"Quitting..\")\n",
        "        break\n",
        "\n",
        "    else:\n",
        "        print(\"Invalid choice. Try again.\")\n"
      ],
      "execution_count": 2,
      "outputs": [
        {
          "output_type": "stream",
          "name": "stdout",
          "text": [
            "1. Push | 2. Pop | 3. Display | 4. Quit\n",
            "Enter a choice: 1\n",
            "Enter value: 1\n",
            "Stack: [1]\n",
            "1. Push | 2. Pop | 3. Display | 4. Quit\n",
            "Enter a choice: 1\n",
            "Enter value: 2\n",
            "Stack: [1, 2]\n",
            "1. Push | 2. Pop | 3. Display | 4. Quit\n",
            "Enter a choice: 1\n",
            "Enter value: 3\n",
            "Stack: [1, 2, 3]\n",
            "1. Push | 2. Pop | 3. Display | 4. Quit\n",
            "Enter a choice: 1\n",
            "Enter value: 4\n",
            "Stack: [1, 2, 3, 4]\n",
            "1. Push | 2. Pop | 3. Display | 4. Quit\n",
            "Enter a choice: 1\n",
            "Enter value: 5\n",
            "Stack: [1, 2, 3, 4, 5]\n",
            "1. Push | 2. Pop | 3. Display | 4. Quit\n",
            "Enter a choice: 2\n",
            "Popped value: 5\n",
            "Stack: [1, 2, 3, 4]\n",
            "1. Push | 2. Pop | 3. Display | 4. Quit\n",
            "Enter a choice: 2\n",
            "Popped value: 4\n",
            "Stack: [1, 2, 3]\n",
            "1. Push | 2. Pop | 3. Display | 4. Quit\n",
            "Enter a choice: 3\n",
            "Stack: [1, 2, 3]\n",
            "1. Push | 2. Pop | 3. Display | 4. Quit\n",
            "Enter a choice: 5\n",
            "Invalid choice. Try again.\n",
            "1. Push | 2. Pop | 3. Display | 4. Quit\n",
            "Enter a choice: 4\n",
            "Quitting..\n"
          ]
        }
      ]
    },
    {
      "cell_type": "markdown",
      "metadata": {
        "id": "Ft_S0EpboPJc"
      },
      "source": [
        "###Queue"
      ]
    },
    {
      "cell_type": "code",
      "metadata": {
        "colab": {
          "base_uri": "https://localhost:8080/"
        },
        "id": "EI2W4Hq4oQ7w",
        "outputId": "7865c5a4-31e4-4909-c414-1445f2b81ac5"
      },
      "source": [
        "class Queue:\n",
        "    def __init__(self):\n",
        "        self.elements = []\n",
        "\n",
        "    def is_empty(self):\n",
        "        return self.elements == []\n",
        "\n",
        "    def append(self, value):\n",
        "        self.elements.append(value)\n",
        "\n",
        "    def remove(self):\n",
        "        return self.elements.pop(0)\n",
        "\n",
        "    def display(self):\n",
        "        print(\"Queue:\", self.elements)\n",
        "\n",
        "\n",
        "q = Queue()\n",
        "\n",
        "while True:\n",
        "    print(\"1. Append | 2. Remove | 3. Display | 4. Quit\")\n",
        "    choice = int(input(\"Enter a choice: \"))\n",
        "\n",
        "    if choice == 1:\n",
        "        value = int(input(\"Enter value: \"))\n",
        "        q.append(value)\n",
        "        q.display()\n",
        "\n",
        "    elif choice == 2:\n",
        "        if q.is_empty():\n",
        "            print(\"Queue is empty.\")\n",
        "        else:\n",
        "            print(\"Removed value:\", q.remove())\n",
        "            q.display()\n",
        "\n",
        "    elif choice == 3:\n",
        "        q.display()\n",
        "\n",
        "    elif choice == 4:\n",
        "        print(\"Quitting..\")\n",
        "        break\n",
        "\n",
        "    else:\n",
        "        print(\"Invalid choice. Try again.\")\n"
      ],
      "execution_count": 3,
      "outputs": [
        {
          "output_type": "stream",
          "name": "stdout",
          "text": [
            "1. Append | 2. Remove | 3. Display | 4. Quit\n",
            "Enter a choice: 1\n",
            "Enter value: 1\n",
            "Queue: [1]\n",
            "1. Append | 2. Remove | 3. Display | 4. Quit\n",
            "Enter a choice: 1\n",
            "Enter value: 2\n",
            "Queue: [1, 2]\n",
            "1. Append | 2. Remove | 3. Display | 4. Quit\n",
            "Enter a choice: 1\n",
            "Enter value: 3\n",
            "Queue: [1, 2, 3]\n",
            "1. Append | 2. Remove | 3. Display | 4. Quit\n",
            "Enter a choice: 1\n",
            "Enter value: 4\n",
            "Queue: [1, 2, 3, 4]\n",
            "1. Append | 2. Remove | 3. Display | 4. Quit\n",
            "Enter a choice: 1\n",
            "Enter value: 5\n",
            "Queue: [1, 2, 3, 4, 5]\n",
            "1. Append | 2. Remove | 3. Display | 4. Quit\n",
            "Enter a choice: 2\n",
            "Removed value: 1\n",
            "Queue: [2, 3, 4, 5]\n",
            "1. Append | 2. Remove | 3. Display | 4. Quit\n",
            "Enter a choice: 2\n",
            "Removed value: 2\n",
            "Queue: [3, 4, 5]\n",
            "1. Append | 2. Remove | 3. Display | 4. Quit\n",
            "Enter a choice: 3\n",
            "Queue: [3, 4, 5]\n",
            "1. Append | 2. Remove | 3. Display | 4. Quit\n",
            "Enter a choice: 5\n",
            "Invalid choice. Try again.\n",
            "1. Append | 2. Remove | 3. Display | 4. Quit\n",
            "Enter a choice: 4\n",
            "Quitting..\n"
          ]
        }
      ]
    },
    {
      "cell_type": "markdown",
      "metadata": {
        "id": "LpArkNgfo7_8"
      },
      "source": [
        "###Deque"
      ]
    },
    {
      "cell_type": "code",
      "metadata": {
        "colab": {
          "base_uri": "https://localhost:8080/"
        },
        "id": "A3GMk7Y3pFma",
        "outputId": "29e78bbd-e7ce-40a4-da3a-6733b826ad92"
      },
      "source": [
        "class Deque:\n",
        "    def __init__(self):\n",
        "        self.elements = []\n",
        "\n",
        "    def is_empty(self):\n",
        "        return self.elements == []\n",
        "\n",
        "    def append(self, value):\n",
        "        self.elements.append(value)\n",
        "\n",
        "    def prepend(self, value):\n",
        "        self.elements.insert(0, value)\n",
        "\n",
        "    def remove_from_front(self):\n",
        "        return self.elements.pop(0)\n",
        "\n",
        "    def remove_from_back(self):\n",
        "        return self.elements.pop()\n",
        "\n",
        "    def display(self):\n",
        "        print(\"Deque:\", self.elements)\n",
        "\n",
        "\n",
        "dq = Deque()\n",
        "\n",
        "while True:\n",
        "    print(\"1. Append | 2. Prepend | 3. Remove from front | 4. Remove from back | 5. Display | 6. Quit\")\n",
        "    choice = int(input(\"Enter a choice: \"))\n",
        "\n",
        "    if choice == 1:\n",
        "        value = int(input(\"Enter value: \"))\n",
        "        dq.append(value)\n",
        "        dq.display()\n",
        "\n",
        "    elif choice == 2:\n",
        "        value = int(input(\"Enter value: \"))\n",
        "        dq.prepend(value)\n",
        "        dq.display()\n",
        "\n",
        "    elif choice == 3:\n",
        "        if dq.is_empty():\n",
        "            print(\"Deque is empty.\")\n",
        "        else:\n",
        "            print(\"Removed value:\", dq.remove_from_front())\n",
        "            dq.display()\n",
        "\n",
        "    elif choice == 4:\n",
        "        if dq.is_empty():\n",
        "            print(\"Deque is empty.\")\n",
        "        else:\n",
        "            print(\"Removed value:\", dq.remove_from_back())\n",
        "            dq.display()\n",
        "\n",
        "    elif choice == 5:\n",
        "        dq.display()\n",
        "\n",
        "    elif choice == 6:\n",
        "        print(\"Quitting..\")\n",
        "        break\n",
        "\n",
        "    else:\n",
        "        print(\"Invalid choice. Try again.\")\n"
      ],
      "execution_count": 4,
      "outputs": [
        {
          "output_type": "stream",
          "name": "stdout",
          "text": [
            "1. Append | 2. Prepend | 3. Remove from front | 4. Remove from back | 5. Display | 6. Quit\n",
            "Enter a choice: 1\n",
            "Enter value: 1\n",
            "Deque: [1]\n",
            "1. Append | 2. Prepend | 3. Remove from front | 4. Remove from back | 5. Display | 6. Quit\n",
            "Enter a choice: 1\n",
            "Enter value: 2\n",
            "Deque: [1, 2]\n",
            "1. Append | 2. Prepend | 3. Remove from front | 4. Remove from back | 5. Display | 6. Quit\n",
            "Enter a choice: 1\n",
            "Enter value: 3\n",
            "Deque: [1, 2, 3]\n",
            "1. Append | 2. Prepend | 3. Remove from front | 4. Remove from back | 5. Display | 6. Quit\n",
            "Enter a choice: 1\n",
            "Enter value: 4\n",
            "Deque: [1, 2, 3, 4]\n",
            "1. Append | 2. Prepend | 3. Remove from front | 4. Remove from back | 5. Display | 6. Quit\n",
            "Enter a choice: 2\n",
            "Enter value: 5\n",
            "Deque: [5, 1, 2, 3, 4]\n",
            "1. Append | 2. Prepend | 3. Remove from front | 4. Remove from back | 5. Display | 6. Quit\n",
            "Enter a choice: 2\n",
            "Enter value: 6\n",
            "Deque: [6, 5, 1, 2, 3, 4]\n",
            "1. Append | 2. Prepend | 3. Remove from front | 4. Remove from back | 5. Display | 6. Quit\n",
            "Enter a choice: 2\n",
            "Enter value: 7\n",
            "Deque: [7, 6, 5, 1, 2, 3, 4]\n",
            "1. Append | 2. Prepend | 3. Remove from front | 4. Remove from back | 5. Display | 6. Quit\n",
            "Enter a choice: 2\n",
            "Enter value: 8\n",
            "Deque: [8, 7, 6, 5, 1, 2, 3, 4]\n",
            "1. Append | 2. Prepend | 3. Remove from front | 4. Remove from back | 5. Display | 6. Quit\n",
            "Enter a choice: 3\n",
            "Removed value: 8\n",
            "Deque: [7, 6, 5, 1, 2, 3, 4]\n",
            "1. Append | 2. Prepend | 3. Remove from front | 4. Remove from back | 5. Display | 6. Quit\n",
            "Enter a choice: 3\n",
            "Removed value: 7\n",
            "Deque: [6, 5, 1, 2, 3, 4]\n",
            "1. Append | 2. Prepend | 3. Remove from front | 4. Remove from back | 5. Display | 6. Quit\n",
            "Enter a choice: 4\n",
            "Removed value: 4\n",
            "Deque: [6, 5, 1, 2, 3]\n",
            "1. Append | 2. Prepend | 3. Remove from front | 4. Remove from back | 5. Display | 6. Quit\n",
            "Enter a choice: 4\n",
            "Removed value: 3\n",
            "Deque: [6, 5, 1, 2]\n",
            "1. Append | 2. Prepend | 3. Remove from front | 4. Remove from back | 5. Display | 6. Quit\n",
            "Enter a choice: 5\n",
            "Deque: [6, 5, 1, 2]\n",
            "1. Append | 2. Prepend | 3. Remove from front | 4. Remove from back | 5. Display | 6. Quit\n",
            "Enter a choice: 7\n",
            "Invalid choice. Try again.\n",
            "1. Append | 2. Prepend | 3. Remove from front | 4. Remove from back | 5. Display | 6. Quit\n",
            "Enter a choice: 6\n",
            "Quitting..\n"
          ]
        }
      ]
    },
    {
      "cell_type": "markdown",
      "metadata": {
        "id": "4SkUrENUrPQC"
      },
      "source": [
        "###Sum of two complex numbers"
      ]
    },
    {
      "cell_type": "code",
      "metadata": {
        "colab": {
          "base_uri": "https://localhost:8080/"
        },
        "id": "IyJU_TvvgO_l",
        "outputId": "7d358ca9-b74a-48b8-d3d7-775f70a3cc04"
      },
      "source": [
        "class Complex ():\n",
        "    def __init__(self, r=0, i=0):\n",
        "        self.real = r\n",
        "        self.imag = i\n",
        "\n",
        "    def display(self):\n",
        "        return f\"{self.real} + {self.imag}i\"\n",
        "\n",
        "    def sum(self, c1, c2):\n",
        "        self.real = c1.real + c2.real\n",
        "        self.imag = c1.imag + c2.imag\n",
        "\n",
        "\n",
        "c1 = Complex(3, 5)\n",
        "c2 = Complex(6, 2)\n",
        "c3 = Complex()\n",
        "\n",
        "\n",
        "print(f\"First Complex Number: {c1.display()}\")\n",
        "print(f\"Second Complex Number: {c2.display()}\")\n",
        "\n",
        "c3.sum(c1, c2)\n",
        "print(f\"Sum of the two complex numbers is {c3.display()}.\")\n"
      ],
      "execution_count": 5,
      "outputs": [
        {
          "output_type": "stream",
          "name": "stdout",
          "text": [
            "First Complex Number: 3 + 5i\n",
            "Second Complex Number: 6 + 2i\n",
            "Sum of the two complex numbers is 9 + 7i.\n"
          ]
        }
      ]
    }
  ]
}