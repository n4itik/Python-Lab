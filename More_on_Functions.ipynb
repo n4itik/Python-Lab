{
  "nbformat": 4,
  "nbformat_minor": 0,
  "metadata": {
    "colab": {
      "name": "More_on_Functions.ipynb",
      "provenance": []
    },
    "kernelspec": {
      "name": "python3",
      "display_name": "Python 3"
    },
    "language_info": {
      "name": "python"
    }
  },
  "cells": [
    {
      "cell_type": "markdown",
      "metadata": {
        "id": "hbyvgWt3qy5y"
      },
      "source": [
        "#Usage of Functions"
      ]
    },
    {
      "cell_type": "markdown",
      "metadata": {
        "id": "BddkhdF9rHyE"
      },
      "source": [
        "###Convert decimal to binary, octal and hexadecimal"
      ]
    },
    {
      "cell_type": "code",
      "metadata": {
        "colab": {
          "base_uri": "https://localhost:8080/"
        },
        "id": "60sGgVDjqsIM",
        "outputId": "03f1262e-3a0b-462f-b601-26961b24858f"
      },
      "source": [
        "def dec_to_bin(dec):\n",
        "    print(\"Binary number:\", bin(dec))\n",
        "\n",
        "\n",
        "def dec_to_oct(dec):\n",
        "    print(\"Octal number:\", oct(dec))\n",
        "\n",
        "\n",
        "def dec_to_hex(dec):\n",
        "    print(\"Hexadecimal number:\", hex(dec))\n",
        "\n",
        "\n",
        "dec = int(input(\"Enter the decimal number: \"))\n",
        "dec_to_bin(dec)\n",
        "dec_to_oct(dec)\n",
        "dec_to_hex(dec)\n"
      ],
      "execution_count": 1,
      "outputs": [
        {
          "output_type": "stream",
          "name": "stdout",
          "text": [
            "Enter the decimal number: 56\n",
            "Binary number: 0b111000\n",
            "Octal number: 0o70\n",
            "Hexadecimal number: 0x38\n"
          ]
        }
      ]
    },
    {
      "cell_type": "markdown",
      "metadata": {
        "id": "v5TE70qWtsTG"
      },
      "source": [
        "###Reverse a string"
      ]
    },
    {
      "cell_type": "code",
      "metadata": {
        "colab": {
          "base_uri": "https://localhost:8080/"
        },
        "id": "8XqqAEbitusB",
        "outputId": "e45118e8-a753-429e-fad6-c3fbdca89151"
      },
      "source": [
        "def reverse(string):\n",
        "    string = string[::-1]\n",
        "    return string\n",
        "\n",
        "\n",
        "s = input(\"Enter a string: \")\n",
        "print(\"The reversed string is:\", reverse(s))\n"
      ],
      "execution_count": 2,
      "outputs": [
        {
          "output_type": "stream",
          "name": "stdout",
          "text": [
            "Enter a string: Python\n",
            "The reversed string is: nohtyP\n"
          ]
        }
      ]
    },
    {
      "cell_type": "markdown",
      "metadata": {
        "id": "mmyxAnMpwwVy"
      },
      "source": [
        "#Passing List as Argument"
      ]
    },
    {
      "cell_type": "markdown",
      "metadata": {
        "id": "D_eXPaUyw3iN"
      },
      "source": [
        "###Sum of squares of numbers in a list"
      ]
    },
    {
      "cell_type": "code",
      "metadata": {
        "colab": {
          "base_uri": "https://localhost:8080/"
        },
        "id": "6szwCcPbx2I3",
        "outputId": "b18c5b84-ae1a-4099-e83a-805b893273b4"
      },
      "source": [
        "def sum_of_squares(nums):\n",
        "    sum = 0\n",
        "    for i in nums:\n",
        "        sum += (i**2)\n",
        "    return sum\n",
        "\n",
        "\n",
        "nums = [1, 2, 3, 4, 5]\n",
        "\n",
        "# 1 + 4 + 9 + 16 + 25 = 55\n",
        "print(\"Sum of squares of numbers in the given list:\", sum_of_squares(nums))\n"
      ],
      "execution_count": 3,
      "outputs": [
        {
          "output_type": "stream",
          "name": "stdout",
          "text": [
            "Sum of squares of numbers in the given list: 55\n"
          ]
        }
      ]
    },
    {
      "cell_type": "markdown",
      "metadata": {
        "id": "13HxUYZjyy6Z"
      },
      "source": [
        "###Count no. of odd numbers in a list "
      ]
    },
    {
      "cell_type": "code",
      "metadata": {
        "colab": {
          "base_uri": "https://localhost:8080/"
        },
        "id": "pkkRxbCCy7i8",
        "outputId": "c22c0129-dbe2-4457-9fb4-abfd66ab057d"
      },
      "source": [
        "def countOdd(lst):\n",
        "    count = 0\n",
        "    for i in lst:\n",
        "        if i % 2 == 1:\n",
        "            count += 1\n",
        "    return count\n",
        "\n",
        "\n",
        "lst = [1, 2, 3, 4, 5]\n",
        "print(\"The no. of odd numbers in the given list:\", countOdd(lst))\n"
      ],
      "execution_count": 4,
      "outputs": [
        {
          "output_type": "stream",
          "name": "stdout",
          "text": [
            "The no. of odd numbers in the given list: 3\n"
          ]
        }
      ]
    },
    {
      "cell_type": "markdown",
      "metadata": {
        "id": "9cLDqvWT1frB"
      },
      "source": [
        "#Recursion"
      ]
    },
    {
      "cell_type": "markdown",
      "metadata": {
        "id": "u_enBxM11jxt"
      },
      "source": [
        "###n-th term in Fibonacci sequence"
      ]
    },
    {
      "cell_type": "code",
      "metadata": {
        "colab": {
          "base_uri": "https://localhost:8080/"
        },
        "id": "4KgM1Cx113Yc",
        "outputId": "f90b2219-923a-4af1-d389-c9aa8997292a"
      },
      "source": [
        "def fibonacci(num):\n",
        "    if num == 0:\n",
        "        return 0\n",
        "    elif num == 1:\n",
        "        return 1\n",
        "    else:\n",
        "        return fibonacci(num-1) + fibonacci(num-2)\n",
        "\n",
        "\n",
        "num = int(input(\"Enter a number: \"))\n",
        "\n",
        "# 1, 1, 2, 3, 5, 8, 13, 21, 34, 55\n",
        "print(f\"The {num}th term in Fibonacci sequence is: {fibonacci(num)}\")\n"
      ],
      "execution_count": 5,
      "outputs": [
        {
          "output_type": "stream",
          "name": "stdout",
          "text": [
            "Enter a number: 10\n",
            "The 10th term in Fibonacci sequence is: 55\n"
          ]
        }
      ]
    },
    {
      "cell_type": "markdown",
      "metadata": {
        "id": "aQVRiqko2PSQ"
      },
      "source": [
        "###Factorial of a number"
      ]
    },
    {
      "cell_type": "code",
      "metadata": {
        "colab": {
          "base_uri": "https://localhost:8080/"
        },
        "id": "RdhCjgGa2RDs",
        "outputId": "0c05ce53-b8f8-495d-b4cc-20eafe216297"
      },
      "source": [
        "def factorial(num):\n",
        "    if num == 1:\n",
        "        return 1\n",
        "    else:\n",
        "        return num * factorial(num-1)\n",
        "\n",
        "\n",
        "num = int(input(\"Enter a number: \"))\n",
        "print(f\"The factorial of {num} is: {factorial(num)}\")\n"
      ],
      "execution_count": 6,
      "outputs": [
        {
          "output_type": "stream",
          "name": "stdout",
          "text": [
            "Enter a number: 6\n",
            "The factorial of 6 is: 720\n"
          ]
        }
      ]
    },
    {
      "cell_type": "markdown",
      "metadata": {
        "id": "gpX5Z8tn2c4M"
      },
      "source": [
        "#Local v/s Global Scope"
      ]
    },
    {
      "cell_type": "code",
      "metadata": {
        "colab": {
          "base_uri": "https://localhost:8080/"
        },
        "id": "JMAHAcv72ivq",
        "outputId": "8b835d96-a940-414e-dcd1-cd01199323de"
      },
      "source": [
        "def func():\n",
        "  x = 10    # Local variable\n",
        "  print(x)\n",
        "\n",
        "x = 20      # Global variable\n",
        "print(x)\n",
        "\n",
        "func()\n"
      ],
      "execution_count": 7,
      "outputs": [
        {
          "output_type": "stream",
          "name": "stdout",
          "text": [
            "20\n",
            "10\n"
          ]
        }
      ]
    },
    {
      "cell_type": "markdown",
      "metadata": {
        "id": "WMcQVr3Q3B22"
      },
      "source": [
        "To access the global variable, we have to use the ***global*** keyword."
      ]
    },
    {
      "cell_type": "code",
      "metadata": {
        "colab": {
          "base_uri": "https://localhost:8080/"
        },
        "id": "SbhVQih03Oau",
        "outputId": "ff9507ec-72e8-4927-9899-a6c541d9c74f"
      },
      "source": [
        "def func():\n",
        "  global x\n",
        "  print(x)\n",
        "\n",
        "x = 20\n",
        "print(x)\n",
        "\n",
        "func()\n"
      ],
      "execution_count": 8,
      "outputs": [
        {
          "output_type": "stream",
          "name": "stdout",
          "text": [
            "20\n",
            "20\n"
          ]
        }
      ]
    },
    {
      "cell_type": "markdown",
      "metadata": {
        "id": "OOzF70hY3lE0"
      },
      "source": [
        "We can also use the ***globals*** dictionary for this purpose."
      ]
    },
    {
      "cell_type": "code",
      "metadata": {
        "colab": {
          "base_uri": "https://localhost:8080/"
        },
        "id": "rpiSRqOL3tDV",
        "outputId": "830c73d1-4640-42c6-b943-e4ff1ef5e936"
      },
      "source": [
        "def func():\n",
        "  x = globals()['x']\n",
        "  print(x)\n",
        "\n",
        "x = 20\n",
        "print(x)\n",
        "\n",
        "func()\n"
      ],
      "execution_count": 9,
      "outputs": [
        {
          "output_type": "stream",
          "name": "stdout",
          "text": [
            "20\n",
            "20\n"
          ]
        }
      ]
    },
    {
      "cell_type": "markdown",
      "metadata": {
        "id": "Xs6br0Yd39Z5"
      },
      "source": [
        "#Lambda Functions"
      ]
    },
    {
      "cell_type": "markdown",
      "metadata": {
        "id": "UaZYnL3X4Aju"
      },
      "source": [
        "###Filter out the even numbers from a list"
      ]
    },
    {
      "cell_type": "code",
      "metadata": {
        "colab": {
          "base_uri": "https://localhost:8080/"
        },
        "id": "6TuZsYlRL6XZ",
        "outputId": "ca802481-ae70-4ed9-cfaf-d07e738112d6"
      },
      "source": [
        "nums = [1, 2, 3, 4, 5, 6, 7, 8, 9]\n",
        "\n",
        "even_nums = list(filter(lambda x: x % 2 == 0, nums))\n",
        "print(even_nums)\n"
      ],
      "execution_count": 10,
      "outputs": [
        {
          "output_type": "stream",
          "name": "stdout",
          "text": [
            "[2, 4, 6, 8]\n"
          ]
        }
      ]
    },
    {
      "cell_type": "markdown",
      "metadata": {
        "id": "EjqVh7XyMpZS"
      },
      "source": [
        "###Cube all the elements of a list "
      ]
    },
    {
      "cell_type": "code",
      "metadata": {
        "colab": {
          "base_uri": "https://localhost:8080/"
        },
        "id": "dkmyrsGzMu3f",
        "outputId": "d5fa9c06-7e67-49f8-ea0b-7b82da8a6997"
      },
      "source": [
        "nums = [1, 2, 3, 4, 5, 6, 7, 8, 9]\n",
        "\n",
        "cubed_nums = list(map(lambda x: x**3, nums))\n",
        "print(cubed_nums)\n"
      ],
      "execution_count": 11,
      "outputs": [
        {
          "output_type": "stream",
          "name": "stdout",
          "text": [
            "[1, 8, 27, 64, 125, 216, 343, 512, 729]\n"
          ]
        }
      ]
    },
    {
      "cell_type": "markdown",
      "metadata": {
        "id": "sYrARKLRNYk5"
      },
      "source": [
        "###Multiply all the elements of a list"
      ]
    },
    {
      "cell_type": "code",
      "metadata": {
        "colab": {
          "base_uri": "https://localhost:8080/"
        },
        "id": "S4rJ_Nh5NdRd",
        "outputId": "8d3b11a7-dba7-4b87-eb8b-be7a69bd25cc"
      },
      "source": [
        "from functools import reduce\n",
        "\n",
        "nums = [1, 2, 3, 4, 5, 6]\n",
        "prod = reduce(lambda x, y: x*y, nums)\n",
        "print(prod)\n"
      ],
      "execution_count": 12,
      "outputs": [
        {
          "output_type": "stream",
          "name": "stdout",
          "text": [
            "720\n"
          ]
        }
      ]
    },
    {
      "cell_type": "markdown",
      "metadata": {
        "id": "kv7om4AmUlfV"
      },
      "source": [
        "###Sort list of tuples containing subjects and marks"
      ]
    },
    {
      "cell_type": "code",
      "metadata": {
        "colab": {
          "base_uri": "https://localhost:8080/"
        },
        "id": "D2Xs8UR3Z_t7",
        "outputId": "4552e80a-cbdc-4f81-f9bb-cf3030c43f54"
      },
      "source": [
        "subject_marks = [('Science', 88), ('History', 90),\n",
        "                 ('English', 97), ('Mathematics', 82)]\n",
        "\n",
        "subject_marks.sort(key=lambda x: x[1], reverse=True)\n",
        "print(\"Sorting the list of tuples:\\n\", subject_marks)\n"
      ],
      "execution_count": 13,
      "outputs": [
        {
          "output_type": "stream",
          "name": "stdout",
          "text": [
            "Sorting the list of tuples:\n",
            " [('English', 97), ('History', 90), ('Science', 88), ('Mathematics', 82)]\n"
          ]
        }
      ]
    },
    {
      "cell_type": "markdown",
      "metadata": {
        "id": "DljmS7BibPen"
      },
      "source": [
        "###Intersection of two lists"
      ]
    },
    {
      "cell_type": "code",
      "metadata": {
        "colab": {
          "base_uri": "https://localhost:8080/"
        },
        "id": "xjgD3yEAbS8C",
        "outputId": "cb8fe351-2528-42f6-98ab-a53ce2d21256"
      },
      "source": [
        "nums1 = [2, 4, 6, 8, 10, 12, 14, 16, 18]\n",
        "nums2 = [3, 6, 9, 12, 15, 18, 21]\n",
        "\n",
        "intersection = list(filter(lambda x: x in nums1, nums2))\n",
        "print(\"Intersection: \", intersection)\n"
      ],
      "execution_count": 14,
      "outputs": [
        {
          "output_type": "stream",
          "name": "stdout",
          "text": [
            "Intersection:  [6, 12, 18]\n"
          ]
        }
      ]
    }
  ]
}